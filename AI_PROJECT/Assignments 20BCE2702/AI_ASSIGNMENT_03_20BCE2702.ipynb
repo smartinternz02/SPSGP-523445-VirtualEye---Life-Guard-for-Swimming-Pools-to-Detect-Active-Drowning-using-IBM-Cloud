{
  "nbformat": 4,
  "nbformat_minor": 0,
  "metadata": {
    "colab": {
      "provenance": [],
      "gpuType": "T4"
    },
    "kernelspec": {
      "name": "python3",
      "display_name": "Python 3"
    },
    "language_info": {
      "name": "python"
    }
  },
  "cells": [
    {
      "cell_type": "markdown",
      "source": [
        "**AI ASSIGNMENT-03 20BCE2702**\n"
      ],
      "metadata": {
        "id": "ADo8ibxzJDoK"
      }
    },
    {
      "cell_type": "code",
      "source": [
        "from google.colab import drive\n",
        "drive.mount('/content/drive')"
      ],
      "metadata": {
        "colab": {
          "base_uri": "https://localhost:8080/"
        },
        "id": "HVYX9o8YWsTF",
        "outputId": "87268cfd-73d4-46cc-96e0-1af9ff6cdc59"
      },
      "execution_count": null,
      "outputs": [
        {
          "output_type": "stream",
          "name": "stdout",
          "text": [
            "Mounted at /content/drive\n"
          ]
        }
      ]
    },
    {
      "cell_type": "markdown",
      "source": [
        "**Unzip the folder**\n",
        "\n"
      ],
      "metadata": {
        "id": "gm9MJ5e9bSf3"
      }
    },
    {
      "cell_type": "code",
      "execution_count": null,
      "metadata": {
        "colab": {
          "base_uri": "https://localhost:8080/"
        },
        "id": "sWQQwL8esP-b",
        "outputId": "02dbc3b1-c91e-4d6f-d303-ff538f25bf99"
      },
      "outputs": [
        {
          "output_type": "stream",
          "name": "stdout",
          "text": [
            "Archive:  /content/drive/MyDrive/ssd/archive (1).zip\n",
            "  inflating: test_data/test_data/blasti/DSC_6396.jpg  \n",
            "  inflating: test_data/test_data/blasti/DSC_6397.jpg  \n",
            "  inflating: test_data/test_data/blasti/DSC_6398.jpg  \n",
            "  inflating: test_data/test_data/blasti/DSC_6399.jpg  \n",
            "  inflating: test_data/test_data/blasti/DSC_6400.jpg  \n",
            "  inflating: test_data/test_data/blasti/DSC_6401.jpg  \n",
            "  inflating: test_data/test_data/blasti/DSC_6402.jpg  \n",
            "  inflating: test_data/test_data/blasti/DSC_6403.jpg  \n",
            "  inflating: test_data/test_data/blasti/DSC_6405.jpg  \n",
            "  inflating: test_data/test_data/blasti/DSC_6406.jpg  \n",
            "  inflating: test_data/test_data/blasti/DSC_6407.jpg  \n",
            "  inflating: test_data/test_data/blasti/DSC_6408.jpg  \n",
            "  inflating: test_data/test_data/blasti/DSC_6409.jpg  \n",
            "  inflating: test_data/test_data/blasti/DSC_6410.jpg  \n",
            "  inflating: test_data/test_data/blasti/DSC_6411.jpg  \n",
            "  inflating: test_data/test_data/bonegl/DSC_4587.jpg  \n",
            "  inflating: test_data/test_data/bonegl/DSC_4588.jpg  \n",
            "  inflating: test_data/test_data/bonegl/DSC_4589.jpg  \n",
            "  inflating: test_data/test_data/bonegl/DSC_4590.jpg  \n",
            "  inflating: test_data/test_data/bonegl/DSC_4591.jpg  \n",
            "  inflating: test_data/test_data/bonegl/DSC_4592.jpg  \n",
            "  inflating: test_data/test_data/bonegl/DSC_4593.jpg  \n",
            "  inflating: test_data/test_data/brhkyt/D72_0473.jpg  \n",
            "  inflating: test_data/test_data/brhkyt/D72_0474.jpg  \n",
            "  inflating: test_data/test_data/brhkyt/D72_0475.jpg  \n",
            "  inflating: test_data/test_data/brhkyt/D72_0477.jpg  \n",
            "  inflating: test_data/test_data/brhkyt/D72_0478.jpg  \n",
            "  inflating: test_data/test_data/brhkyt/D72_0479.jpg  \n",
            "  inflating: test_data/test_data/cbrtsh/_D32_10310.jpg  \n",
            "  inflating: test_data/test_data/cbrtsh/_D32_10311.jpg  \n",
            "  inflating: test_data/test_data/cbrtsh/_D32_10312.jpg  \n",
            "  inflating: test_data/test_data/cbrtsh/_D32_10313.jpg  \n",
            "  inflating: test_data/test_data/cbrtsh/_D32_10314.jpg  \n",
            "  inflating: test_data/test_data/cbrtsh/_D32_10317.jpg  \n",
            "  inflating: test_data/test_data/cbrtsh/_D32_10318.jpg  \n",
            "  inflating: test_data/test_data/cmnmyn/DSC_2443.jpg  \n",
            "  inflating: test_data/test_data/cmnmyn/DSC_4681.jpg  \n",
            "  inflating: test_data/test_data/cmnmyn/DSC_5137.jpg  \n",
            "  inflating: test_data/test_data/cmnmyn/DSC_7625.jpg  \n",
            "  inflating: test_data/test_data/cmnmyn/P1050277.jpg  \n",
            "  inflating: test_data/test_data/cmnmyn/_D32_12426.jpg  \n",
            "  inflating: test_data/test_data/cmnmyn/_D32_12427.jpg  \n",
            "  inflating: test_data/test_data/cmnmyn/_D32_12428.jpg  \n",
            "  inflating: test_data/test_data/gretit/11620454726_31a35c26da_o.jpg  \n",
            "  inflating: test_data/test_data/gretit/11776135285_ccf938fa2e_o.jpg  \n",
            "  inflating: test_data/test_data/gretit/11905645146_6a5d4ff9f9_o.jpg  \n",
            "  inflating: test_data/test_data/gretit/8537646712_0b282c4c6a_o.jpg  \n",
            "  inflating: test_data/test_data/gretit/D72_0693.jpg  \n",
            "  inflating: test_data/test_data/gretit/D72_0694.jpg  \n",
            "  inflating: test_data/test_data/gretit/D72_0695.jpg  \n",
            "  inflating: test_data/test_data/hilpig/DSC_6359.jpg  \n",
            "  inflating: test_data/test_data/hilpig/DSC_6362.jpg  \n",
            "  inflating: test_data/test_data/hilpig/DSC_6364.jpg  \n",
            "  inflating: test_data/test_data/hilpig/DSC_6368.jpg  \n",
            "  inflating: test_data/test_data/hilpig/DSC_6403.jpg  \n",
            "  inflating: test_data/test_data/hilpig/DSC_6404.jpg  \n",
            "  inflating: test_data/test_data/hilpig/P1000319.jpg  \n",
            "  inflating: test_data/test_data/hilpig/P1000323.jpg  \n",
            "  inflating: test_data/test_data/hilpig/P1050044.jpg  \n",
            "  inflating: test_data/test_data/hilpig/P1050045.jpg  \n",
            "  inflating: test_data/test_data/himbul/11602064885_3826df4500_o.jpg  \n",
            "  inflating: test_data/test_data/himbul/11619942574_42f23a7b05_o.jpg  \n",
            "  inflating: test_data/test_data/himbul/11620097904_33fa8ee878_o.jpg  \n",
            "  inflating: test_data/test_data/himbul/5857371972_ed4f88b275_o.jpg  \n",
            "  inflating: test_data/test_data/himbul/6154954471_eefe6e00d1_o.jpg  \n",
            "  inflating: test_data/test_data/himbul/D72_0688.jpg  \n",
            "  inflating: test_data/test_data/himbul/D72_0691.jpg  \n",
            "  inflating: test_data/test_data/himbul/DSC08357.jpg  \n",
            "  inflating: test_data/test_data/himbul/DSC_3230.jpg  \n",
            "  inflating: test_data/test_data/himbul/DSC_7439.jpg  \n",
            "  inflating: test_data/test_data/himbul/DSC_7602.jpg  \n",
            "  inflating: test_data/test_data/himbul/P1060368.jpg  \n",
            "  inflating: test_data/test_data/himbul/P1060369.jpg  \n",
            "  inflating: test_data/test_data/himbul/_D32_10242.jpg  \n",
            "  inflating: test_data/test_data/himbul/_D32_10245.jpg  \n",
            "  inflating: test_data/test_data/himbul/_D32_10251.jpg  \n",
            "  inflating: test_data/test_data/himbul/_D32_10319.jpg  \n",
            "  inflating: test_data/test_data/himbul/_D32_10320.jpg  \n",
            "  inflating: test_data/test_data/himbul/_DSC9446.jpg  \n",
            "  inflating: test_data/test_data/himgri/IMG_5384.JPG  \n",
            "  inflating: test_data/test_data/himgri/IMG_5385.JPG  \n",
            "  inflating: test_data/test_data/himgri/IMG_5386.JPG  \n",
            "  inflating: test_data/test_data/himgri/IMG_5387.JPG  \n",
            "  inflating: test_data/test_data/himgri/IMG_5459.JPG  \n",
            "  inflating: test_data/test_data/himgri/IMG_5460.JPG  \n",
            "  inflating: test_data/test_data/himgri/IMG_5487.JPG  \n",
            "  inflating: test_data/test_data/himgri/IMG_5488.JPG  \n",
            "  inflating: test_data/test_data/himgri/IMG_5489.JPG  \n",
            "  inflating: test_data/test_data/himgri/IMG_5490.JPG  \n",
            "  inflating: test_data/test_data/himgri/IMG_5491.JPG  \n",
            "  inflating: test_data/test_data/himgri/IMG_5492.JPG  \n",
            "  inflating: test_data/test_data/himgri/P1020742.jpg  \n",
            "  inflating: test_data/test_data/himgri/P1020743.jpg  \n",
            "  inflating: test_data/test_data/himgri/P1020746.jpg  \n",
            "  inflating: test_data/test_data/himgri/P1020748.jpg  \n",
            "  inflating: test_data/test_data/himgri/P1030055.jpg  \n",
            "  inflating: test_data/test_data/himgri/P1060776.jpg  \n",
            "  inflating: test_data/test_data/himgri/P1060777.jpg  \n",
            "  inflating: test_data/test_data/himgri/P1060778.jpg  \n",
            "  inflating: test_data/test_data/hsparo/100_5573.JPG  \n",
            "  inflating: test_data/test_data/hsparo/100_5585.JPG  \n",
            "  inflating: test_data/test_data/hsparo/100_5586.JPG  \n",
            "  inflating: test_data/test_data/hsparo/100_5742.JPG  \n",
            "  inflating: test_data/test_data/hsparo/12265273154_48e0fefd42_o.jpg  \n",
            "  inflating: test_data/test_data/hsparo/DSC_4521.jpg  \n",
            "  inflating: test_data/test_data/hsparo/DSC_7619.jpg  \n",
            "  inflating: test_data/test_data/hsparo/_DSC_11244.jpg  \n",
            "  inflating: test_data/test_data/hsparo/_DSC_11246.jpg  \n",
            "  inflating: test_data/test_data/indvul/DSC_1263.jpg  \n",
            "  inflating: test_data/test_data/indvul/DSC_1273.jpg  \n",
            "  inflating: test_data/test_data/indvul/DSC_1274.jpg  \n",
            "  inflating: test_data/test_data/indvul/DSC_1275.jpg  \n",
            "  inflating: test_data/test_data/indvul/DSC_1277.jpg  \n",
            "  inflating: test_data/test_data/indvul/_DSC8754.jpg  \n",
            "  inflating: test_data/test_data/indvul/_DSC9520.jpg  \n",
            "  inflating: test_data/test_data/indvul/_DSC9521.jpg  \n",
            "  inflating: test_data/test_data/indvul/_DSC9523.jpg  \n",
            "  inflating: test_data/test_data/jglowl/_D32_10584.jpg  \n",
            "  inflating: test_data/test_data/jglowl/_D32_10587.jpg  \n",
            "  inflating: test_data/test_data/jglowl/_D32_10593.jpg  \n",
            "  inflating: test_data/test_data/jglowl/_D32_13515.jpg  \n",
            "  inflating: test_data/test_data/jglowl/_D32_13516.jpg  \n",
            "  inflating: test_data/test_data/jglowl/_D32_13517.jpg  \n",
            "  inflating: test_data/test_data/lbicrw/100_4917.JPG  \n",
            "  inflating: test_data/test_data/lbicrw/IMG_5538.JPG  \n",
            "  inflating: test_data/test_data/lbicrw/IMG_5541.JPG  \n",
            "  inflating: test_data/test_data/lbicrw/IMG_5543.JPG  \n",
            "  inflating: test_data/test_data/lbicrw/IMG_5544.JPG  \n",
            "  inflating: test_data/test_data/lbicrw/P1030030.jpg  \n",
            "  inflating: test_data/test_data/mgprob/100_5811.JPG  \n",
            "  inflating: test_data/test_data/mgprob/100_5812.JPG  \n",
            "  inflating: test_data/test_data/mgprob/100_5813.JPG  \n",
            "  inflating: test_data/test_data/mgprob/DSC_3233.jpg  \n",
            "  inflating: test_data/test_data/mgprob/_DSC0085.jpg  \n",
            "  inflating: test_data/test_data/mgprob/_DSC0133.jpg  \n",
            "  inflating: test_data/test_data/mgprob/_DSC0135.jpg  \n",
            "  inflating: test_data/test_data/rebimg/100_5756.JPG  \n",
            "  inflating: test_data/test_data/rebimg/100_5757.JPG  \n",
            "  inflating: test_data/test_data/rebimg/100_5758.JPG  \n",
            "  inflating: test_data/test_data/rebimg/100_5759.JPG  \n",
            "  inflating: test_data/test_data/rebimg/100_5760.JPG  \n",
            "  inflating: test_data/test_data/rebimg/13009302395_5d88a9d62b_o.jpg  \n",
            "  inflating: test_data/test_data/rebimg/13009315305_f1cbfb6767_o.jpg  \n",
            "  inflating: test_data/test_data/rebimg/13009451823_8eb502581f_o.jpg  \n",
            "  inflating: test_data/test_data/rebimg/DSC_7148.jpg  \n",
            "  inflating: test_data/test_data/rebimg/IMG_5251.JPG  \n",
            "  inflating: test_data/test_data/rebimg/IMG_5252.JPG  \n",
            "  inflating: test_data/test_data/wcrsrt/100_4462.JPG  \n",
            "  inflating: test_data/test_data/wcrsrt/100_4463.JPG  \n",
            "  inflating: test_data/test_data/wcrsrt/100_4464.JPG  \n",
            "  inflating: test_data/test_data/wcrsrt/100_4466.JPG  \n",
            "  inflating: test_data/test_data/wcrsrt/100_4467.JPG  \n",
            "  inflating: test_data/test_data/wcrsrt/100_4468.JPG  \n",
            "  inflating: test_data/test_data/wcrsrt/100_5103.JPG  \n",
            "  inflating: test_data/test_data/wcrsrt/100_5105.JPG  \n",
            "  inflating: test_data/test_data/wcrsrt/11382677585_ef6570a041_o.jpg  \n",
            "  inflating: test_data/test_data/wcrsrt/11382746854_7ce73793b3_o.jpg  \n",
            "  inflating: train_data/train_data/blasti/DSC_6382.jpg  \n",
            "  inflating: train_data/train_data/blasti/DSC_6383.jpg  \n",
            "  inflating: train_data/train_data/blasti/DSC_6384-2.jpg  \n",
            "  inflating: train_data/train_data/blasti/DSC_6384.jpg  \n",
            "  inflating: train_data/train_data/blasti/DSC_6385.jpg  \n",
            "  inflating: train_data/train_data/blasti/DSC_6386.jpg  \n",
            "  inflating: train_data/train_data/blasti/DSC_6387.jpg  \n",
            "  inflating: train_data/train_data/blasti/DSC_6388.jpg  \n",
            "  inflating: train_data/train_data/blasti/DSC_6389.jpg  \n",
            "  inflating: train_data/train_data/blasti/DSC_6390.jpg  \n",
            "  inflating: train_data/train_data/blasti/DSC_6391.jpg  \n",
            "  inflating: train_data/train_data/blasti/DSC_6392.jpg  \n",
            "  inflating: train_data/train_data/blasti/DSC_6393.jpg  \n",
            "  inflating: train_data/train_data/blasti/DSC_6394.jpg  \n",
            "  inflating: train_data/train_data/blasti/DSC_6395.jpg  \n",
            "  inflating: train_data/train_data/bonegl/DSC_4570.jpg  \n",
            "  inflating: train_data/train_data/bonegl/DSC_4571.jpg  \n",
            "  inflating: train_data/train_data/bonegl/DSC_4583.jpg  \n",
            "  inflating: train_data/train_data/bonegl/DSC_4584.jpg  \n",
            "  inflating: train_data/train_data/bonegl/DSC_4585.jpg  \n",
            "  inflating: train_data/train_data/bonegl/DSC_4586.jpg  \n",
            "  inflating: train_data/train_data/brhkyt/D72_0400.jpg  \n",
            "  inflating: train_data/train_data/brhkyt/D72_0401.jpg  \n",
            "  inflating: train_data/train_data/brhkyt/D72_0470.jpg  \n",
            "  inflating: train_data/train_data/brhkyt/D72_0471.jpg  \n",
            "  inflating: train_data/train_data/brhkyt/D72_0472.jpg  \n",
            "  inflating: train_data/train_data/cbrtsh/100_5097.JPG  \n",
            "  inflating: train_data/train_data/cbrtsh/_D32_10303.jpg  \n",
            "  inflating: train_data/train_data/cbrtsh/_D32_10305.jpg  \n",
            "  inflating: train_data/train_data/cbrtsh/_D32_10306.jpg  \n",
            "  inflating: train_data/train_data/cbrtsh/_D32_10307.jpg  \n",
            "  inflating: train_data/train_data/cbrtsh/_D32_10308.jpg  \n",
            "  inflating: train_data/train_data/cbrtsh/_D32_10309.jpg  \n",
            "  inflating: train_data/train_data/cmnmyn/100_5763.JPG  \n",
            "  inflating: train_data/train_data/cmnmyn/5866682091_870ccc946c_o.jpg  \n",
            "  inflating: train_data/train_data/cmnmyn/6154956165_64266b8b53_o.jpg  \n",
            "  inflating: train_data/train_data/cmnmyn/DSCN5784.jpg  \n",
            "  inflating: train_data/train_data/cmnmyn/DSCN5787.jpg  \n",
            "  inflating: train_data/train_data/cmnmyn/DSCN5790.jpg  \n",
            "  inflating: train_data/train_data/cmnmyn/DSCN5791.jpg  \n",
            "  inflating: train_data/train_data/gretit/100_5042.JPG  \n",
            "  inflating: train_data/train_data/gretit/100_5043.JPG  \n",
            "  inflating: train_data/train_data/gretit/100_5044.JPG  \n",
            "  inflating: train_data/train_data/gretit/100_5045.JPG  \n",
            "  inflating: train_data/train_data/gretit/100_5046.JPG  \n",
            "  inflating: train_data/train_data/gretit/100_5047.JPG  \n",
            "  inflating: train_data/train_data/hilpig/DSC_6272.jpg  \n",
            "  inflating: train_data/train_data/hilpig/DSC_6273.jpg  \n",
            "  inflating: train_data/train_data/hilpig/DSC_6274.jpg  \n",
            "  inflating: train_data/train_data/hilpig/DSC_6275.jpg  \n",
            "  inflating: train_data/train_data/hilpig/DSC_6350.jpg  \n",
            "  inflating: train_data/train_data/hilpig/DSC_6351.jpg  \n",
            "  inflating: train_data/train_data/hilpig/DSC_6352.jpg  \n",
            "  inflating: train_data/train_data/hilpig/DSC_6353.jpg  \n",
            "  inflating: train_data/train_data/hilpig/DSC_6354.jpg  \n",
            "  inflating: train_data/train_data/hilpig/DSC_6358.jpg  \n",
            "  inflating: train_data/train_data/himbul/100_5028.JPG  \n",
            "  inflating: train_data/train_data/himbul/100_5029.JPG  \n",
            "  inflating: train_data/train_data/himbul/100_5096.JPG  \n",
            "  inflating: train_data/train_data/himbul/100_5099.JPG  \n",
            "  inflating: train_data/train_data/himbul/100_5100.JPG  \n",
            "  inflating: train_data/train_data/himbul/100_5102.JPG  \n",
            "  inflating: train_data/train_data/himbul/100_5110.JPG  \n",
            "  inflating: train_data/train_data/himbul/100_5112.JPG  \n",
            "  inflating: train_data/train_data/himbul/100_5113.JPG  \n",
            "  inflating: train_data/train_data/himbul/100_5159.JPG  \n",
            "  inflating: train_data/train_data/himbul/100_5160.JPG  \n",
            "  inflating: train_data/train_data/himbul/100_5161.JPG  \n",
            "  inflating: train_data/train_data/himbul/100_5162.JPG  \n",
            "  inflating: train_data/train_data/himbul/10774570945_9bc537c255_o.jpg  \n",
            "  inflating: train_data/train_data/himbul/11383838134_96e891a316_o.jpg  \n",
            "  inflating: train_data/train_data/himbul/11383857084_cdd7514746_o.jpg  \n",
            "  inflating: train_data/train_data/himbul/11387473723_464965720a_o.jpg  \n",
            "  inflating: train_data/train_data/himbul/9007817678_24db19fc63_o.jpg  \n",
            "  inflating: train_data/train_data/himgri/12029790563_2fe54a68aa_o.jpg  \n",
            "  inflating: train_data/train_data/himgri/12029822653_1185544e7b_o.jpg  \n",
            "  inflating: train_data/train_data/himgri/12029933015_802428e277_o.jpg  \n",
            "  inflating: train_data/train_data/himgri/12029987304_031b7a2d53_o.jpg  \n",
            "  inflating: train_data/train_data/himgri/12030165813_f5341e8ed0_o.jpg  \n",
            "  inflating: train_data/train_data/himgri/12030221124_1baaf905d1_o.jpg  \n",
            "  inflating: train_data/train_data/himgri/12030269234_1c3f5a8e8c_o.jpg  \n",
            "  inflating: train_data/train_data/himgri/12152037683_13e1556c41_o.jpg  \n",
            "  inflating: train_data/train_data/himgri/12152178844_dc29e3126f_o.jpg  \n",
            "  inflating: train_data/train_data/himgri/12152510436_23b62fed3b_o.jpg  \n",
            "  inflating: train_data/train_data/himgri/12265055185_138e3c7c70_o.jpg  \n",
            "  inflating: train_data/train_data/himgri/12265498144_d2e80faa3b_o.jpg  \n",
            "  inflating: train_data/train_data/himgri/12265561764_4814951031_o.jpg  \n",
            "  inflating: train_data/train_data/himgri/12265582724_61cb64e73a_o.jpg  \n",
            "  inflating: train_data/train_data/himgri/12265738206_2b9b25cc8a_o.jpg  \n",
            "  inflating: train_data/train_data/himgri/12265747116_d4b4fa3741_o.jpg  \n",
            "  inflating: train_data/train_data/himgri/12266053036_fcab92d8e8_o.jpg  \n",
            "  inflating: train_data/train_data/himgri/12266077576_1d7143aaf7_o.jpg  \n",
            "  inflating: train_data/train_data/himgri/12266086526_82cd337667_o.jpg  \n",
            "  inflating: train_data/train_data/himgri/IMG_5463.JPG  \n",
            "  inflating: train_data/train_data/hsparo/100_4757.JPG  \n",
            "  inflating: train_data/train_data/hsparo/100_4758.JPG  \n",
            "  inflating: train_data/train_data/hsparo/100_5039.JPG  \n",
            "  inflating: train_data/train_data/hsparo/100_5040.JPG  \n",
            "  inflating: train_data/train_data/hsparo/100_5041.JPG  \n",
            "  inflating: train_data/train_data/hsparo/100_5048.JPG  \n",
            "  inflating: train_data/train_data/hsparo/100_5049.JPG  \n",
            "  inflating: train_data/train_data/hsparo/100_5050.JPG  \n",
            "  inflating: train_data/train_data/hsparo/100_5572.JPG  \n",
            "  inflating: train_data/train_data/indvul/DSC_0502.jpg  \n",
            "  inflating: train_data/train_data/indvul/DSC_0571e.jpg  \n",
            "  inflating: train_data/train_data/indvul/DSC_0572.jpg  \n",
            "  inflating: train_data/train_data/indvul/DSC_0576e.jpg  \n",
            "  inflating: train_data/train_data/indvul/DSC_0582.jpg  \n",
            "  inflating: train_data/train_data/indvul/DSC_0583e.jpg  \n",
            "  inflating: train_data/train_data/indvul/DSC_0584.jpg  \n",
            "  inflating: train_data/train_data/indvul/DSC_0616c.jpg  \n",
            "  inflating: train_data/train_data/indvul/DSC_0617.jpg  \n",
            "  inflating: train_data/train_data/jglowl/12152151476_7a1524aabb_o.jpg  \n",
            "  inflating: train_data/train_data/jglowl/DSC01335.jpg  \n",
            "  inflating: train_data/train_data/jglowl/DSC01336.jpg  \n",
            "  inflating: train_data/train_data/jglowl/_D32_10285.jpg  \n",
            "  inflating: train_data/train_data/jglowl/_D32_10578.jpg  \n",
            "  inflating: train_data/train_data/jglowl/_D32_10583.jpg  \n",
            "  inflating: train_data/train_data/lbicrw/100_4037.JPG  \n",
            "  inflating: train_data/train_data/lbicrw/100_4912.JPG  \n",
            "  inflating: train_data/train_data/lbicrw/100_4913.JPG  \n",
            "  inflating: train_data/train_data/lbicrw/100_4914.JPG  \n",
            "  inflating: train_data/train_data/lbicrw/100_4915.JPG  \n",
            "  inflating: train_data/train_data/lbicrw/100_4916.JPG  \n",
            "  inflating: train_data/train_data/mgprob/100_5587.JPG  \n",
            "  inflating: train_data/train_data/mgprob/100_5588.JPG  \n",
            "  inflating: train_data/train_data/mgprob/100_5589.JPG  \n",
            "  inflating: train_data/train_data/mgprob/100_5590.JPG  \n",
            "  inflating: train_data/train_data/mgprob/100_5592.JPG  \n",
            "  inflating: train_data/train_data/mgprob/100_5762.JPG  \n",
            "  inflating: train_data/train_data/rebimg/100_5744.JPG  \n",
            "  inflating: train_data/train_data/rebimg/100_5745.JPG  \n",
            "  inflating: train_data/train_data/rebimg/100_5746.JPG  \n",
            "  inflating: train_data/train_data/rebimg/100_5748.JPG  \n",
            "  inflating: train_data/train_data/rebimg/100_5749.JPG  \n",
            "  inflating: train_data/train_data/rebimg/100_5750.JPG  \n",
            "  inflating: train_data/train_data/rebimg/100_5751.JPG  \n",
            "  inflating: train_data/train_data/rebimg/100_5752.JPG  \n",
            "  inflating: train_data/train_data/rebimg/100_5754.JPG  \n",
            "  inflating: train_data/train_data/rebimg/100_5755.JPG  \n",
            "  inflating: train_data/train_data/wcrsrt/100_4452.JPG  \n",
            "  inflating: train_data/train_data/wcrsrt/100_4453.JPG  \n",
            "  inflating: train_data/train_data/wcrsrt/100_4454.JPG  \n",
            "  inflating: train_data/train_data/wcrsrt/100_4455.JPG  \n",
            "  inflating: train_data/train_data/wcrsrt/100_4456.JPG  \n",
            "  inflating: train_data/train_data/wcrsrt/100_4457.JPG  \n",
            "  inflating: train_data/train_data/wcrsrt/100_4458.JPG  \n",
            "  inflating: train_data/train_data/wcrsrt/100_4459.JPG  \n",
            "  inflating: train_data/train_data/wcrsrt/100_4460.JPG  \n",
            "  inflating: train_data/train_data/wcrsrt/100_4461.JPG  \n"
          ]
        }
      ],
      "source": [
        "!unzip '/content/drive/MyDrive/ssd/archive (1).zip'"
      ]
    },
    {
      "cell_type": "code",
      "source": [
        "# Import req lib\n",
        "from tensorflow.keras.layers import Dense,Flatten,Input\n",
        "from tensorflow.keras.models import Model\n",
        "from tensorflow.keras.preprocessing import image\n",
        "from tensorflow.keras.preprocessing.image import ImageDataGenerator, load_img\n",
        "import numpy as np"
      ],
      "metadata": {
        "id": "a0_2M0jNCzTW"
      },
      "execution_count": null,
      "outputs": []
    },
    {
      "cell_type": "code",
      "source": [
        "train_path = \"/content/train_data/train_data\"\n",
        "test_path = \"/content/test_data/test_data\""
      ],
      "metadata": {
        "id": "6ELjJG-XDntc"
      },
      "execution_count": null,
      "outputs": []
    },
    {
      "cell_type": "markdown",
      "source": [
        "**Data augumentation --> Converting one image into multiple images**"
      ],
      "metadata": {
        "id": "-rzJSmRuZorP"
      }
    },
    {
      "cell_type": "code",
      "source": [
        "train_gen = ImageDataGenerator(rescale=(1./255),horizontal_flip=True,shear_range=0.2)\n",
        "test_gen = ImageDataGenerator(rescale=(1./255))  #--> (0 to 255) convert to (0 to 1)"
      ],
      "metadata": {
        "id": "XkfTIw0x2BrP"
      },
      "execution_count": null,
      "outputs": []
    },
    {
      "cell_type": "code",
      "source": [
        "train = train_gen.flow_from_directory('/content/train_data/train_data',\n",
        "                                      target_size=(224, 224),\n",
        "                                      class_mode='categorical',\n",
        "                                      batch_size=22)\n",
        "test = test_gen.flow_from_directory('/content/test_data/test_data',\n",
        "                                    target_size=(224, 224),\n",
        "                                      class_mode='categorical',\n",
        "                                      batch_size=22)"
      ],
      "metadata": {
        "colab": {
          "base_uri": "https://localhost:8080/"
        },
        "id": "NDYmhnHH3N_a",
        "outputId": "6f0a5879-8e7c-410f-c133-056e6bdd28be"
      },
      "execution_count": null,
      "outputs": [
        {
          "output_type": "stream",
          "name": "stdout",
          "text": [
            "Found 150 images belonging to 16 classes.\n",
            "Found 157 images belonging to 16 classes.\n"
          ]
        }
      ]
    },
    {
      "cell_type": "code",
      "source": [
        "train.class_indices"
      ],
      "metadata": {
        "id": "fg7Q_9Zj879m",
        "colab": {
          "base_uri": "https://localhost:8080/"
        },
        "outputId": "62511078-f18f-43e4-e18d-03283dba7431"
      },
      "execution_count": null,
      "outputs": [
        {
          "output_type": "execute_result",
          "data": {
            "text/plain": [
              "{'blasti': 0,\n",
              " 'bonegl': 1,\n",
              " 'brhkyt': 2,\n",
              " 'cbrtsh': 3,\n",
              " 'cmnmyn': 4,\n",
              " 'gretit': 5,\n",
              " 'hilpig': 6,\n",
              " 'himbul': 7,\n",
              " 'himgri': 8,\n",
              " 'hsparo': 9,\n",
              " 'indvul': 10,\n",
              " 'jglowl': 11,\n",
              " 'lbicrw': 12,\n",
              " 'mgprob': 13,\n",
              " 'rebimg': 14,\n",
              " 'wcrsrt': 15}"
            ]
          },
          "metadata": {},
          "execution_count": 7
        }
      ]
    },
    {
      "cell_type": "markdown",
      "source": [
        "**Transfer Learning**"
      ],
      "metadata": {
        "id": "0qVhx1x-YTHt"
      }
    },
    {
      "cell_type": "code",
      "source": [
        "\"\"\"\n",
        "1. VGG16\n",
        "2. ResNet50\n",
        "3. Inseption\n",
        "4. Xception\n",
        "\"\"\""
      ],
      "metadata": {
        "colab": {
          "base_uri": "https://localhost:8080/",
          "height": 35
        },
        "id": "hM-T2JYSYY6F",
        "outputId": "45c01784-edcc-4fe0-b30a-8ff8b3349d70"
      },
      "execution_count": null,
      "outputs": [
        {
          "output_type": "execute_result",
          "data": {
            "text/plain": [
              "'\\n1. VGG16\\n2. ResNet50\\n3. Inseption\\n4. Xception\\n'"
            ],
            "application/vnd.google.colaboratory.intrinsic+json": {
              "type": "string"
            }
          },
          "metadata": {},
          "execution_count": 1
        }
      ]
    },
    {
      "cell_type": "markdown",
      "source": [
        "**VGG16**"
      ],
      "metadata": {
        "id": "xaBrHE36Yf5x"
      }
    },
    {
      "cell_type": "code",
      "source": [
        "from tensorflow.keras.applications.vgg16 import VGG16, preprocess_input"
      ],
      "metadata": {
        "id": "-b7zJCz4EIP9"
      },
      "execution_count": null,
      "outputs": []
    },
    {
      "cell_type": "code",
      "source": [
        "# Adding the preprocessing layer to the front of vgg\n",
        "\n",
        "vgg = VGG16(include_top=False,weights='imagenet',input_shape=(224,224,3))"
      ],
      "metadata": {
        "id": "31y7hfpNEK-S",
        "colab": {
          "base_uri": "https://localhost:8080/"
        },
        "outputId": "e7848e0b-4908-43cd-fa5e-8d44441c9bbd"
      },
      "execution_count": null,
      "outputs": [
        {
          "output_type": "stream",
          "name": "stdout",
          "text": [
            "Downloading data from https://storage.googleapis.com/tensorflow/keras-applications/vgg16/vgg16_weights_tf_dim_ordering_tf_kernels_notop.h5\n",
            "58889256/58889256 [==============================] - 4s 0us/step\n"
          ]
        }
      ]
    },
    {
      "cell_type": "code",
      "source": [
        "# Train model with existing weights\n",
        "\n",
        "for layer in vgg.layers:\n",
        "  print(layer)"
      ],
      "metadata": {
        "colab": {
          "base_uri": "https://localhost:8080/"
        },
        "id": "qNQHbDxUEQ6A",
        "outputId": "87e76a7e-79b3-4e4f-fcfd-b097c5d9b8b0"
      },
      "execution_count": null,
      "outputs": [
        {
          "output_type": "stream",
          "name": "stdout",
          "text": [
            "<keras.engine.input_layer.InputLayer object at 0x7ff7c3dbd3f0>\n",
            "<keras.layers.convolutional.conv2d.Conv2D object at 0x7ff7c3dbeb30>\n",
            "<keras.layers.convolutional.conv2d.Conv2D object at 0x7ff7c3dbe350>\n",
            "<keras.layers.pooling.max_pooling2d.MaxPooling2D object at 0x7ff7c3dbf220>\n",
            "<keras.layers.convolutional.conv2d.Conv2D object at 0x7ff7c3dbffd0>\n",
            "<keras.layers.convolutional.conv2d.Conv2D object at 0x7ff7c3c84610>\n",
            "<keras.layers.pooling.max_pooling2d.MaxPooling2D object at 0x7ff7c3c86080>\n",
            "<keras.layers.convolutional.conv2d.Conv2D object at 0x7ff7c3c86bc0>\n",
            "<keras.layers.convolutional.conv2d.Conv2D object at 0x7ff7c3c87160>\n",
            "<keras.layers.convolutional.conv2d.Conv2D object at 0x7ff7c3c87d00>\n",
            "<keras.layers.pooling.max_pooling2d.MaxPooling2D object at 0x7ff7c3c87b20>\n",
            "<keras.layers.convolutional.conv2d.Conv2D object at 0x7ff7c3c87f10>\n",
            "<keras.layers.convolutional.conv2d.Conv2D object at 0x7ff7c013da80>\n",
            "<keras.layers.convolutional.conv2d.Conv2D object at 0x7ff7c013eaa0>\n",
            "<keras.layers.pooling.max_pooling2d.MaxPooling2D object at 0x7ff7c013fb50>\n",
            "<keras.layers.convolutional.conv2d.Conv2D object at 0x7ff7c013d1b0>\n",
            "<keras.layers.convolutional.conv2d.Conv2D object at 0x7ff7c013fe50>\n",
            "<keras.layers.convolutional.conv2d.Conv2D object at 0x7ff7c013e8f0>\n",
            "<keras.layers.pooling.max_pooling2d.MaxPooling2D object at 0x7ff7c01520e0>\n"
          ]
        }
      ]
    },
    {
      "cell_type": "code",
      "source": [
        "\n",
        "# Train model with existing weights\n",
        "\n",
        "for layer in vgg.layers:\n",
        "  layer.trainable=False"
      ],
      "metadata": {
        "id": "IsMcwht2EX2Z"
      },
      "execution_count": null,
      "outputs": []
    },
    {
      "cell_type": "code",
      "source": [
        "x = Flatten()(vgg.output)"
      ],
      "metadata": {
        "id": "yip-jxaxEblw"
      },
      "execution_count": null,
      "outputs": []
    },
    {
      "cell_type": "code",
      "source": [
        "# output layer\n",
        "\n",
        "prediction = Dense(16,activation='softmax')(x)"
      ],
      "metadata": {
        "id": "PpN5oTo2Eef1"
      },
      "execution_count": null,
      "outputs": []
    },
    {
      "cell_type": "code",
      "source": [
        "# Create Vgg16 model\n",
        "\n",
        "model = Model(inputs=vgg.input,outputs=prediction)"
      ],
      "metadata": {
        "id": "WitI-akaEjH1"
      },
      "execution_count": null,
      "outputs": []
    },
    {
      "cell_type": "code",
      "source": [
        "model.summary()"
      ],
      "metadata": {
        "colab": {
          "base_uri": "https://localhost:8080/"
        },
        "id": "JSsb1PR8EouX",
        "outputId": "ad1871ac-568d-43ac-8421-e28273c235ba"
      },
      "execution_count": null,
      "outputs": [
        {
          "output_type": "stream",
          "name": "stdout",
          "text": [
            "Model: \"model\"\n",
            "_________________________________________________________________\n",
            " Layer (type)                Output Shape              Param #   \n",
            "=================================================================\n",
            " input_1 (InputLayer)        [(None, 224, 224, 3)]     0         \n",
            "                                                                 \n",
            " block1_conv1 (Conv2D)       (None, 224, 224, 64)      1792      \n",
            "                                                                 \n",
            " block1_conv2 (Conv2D)       (None, 224, 224, 64)      36928     \n",
            "                                                                 \n",
            " block1_pool (MaxPooling2D)  (None, 112, 112, 64)      0         \n",
            "                                                                 \n",
            " block2_conv1 (Conv2D)       (None, 112, 112, 128)     73856     \n",
            "                                                                 \n",
            " block2_conv2 (Conv2D)       (None, 112, 112, 128)     147584    \n",
            "                                                                 \n",
            " block2_pool (MaxPooling2D)  (None, 56, 56, 128)       0         \n",
            "                                                                 \n",
            " block3_conv1 (Conv2D)       (None, 56, 56, 256)       295168    \n",
            "                                                                 \n",
            " block3_conv2 (Conv2D)       (None, 56, 56, 256)       590080    \n",
            "                                                                 \n",
            " block3_conv3 (Conv2D)       (None, 56, 56, 256)       590080    \n",
            "                                                                 \n",
            " block3_pool (MaxPooling2D)  (None, 28, 28, 256)       0         \n",
            "                                                                 \n",
            " block4_conv1 (Conv2D)       (None, 28, 28, 512)       1180160   \n",
            "                                                                 \n",
            " block4_conv2 (Conv2D)       (None, 28, 28, 512)       2359808   \n",
            "                                                                 \n",
            " block4_conv3 (Conv2D)       (None, 28, 28, 512)       2359808   \n",
            "                                                                 \n",
            " block4_pool (MaxPooling2D)  (None, 14, 14, 512)       0         \n",
            "                                                                 \n",
            " block5_conv1 (Conv2D)       (None, 14, 14, 512)       2359808   \n",
            "                                                                 \n",
            " block5_conv2 (Conv2D)       (None, 14, 14, 512)       2359808   \n",
            "                                                                 \n",
            " block5_conv3 (Conv2D)       (None, 14, 14, 512)       2359808   \n",
            "                                                                 \n",
            " block5_pool (MaxPooling2D)  (None, 7, 7, 512)         0         \n",
            "                                                                 \n",
            " flatten (Flatten)           (None, 25088)             0         \n",
            "                                                                 \n",
            " dense (Dense)               (None, 16)                401424    \n",
            "                                                                 \n",
            "=================================================================\n",
            "Total params: 15,116,112\n",
            "Trainable params: 401,424\n",
            "Non-trainable params: 14,714,688\n",
            "_________________________________________________________________\n"
          ]
        }
      ]
    },
    {
      "cell_type": "code",
      "source": [
        "model.compile(loss='categorical_crossentropy',optimizer='adam',metrics=['accuracy'])"
      ],
      "metadata": {
        "id": "-tCbIfvGEsIK"
      },
      "execution_count": null,
      "outputs": []
    },
    {
      "cell_type": "code",
      "source": [
        "model.fit_generator(train,validation_data=test,epochs=10,steps_per_epoch=len(train),\n",
        "                    validation_steps=len(test))"
      ],
      "metadata": {
        "colab": {
          "base_uri": "https://localhost:8080/"
        },
        "id": "KXjM1mGfEyBC",
        "outputId": "5453f6c5-bec2-4eee-ef02-aa8d7325f9c5"
      },
      "execution_count": null,
      "outputs": [
        {
          "output_type": "stream",
          "name": "stderr",
          "text": [
            "<ipython-input-17-240d737b1fe6>:1: UserWarning: `Model.fit_generator` is deprecated and will be removed in a future version. Please use `Model.fit`, which supports generators.\n",
            "  model.fit_generator(train,validation_data=test,epochs=10,steps_per_epoch=len(train),\n"
          ]
        },
        {
          "output_type": "stream",
          "name": "stdout",
          "text": [
            "Epoch 1/10\n",
            "7/7 [==============================] - 106s 15s/step - loss: 3.0539 - accuracy: 0.2667 - val_loss: 2.8776 - val_accuracy: 0.2484\n",
            "Epoch 2/10\n",
            "7/7 [==============================] - 121s 19s/step - loss: 1.3714 - accuracy: 0.5800 - val_loss: 2.7200 - val_accuracy: 0.3248\n",
            "Epoch 3/10\n",
            "7/7 [==============================] - 120s 19s/step - loss: 0.6742 - accuracy: 0.8133 - val_loss: 2.6600 - val_accuracy: 0.3121\n",
            "Epoch 4/10\n",
            "7/7 [==============================] - 120s 19s/step - loss: 0.3091 - accuracy: 0.9333 - val_loss: 2.9872 - val_accuracy: 0.3503\n",
            "Epoch 5/10\n",
            "7/7 [==============================] - 88s 14s/step - loss: 0.1624 - accuracy: 0.9667 - val_loss: 3.0162 - val_accuracy: 0.3694\n",
            "Epoch 6/10\n",
            "7/7 [==============================] - 90s 14s/step - loss: 0.1165 - accuracy: 0.9733 - val_loss: 2.9278 - val_accuracy: 0.3694\n",
            "Epoch 7/10\n",
            "7/7 [==============================] - 88s 14s/step - loss: 0.0873 - accuracy: 0.9867 - val_loss: 2.9507 - val_accuracy: 0.3567\n",
            "Epoch 8/10\n",
            "7/7 [==============================] - 122s 19s/step - loss: 0.0970 - accuracy: 0.9667 - val_loss: 3.0434 - val_accuracy: 0.4013\n",
            "Epoch 9/10\n",
            "7/7 [==============================] - 120s 19s/step - loss: 0.0631 - accuracy: 0.9867 - val_loss: 3.0602 - val_accuracy: 0.3631\n",
            "Epoch 10/10\n",
            "7/7 [==============================] - 87s 14s/step - loss: 0.0436 - accuracy: 0.9933 - val_loss: 2.9400 - val_accuracy: 0.4204\n"
          ]
        },
        {
          "output_type": "execute_result",
          "data": {
            "text/plain": [
              "<keras.callbacks.History at 0x7ff7c022d3c0>"
            ]
          },
          "metadata": {},
          "execution_count": 17
        }
      ]
    },
    {
      "cell_type": "markdown",
      "source": [
        "**This vgg16 model gives the accuracy rate of 42 so we can try with other transfer learning methods like Resnet50,Inception and Xception.**"
      ],
      "metadata": {
        "id": "NaaJFpaVZ2p7"
      }
    },
    {
      "cell_type": "markdown",
      "source": [
        "**ResNet50**"
      ],
      "metadata": {
        "id": "xBSWJkHmYkqm"
      }
    },
    {
      "cell_type": "code",
      "source": [
        "from tensorflow.keras.applications.resnet50 import ResNet50\n"
      ],
      "metadata": {
        "id": "BceF35bQJcgM"
      },
      "execution_count": null,
      "outputs": []
    },
    {
      "cell_type": "code",
      "source": [
        "resnet = ResNet50(include_top=False,input_shape=(224,224,3))\n"
      ],
      "metadata": {
        "id": "sSPw1ckFJ-l7"
      },
      "execution_count": null,
      "outputs": []
    },
    {
      "cell_type": "code",
      "source": [
        "for layer in resnet.layers:\n",
        "  layer.trainable=False"
      ],
      "metadata": {
        "id": "I0ZaMAgqKCmk"
      },
      "execution_count": null,
      "outputs": []
    },
    {
      "cell_type": "code",
      "source": [
        "for layer in resnet.layers:\n",
        "  print(layer)"
      ],
      "metadata": {
        "colab": {
          "base_uri": "https://localhost:8080/"
        },
        "id": "wao827zUKHnL",
        "outputId": "a8fee355-49d7-4e03-ffcc-e82185fd9f0f"
      },
      "execution_count": null,
      "outputs": [
        {
          "output_type": "stream",
          "name": "stdout",
          "text": [
            "<keras.engine.input_layer.InputLayer object at 0x7fa63cfa3190>\n",
            "<keras.layers.reshaping.zero_padding2d.ZeroPadding2D object at 0x7fa64c38bc40>\n",
            "<keras.layers.convolutional.conv2d.Conv2D object at 0x7fa64c327e50>\n",
            "<keras.layers.normalization.batch_normalization.BatchNormalization object at 0x7fa64c354820>\n",
            "<keras.layers.core.activation.Activation object at 0x7fa64c339000>\n",
            "<keras.layers.reshaping.zero_padding2d.ZeroPadding2D object at 0x7fa63cfbb400>\n",
            "<keras.layers.pooling.max_pooling2d.MaxPooling2D object at 0x7fa63cfeab30>\n",
            "<keras.layers.convolutional.conv2d.Conv2D object at 0x7fa63cfeb640>\n",
            "<keras.layers.normalization.batch_normalization.BatchNormalization object at 0x7fa63ce35f90>\n",
            "<keras.layers.core.activation.Activation object at 0x7fa63ce36350>\n",
            "<keras.layers.convolutional.conv2d.Conv2D object at 0x7fa63ce36e00>\n",
            "<keras.layers.normalization.batch_normalization.BatchNormalization object at 0x7fa63ce379d0>\n",
            "<keras.layers.core.activation.Activation object at 0x7fa63ce37d30>\n",
            "<keras.layers.convolutional.conv2d.Conv2D object at 0x7fa6d02e72e0>\n",
            "<keras.layers.convolutional.conv2d.Conv2D object at 0x7fa63ce35720>\n",
            "<keras.layers.normalization.batch_normalization.BatchNormalization object at 0x7fa63cfebfa0>\n",
            "<keras.layers.normalization.batch_normalization.BatchNormalization object at 0x7fa63ce375b0>\n",
            "<keras.layers.merging.add.Add object at 0x7fa64c317dc0>\n",
            "<keras.layers.core.activation.Activation object at 0x7fa63ce34eb0>\n",
            "<keras.layers.convolutional.conv2d.Conv2D object at 0x7fa63ce376a0>\n",
            "<keras.layers.normalization.batch_normalization.BatchNormalization object at 0x7fa63ce349a0>\n",
            "<keras.layers.core.activation.Activation object at 0x7fa63ce37e50>\n",
            "<keras.layers.convolutional.conv2d.Conv2D object at 0x7fa63cfeb7f0>\n",
            "<keras.layers.normalization.batch_normalization.BatchNormalization object at 0x7fa63ce47280>\n",
            "<keras.layers.core.activation.Activation object at 0x7fa63ce46fb0>\n",
            "<keras.layers.convolutional.conv2d.Conv2D object at 0x7fa63ce47e80>\n",
            "<keras.layers.normalization.batch_normalization.BatchNormalization object at 0x7fa63ce46230>\n",
            "<keras.layers.merging.add.Add object at 0x7fa63ce47f40>\n",
            "<keras.layers.core.activation.Activation object at 0x7fa63ce47f10>\n",
            "<keras.layers.convolutional.conv2d.Conv2D object at 0x7fa63ce6a350>\n",
            "<keras.layers.normalization.batch_normalization.BatchNormalization object at 0x7fa63ce47fa0>\n",
            "<keras.layers.core.activation.Activation object at 0x7fa63ce6b310>\n",
            "<keras.layers.convolutional.conv2d.Conv2D object at 0x7fa63ce684c0>\n",
            "<keras.layers.normalization.batch_normalization.BatchNormalization object at 0x7fa63ce6a8c0>\n",
            "<keras.layers.core.activation.Activation object at 0x7fa63ce68be0>\n",
            "<keras.layers.convolutional.conv2d.Conv2D object at 0x7fa63ce85810>\n",
            "<keras.layers.normalization.batch_normalization.BatchNormalization object at 0x7fa63ce86bc0>\n",
            "<keras.layers.merging.add.Add object at 0x7fa63ce6abf0>\n",
            "<keras.layers.core.activation.Activation object at 0x7fa63ce84580>\n",
            "<keras.layers.convolutional.conv2d.Conv2D object at 0x7fa63ce86b60>\n",
            "<keras.layers.normalization.batch_normalization.BatchNormalization object at 0x7fa63ce87a90>\n",
            "<keras.layers.core.activation.Activation object at 0x7fa63ce87130>\n",
            "<keras.layers.convolutional.conv2d.Conv2D object at 0x7fa63ceae110>\n",
            "<keras.layers.normalization.batch_normalization.BatchNormalization object at 0x7fa63ceaf4c0>\n",
            "<keras.layers.core.activation.Activation object at 0x7fa63ceaf1f0>\n",
            "<keras.layers.convolutional.conv2d.Conv2D object at 0x7fa63ce875b0>\n",
            "<keras.layers.convolutional.conv2d.Conv2D object at 0x7fa63ceaf400>\n",
            "<keras.layers.normalization.batch_normalization.BatchNormalization object at 0x7fa63ce87520>\n",
            "<keras.layers.normalization.batch_normalization.BatchNormalization object at 0x7fa63ceaf220>\n",
            "<keras.layers.merging.add.Add object at 0x7fa63ceaf0d0>\n",
            "<keras.layers.core.activation.Activation object at 0x7fa63cead690>\n",
            "<keras.layers.convolutional.conv2d.Conv2D object at 0x7fa63ced1fc0>\n",
            "<keras.layers.normalization.batch_normalization.BatchNormalization object at 0x7fa63ced35b0>\n",
            "<keras.layers.core.activation.Activation object at 0x7fa63ced2f50>\n",
            "<keras.layers.convolutional.conv2d.Conv2D object at 0x7fa63ced30a0>\n",
            "<keras.layers.normalization.batch_normalization.BatchNormalization object at 0x7fa63ced09d0>\n",
            "<keras.layers.core.activation.Activation object at 0x7fa63ced3af0>\n",
            "<keras.layers.convolutional.conv2d.Conv2D object at 0x7fa63ced3bb0>\n",
            "<keras.layers.normalization.batch_normalization.BatchNormalization object at 0x7fa63ced1d80>\n",
            "<keras.layers.merging.add.Add object at 0x7fa63ce86530>\n",
            "<keras.layers.core.activation.Activation object at 0x7fa63ce852d0>\n",
            "<keras.layers.convolutional.conv2d.Conv2D object at 0x7fa63ceaf790>\n",
            "<keras.layers.normalization.batch_normalization.BatchNormalization object at 0x7fa63ced3f40>\n",
            "<keras.layers.core.activation.Activation object at 0x7fa63ced1b10>\n",
            "<keras.layers.convolutional.conv2d.Conv2D object at 0x7fa63ceaee30>\n",
            "<keras.layers.normalization.batch_normalization.BatchNormalization object at 0x7fa63ced3be0>\n",
            "<keras.layers.core.activation.Activation object at 0x7fa63ce69c30>\n",
            "<keras.layers.convolutional.conv2d.Conv2D object at 0x7fa63ce680d0>\n",
            "<keras.layers.normalization.batch_normalization.BatchNormalization object at 0x7fa63ceeeec0>\n",
            "<keras.layers.merging.add.Add object at 0x7fa63ce682b0>\n",
            "<keras.layers.core.activation.Activation object at 0x7fa63ceeeb00>\n",
            "<keras.layers.convolutional.conv2d.Conv2D object at 0x7fa63ceefbb0>\n",
            "<keras.layers.normalization.batch_normalization.BatchNormalization object at 0x7fa63ceeeb90>\n",
            "<keras.layers.core.activation.Activation object at 0x7fa63ceec490>\n",
            "<keras.layers.convolutional.conv2d.Conv2D object at 0x7fa63ceec340>\n",
            "<keras.layers.normalization.batch_normalization.BatchNormalization object at 0x7fa63cd0eb30>\n",
            "<keras.layers.core.activation.Activation object at 0x7fa63cd0e890>\n",
            "<keras.layers.convolutional.conv2d.Conv2D object at 0x7fa63cd0f760>\n",
            "<keras.layers.normalization.batch_normalization.BatchNormalization object at 0x7fa63cd0e740>\n",
            "<keras.layers.merging.add.Add object at 0x7fa63cd0f820>\n",
            "<keras.layers.core.activation.Activation object at 0x7fa63cd0f850>\n",
            "<keras.layers.convolutional.conv2d.Conv2D object at 0x7fa63cd2e440>\n",
            "<keras.layers.normalization.batch_normalization.BatchNormalization object at 0x7fa63cd2fb80>\n",
            "<keras.layers.core.activation.Activation object at 0x7fa63cd2c2b0>\n",
            "<keras.layers.convolutional.conv2d.Conv2D object at 0x7fa63cd2cee0>\n",
            "<keras.layers.normalization.batch_normalization.BatchNormalization object at 0x7fa63cd4dea0>\n",
            "<keras.layers.core.activation.Activation object at 0x7fa63cd4f340>\n",
            "<keras.layers.convolutional.conv2d.Conv2D object at 0x7fa63cd0ffd0>\n",
            "<keras.layers.convolutional.conv2d.Conv2D object at 0x7fa63cd4ead0>\n",
            "<keras.layers.normalization.batch_normalization.BatchNormalization object at 0x7fa63cd2ebc0>\n",
            "<keras.layers.normalization.batch_normalization.BatchNormalization object at 0x7fa63cd4fb50>\n",
            "<keras.layers.merging.add.Add object at 0x7fa63cd4eb90>\n",
            "<keras.layers.core.activation.Activation object at 0x7fa63cd4d840>\n",
            "<keras.layers.convolutional.conv2d.Conv2D object at 0x7fa63cd4ffa0>\n",
            "<keras.layers.normalization.batch_normalization.BatchNormalization object at 0x7fa63cd6df90>\n",
            "<keras.layers.core.activation.Activation object at 0x7fa63cd4e6b0>\n",
            "<keras.layers.convolutional.conv2d.Conv2D object at 0x7fa63cd4f8b0>\n",
            "<keras.layers.normalization.batch_normalization.BatchNormalization object at 0x7fa63cd4c460>\n",
            "<keras.layers.core.activation.Activation object at 0x7fa63cd2f130>\n",
            "<keras.layers.convolutional.conv2d.Conv2D object at 0x7fa63cd4e4a0>\n",
            "<keras.layers.normalization.batch_normalization.BatchNormalization object at 0x7fa63cd0c6d0>\n",
            "<keras.layers.merging.add.Add object at 0x7fa63ce479a0>\n",
            "<keras.layers.core.activation.Activation object at 0x7fa63ce6add0>\n",
            "<keras.layers.convolutional.conv2d.Conv2D object at 0x7fa63ce444c0>\n",
            "<keras.layers.normalization.batch_normalization.BatchNormalization object at 0x7fa63ceec520>\n",
            "<keras.layers.core.activation.Activation object at 0x7fa63ceef220>\n",
            "<keras.layers.convolutional.conv2d.Conv2D object at 0x7fa63ceadc00>\n",
            "<keras.layers.normalization.batch_normalization.BatchNormalization object at 0x7fa63cd2d270>\n",
            "<keras.layers.core.activation.Activation object at 0x7fa63ce86890>\n",
            "<keras.layers.convolutional.conv2d.Conv2D object at 0x7fa63cd6fe50>\n",
            "<keras.layers.normalization.batch_normalization.BatchNormalization object at 0x7fa63cd6eef0>\n",
            "<keras.layers.merging.add.Add object at 0x7fa63cd6ff10>\n",
            "<keras.layers.core.activation.Activation object at 0x7fa63cd6ee60>\n",
            "<keras.layers.convolutional.conv2d.Conv2D object at 0x7fa63ce82350>\n",
            "<keras.layers.normalization.batch_normalization.BatchNormalization object at 0x7fa63ce832e0>\n",
            "<keras.layers.core.activation.Activation object at 0x7fa63ce81270>\n",
            "<keras.layers.convolutional.conv2d.Conv2D object at 0x7fa63ce83f10>\n",
            "<keras.layers.normalization.batch_normalization.BatchNormalization object at 0x7fa63ce82860>\n",
            "<keras.layers.core.activation.Activation object at 0x7fa63ce81390>\n",
            "<keras.layers.convolutional.conv2d.Conv2D object at 0x7fa63cd9d7e0>\n",
            "<keras.layers.normalization.batch_normalization.BatchNormalization object at 0x7fa63cd9e830>\n",
            "<keras.layers.merging.add.Add object at 0x7fa63cd9d870>\n",
            "<keras.layers.core.activation.Activation object at 0x7fa63cd9fc10>\n",
            "<keras.layers.convolutional.conv2d.Conv2D object at 0x7fa63cd9f520>\n",
            "<keras.layers.normalization.batch_normalization.BatchNormalization object at 0x7fa63cd9f2b0>\n",
            "<keras.layers.core.activation.Activation object at 0x7fa63cd9d720>\n",
            "<keras.layers.convolutional.conv2d.Conv2D object at 0x7fa63cd9ef20>\n",
            "<keras.layers.normalization.batch_normalization.BatchNormalization object at 0x7fa63cdb24a0>\n",
            "<keras.layers.core.activation.Activation object at 0x7fa63cdb21d0>\n",
            "<keras.layers.convolutional.conv2d.Conv2D object at 0x7fa63cdb30d0>\n",
            "<keras.layers.normalization.batch_normalization.BatchNormalization object at 0x7fa63cdb27d0>\n",
            "<keras.layers.merging.add.Add object at 0x7fa63cdb3190>\n",
            "<keras.layers.core.activation.Activation object at 0x7fa63cdb39a0>\n",
            "<keras.layers.convolutional.conv2d.Conv2D object at 0x7fa63cdd85e0>\n",
            "<keras.layers.normalization.batch_normalization.BatchNormalization object at 0x7fa63cdda590>\n",
            "<keras.layers.core.activation.Activation object at 0x7fa63cdb2aa0>\n",
            "<keras.layers.convolutional.conv2d.Conv2D object at 0x7fa63cdb3dc0>\n",
            "<keras.layers.normalization.batch_normalization.BatchNormalization object at 0x7fa63cdb33a0>\n",
            "<keras.layers.core.activation.Activation object at 0x7fa63cd9c5b0>\n",
            "<keras.layers.convolutional.conv2d.Conv2D object at 0x7fa63cdb0a90>\n",
            "<keras.layers.normalization.batch_normalization.BatchNormalization object at 0x7fa63ce807f0>\n",
            "<keras.layers.merging.add.Add object at 0x7fa63ceed870>\n",
            "<keras.layers.core.activation.Activation object at 0x7fa63ce86fe0>\n",
            "<keras.layers.convolutional.conv2d.Conv2D object at 0x7fa63cdb0850>\n",
            "<keras.layers.normalization.batch_normalization.BatchNormalization object at 0x7fa63cd9d1e0>\n",
            "<keras.layers.core.activation.Activation object at 0x7fa63cd0ded0>\n",
            "<keras.layers.convolutional.conv2d.Conv2D object at 0x7fa63cdd86d0>\n",
            "<keras.layers.normalization.batch_normalization.BatchNormalization object at 0x7fa63cdd94e0>\n",
            "<keras.layers.core.activation.Activation object at 0x7fa63cddba30>\n",
            "<keras.layers.convolutional.conv2d.Conv2D object at 0x7fa63cead720>\n",
            "<keras.layers.convolutional.conv2d.Conv2D object at 0x7fa63cddb040>\n",
            "<keras.layers.normalization.batch_normalization.BatchNormalization object at 0x7fa63cd4fa90>\n",
            "<keras.layers.normalization.batch_normalization.BatchNormalization object at 0x7fa63cdf6fe0>\n",
            "<keras.layers.merging.add.Add object at 0x7fa63cdf5f30>\n",
            "<keras.layers.core.activation.Activation object at 0x7fa63cdf6b90>\n",
            "<keras.layers.convolutional.conv2d.Conv2D object at 0x7fa63cdf7520>\n",
            "<keras.layers.normalization.batch_normalization.BatchNormalization object at 0x7fa63cdf6c20>\n",
            "<keras.layers.core.activation.Activation object at 0x7fa63cdf5ea0>\n",
            "<keras.layers.convolutional.conv2d.Conv2D object at 0x7fa63cdf67a0>\n",
            "<keras.layers.normalization.batch_normalization.BatchNormalization object at 0x7fa63cc12c20>\n",
            "<keras.layers.core.activation.Activation object at 0x7fa63cc12950>\n",
            "<keras.layers.convolutional.conv2d.Conv2D object at 0x7fa63cc13850>\n",
            "<keras.layers.normalization.batch_normalization.BatchNormalization object at 0x7fa63cc12f50>\n",
            "<keras.layers.merging.add.Add object at 0x7fa63cc13910>\n",
            "<keras.layers.core.activation.Activation object at 0x7fa63cc28340>\n",
            "<keras.layers.convolutional.conv2d.Conv2D object at 0x7fa63cc29c60>\n",
            "<keras.layers.normalization.batch_normalization.BatchNormalization object at 0x7fa63cc2ad10>\n",
            "<keras.layers.core.activation.Activation object at 0x7fa63cc2a560>\n",
            "<keras.layers.convolutional.conv2d.Conv2D object at 0x7fa63cc2b940>\n",
            "<keras.layers.normalization.batch_normalization.BatchNormalization object at 0x7fa63cc29e70>\n",
            "<keras.layers.core.activation.Activation object at 0x7fa63cc280d0>\n",
            "<keras.layers.convolutional.conv2d.Conv2D object at 0x7fa63cc2b010>\n",
            "<keras.layers.normalization.batch_normalization.BatchNormalization object at 0x7fa63cc46260>\n",
            "<keras.layers.merging.add.Add object at 0x7fa63cc2be80>\n",
            "<keras.layers.core.activation.Activation object at 0x7fa63cc291b0>\n"
          ]
        }
      ]
    },
    {
      "cell_type": "code",
      "source": [
        "x = Flatten()(resnet.output)\n"
      ],
      "metadata": {
        "id": "cNCNyGnPKLYF"
      },
      "execution_count": null,
      "outputs": []
    },
    {
      "cell_type": "code",
      "source": [
        "out = Dense(16, activation='softmax')(x)\n"
      ],
      "metadata": {
        "id": "zwrQALffKPBU"
      },
      "execution_count": null,
      "outputs": []
    },
    {
      "cell_type": "code",
      "source": [
        "res_model = Model(inputs=resnet.input,outputs=out)\n"
      ],
      "metadata": {
        "id": "ZMAS00n5KThC"
      },
      "execution_count": null,
      "outputs": []
    },
    {
      "cell_type": "code",
      "source": [
        "res_model.summary()\n"
      ],
      "metadata": {
        "colab": {
          "base_uri": "https://localhost:8080/"
        },
        "id": "UhAlTW7GKWBA",
        "outputId": "ba098201-4e66-4f94-cf49-d8fa36be5c72"
      },
      "execution_count": null,
      "outputs": [
        {
          "output_type": "stream",
          "name": "stdout",
          "text": [
            "Model: \"model_3\"\n",
            "__________________________________________________________________________________________________\n",
            " Layer (type)                   Output Shape         Param #     Connected to                     \n",
            "==================================================================================================\n",
            " input_4 (InputLayer)           [(None, 224, 224, 3  0           []                               \n",
            "                                )]                                                                \n",
            "                                                                                                  \n",
            " conv1_pad (ZeroPadding2D)      (None, 230, 230, 3)  0           ['input_4[0][0]']                \n",
            "                                                                                                  \n",
            " conv1_conv (Conv2D)            (None, 112, 112, 64  9472        ['conv1_pad[0][0]']              \n",
            "                                )                                                                 \n",
            "                                                                                                  \n",
            " conv1_bn (BatchNormalization)  (None, 112, 112, 64  256         ['conv1_conv[0][0]']             \n",
            "                                )                                                                 \n",
            "                                                                                                  \n",
            " conv1_relu (Activation)        (None, 112, 112, 64  0           ['conv1_bn[0][0]']               \n",
            "                                )                                                                 \n",
            "                                                                                                  \n",
            " pool1_pad (ZeroPadding2D)      (None, 114, 114, 64  0           ['conv1_relu[0][0]']             \n",
            "                                )                                                                 \n",
            "                                                                                                  \n",
            " pool1_pool (MaxPooling2D)      (None, 56, 56, 64)   0           ['pool1_pad[0][0]']              \n",
            "                                                                                                  \n",
            " conv2_block1_1_conv (Conv2D)   (None, 56, 56, 64)   4160        ['pool1_pool[0][0]']             \n",
            "                                                                                                  \n",
            " conv2_block1_1_bn (BatchNormal  (None, 56, 56, 64)  256         ['conv2_block1_1_conv[0][0]']    \n",
            " ization)                                                                                         \n",
            "                                                                                                  \n",
            " conv2_block1_1_relu (Activatio  (None, 56, 56, 64)  0           ['conv2_block1_1_bn[0][0]']      \n",
            " n)                                                                                               \n",
            "                                                                                                  \n",
            " conv2_block1_2_conv (Conv2D)   (None, 56, 56, 64)   36928       ['conv2_block1_1_relu[0][0]']    \n",
            "                                                                                                  \n",
            " conv2_block1_2_bn (BatchNormal  (None, 56, 56, 64)  256         ['conv2_block1_2_conv[0][0]']    \n",
            " ization)                                                                                         \n",
            "                                                                                                  \n",
            " conv2_block1_2_relu (Activatio  (None, 56, 56, 64)  0           ['conv2_block1_2_bn[0][0]']      \n",
            " n)                                                                                               \n",
            "                                                                                                  \n",
            " conv2_block1_0_conv (Conv2D)   (None, 56, 56, 256)  16640       ['pool1_pool[0][0]']             \n",
            "                                                                                                  \n",
            " conv2_block1_3_conv (Conv2D)   (None, 56, 56, 256)  16640       ['conv2_block1_2_relu[0][0]']    \n",
            "                                                                                                  \n",
            " conv2_block1_0_bn (BatchNormal  (None, 56, 56, 256)  1024       ['conv2_block1_0_conv[0][0]']    \n",
            " ization)                                                                                         \n",
            "                                                                                                  \n",
            " conv2_block1_3_bn (BatchNormal  (None, 56, 56, 256)  1024       ['conv2_block1_3_conv[0][0]']    \n",
            " ization)                                                                                         \n",
            "                                                                                                  \n",
            " conv2_block1_add (Add)         (None, 56, 56, 256)  0           ['conv2_block1_0_bn[0][0]',      \n",
            "                                                                  'conv2_block1_3_bn[0][0]']      \n",
            "                                                                                                  \n",
            " conv2_block1_out (Activation)  (None, 56, 56, 256)  0           ['conv2_block1_add[0][0]']       \n",
            "                                                                                                  \n",
            " conv2_block2_1_conv (Conv2D)   (None, 56, 56, 64)   16448       ['conv2_block1_out[0][0]']       \n",
            "                                                                                                  \n",
            " conv2_block2_1_bn (BatchNormal  (None, 56, 56, 64)  256         ['conv2_block2_1_conv[0][0]']    \n",
            " ization)                                                                                         \n",
            "                                                                                                  \n",
            " conv2_block2_1_relu (Activatio  (None, 56, 56, 64)  0           ['conv2_block2_1_bn[0][0]']      \n",
            " n)                                                                                               \n",
            "                                                                                                  \n",
            " conv2_block2_2_conv (Conv2D)   (None, 56, 56, 64)   36928       ['conv2_block2_1_relu[0][0]']    \n",
            "                                                                                                  \n",
            " conv2_block2_2_bn (BatchNormal  (None, 56, 56, 64)  256         ['conv2_block2_2_conv[0][0]']    \n",
            " ization)                                                                                         \n",
            "                                                                                                  \n",
            " conv2_block2_2_relu (Activatio  (None, 56, 56, 64)  0           ['conv2_block2_2_bn[0][0]']      \n",
            " n)                                                                                               \n",
            "                                                                                                  \n",
            " conv2_block2_3_conv (Conv2D)   (None, 56, 56, 256)  16640       ['conv2_block2_2_relu[0][0]']    \n",
            "                                                                                                  \n",
            " conv2_block2_3_bn (BatchNormal  (None, 56, 56, 256)  1024       ['conv2_block2_3_conv[0][0]']    \n",
            " ization)                                                                                         \n",
            "                                                                                                  \n",
            " conv2_block2_add (Add)         (None, 56, 56, 256)  0           ['conv2_block1_out[0][0]',       \n",
            "                                                                  'conv2_block2_3_bn[0][0]']      \n",
            "                                                                                                  \n",
            " conv2_block2_out (Activation)  (None, 56, 56, 256)  0           ['conv2_block2_add[0][0]']       \n",
            "                                                                                                  \n",
            " conv2_block3_1_conv (Conv2D)   (None, 56, 56, 64)   16448       ['conv2_block2_out[0][0]']       \n",
            "                                                                                                  \n",
            " conv2_block3_1_bn (BatchNormal  (None, 56, 56, 64)  256         ['conv2_block3_1_conv[0][0]']    \n",
            " ization)                                                                                         \n",
            "                                                                                                  \n",
            " conv2_block3_1_relu (Activatio  (None, 56, 56, 64)  0           ['conv2_block3_1_bn[0][0]']      \n",
            " n)                                                                                               \n",
            "                                                                                                  \n",
            " conv2_block3_2_conv (Conv2D)   (None, 56, 56, 64)   36928       ['conv2_block3_1_relu[0][0]']    \n",
            "                                                                                                  \n",
            " conv2_block3_2_bn (BatchNormal  (None, 56, 56, 64)  256         ['conv2_block3_2_conv[0][0]']    \n",
            " ization)                                                                                         \n",
            "                                                                                                  \n",
            " conv2_block3_2_relu (Activatio  (None, 56, 56, 64)  0           ['conv2_block3_2_bn[0][0]']      \n",
            " n)                                                                                               \n",
            "                                                                                                  \n",
            " conv2_block3_3_conv (Conv2D)   (None, 56, 56, 256)  16640       ['conv2_block3_2_relu[0][0]']    \n",
            "                                                                                                  \n",
            " conv2_block3_3_bn (BatchNormal  (None, 56, 56, 256)  1024       ['conv2_block3_3_conv[0][0]']    \n",
            " ization)                                                                                         \n",
            "                                                                                                  \n",
            " conv2_block3_add (Add)         (None, 56, 56, 256)  0           ['conv2_block2_out[0][0]',       \n",
            "                                                                  'conv2_block3_3_bn[0][0]']      \n",
            "                                                                                                  \n",
            " conv2_block3_out (Activation)  (None, 56, 56, 256)  0           ['conv2_block3_add[0][0]']       \n",
            "                                                                                                  \n",
            " conv3_block1_1_conv (Conv2D)   (None, 28, 28, 128)  32896       ['conv2_block3_out[0][0]']       \n",
            "                                                                                                  \n",
            " conv3_block1_1_bn (BatchNormal  (None, 28, 28, 128)  512        ['conv3_block1_1_conv[0][0]']    \n",
            " ization)                                                                                         \n",
            "                                                                                                  \n",
            " conv3_block1_1_relu (Activatio  (None, 28, 28, 128)  0          ['conv3_block1_1_bn[0][0]']      \n",
            " n)                                                                                               \n",
            "                                                                                                  \n",
            " conv3_block1_2_conv (Conv2D)   (None, 28, 28, 128)  147584      ['conv3_block1_1_relu[0][0]']    \n",
            "                                                                                                  \n",
            " conv3_block1_2_bn (BatchNormal  (None, 28, 28, 128)  512        ['conv3_block1_2_conv[0][0]']    \n",
            " ization)                                                                                         \n",
            "                                                                                                  \n",
            " conv3_block1_2_relu (Activatio  (None, 28, 28, 128)  0          ['conv3_block1_2_bn[0][0]']      \n",
            " n)                                                                                               \n",
            "                                                                                                  \n",
            " conv3_block1_0_conv (Conv2D)   (None, 28, 28, 512)  131584      ['conv2_block3_out[0][0]']       \n",
            "                                                                                                  \n",
            " conv3_block1_3_conv (Conv2D)   (None, 28, 28, 512)  66048       ['conv3_block1_2_relu[0][0]']    \n",
            "                                                                                                  \n",
            " conv3_block1_0_bn (BatchNormal  (None, 28, 28, 512)  2048       ['conv3_block1_0_conv[0][0]']    \n",
            " ization)                                                                                         \n",
            "                                                                                                  \n",
            " conv3_block1_3_bn (BatchNormal  (None, 28, 28, 512)  2048       ['conv3_block1_3_conv[0][0]']    \n",
            " ization)                                                                                         \n",
            "                                                                                                  \n",
            " conv3_block1_add (Add)         (None, 28, 28, 512)  0           ['conv3_block1_0_bn[0][0]',      \n",
            "                                                                  'conv3_block1_3_bn[0][0]']      \n",
            "                                                                                                  \n",
            " conv3_block1_out (Activation)  (None, 28, 28, 512)  0           ['conv3_block1_add[0][0]']       \n",
            "                                                                                                  \n",
            " conv3_block2_1_conv (Conv2D)   (None, 28, 28, 128)  65664       ['conv3_block1_out[0][0]']       \n",
            "                                                                                                  \n",
            " conv3_block2_1_bn (BatchNormal  (None, 28, 28, 128)  512        ['conv3_block2_1_conv[0][0]']    \n",
            " ization)                                                                                         \n",
            "                                                                                                  \n",
            " conv3_block2_1_relu (Activatio  (None, 28, 28, 128)  0          ['conv3_block2_1_bn[0][0]']      \n",
            " n)                                                                                               \n",
            "                                                                                                  \n",
            " conv3_block2_2_conv (Conv2D)   (None, 28, 28, 128)  147584      ['conv3_block2_1_relu[0][0]']    \n",
            "                                                                                                  \n",
            " conv3_block2_2_bn (BatchNormal  (None, 28, 28, 128)  512        ['conv3_block2_2_conv[0][0]']    \n",
            " ization)                                                                                         \n",
            "                                                                                                  \n",
            " conv3_block2_2_relu (Activatio  (None, 28, 28, 128)  0          ['conv3_block2_2_bn[0][0]']      \n",
            " n)                                                                                               \n",
            "                                                                                                  \n",
            " conv3_block2_3_conv (Conv2D)   (None, 28, 28, 512)  66048       ['conv3_block2_2_relu[0][0]']    \n",
            "                                                                                                  \n",
            " conv3_block2_3_bn (BatchNormal  (None, 28, 28, 512)  2048       ['conv3_block2_3_conv[0][0]']    \n",
            " ization)                                                                                         \n",
            "                                                                                                  \n",
            " conv3_block2_add (Add)         (None, 28, 28, 512)  0           ['conv3_block1_out[0][0]',       \n",
            "                                                                  'conv3_block2_3_bn[0][0]']      \n",
            "                                                                                                  \n",
            " conv3_block2_out (Activation)  (None, 28, 28, 512)  0           ['conv3_block2_add[0][0]']       \n",
            "                                                                                                  \n",
            " conv3_block3_1_conv (Conv2D)   (None, 28, 28, 128)  65664       ['conv3_block2_out[0][0]']       \n",
            "                                                                                                  \n",
            " conv3_block3_1_bn (BatchNormal  (None, 28, 28, 128)  512        ['conv3_block3_1_conv[0][0]']    \n",
            " ization)                                                                                         \n",
            "                                                                                                  \n",
            " conv3_block3_1_relu (Activatio  (None, 28, 28, 128)  0          ['conv3_block3_1_bn[0][0]']      \n",
            " n)                                                                                               \n",
            "                                                                                                  \n",
            " conv3_block3_2_conv (Conv2D)   (None, 28, 28, 128)  147584      ['conv3_block3_1_relu[0][0]']    \n",
            "                                                                                                  \n",
            " conv3_block3_2_bn (BatchNormal  (None, 28, 28, 128)  512        ['conv3_block3_2_conv[0][0]']    \n",
            " ization)                                                                                         \n",
            "                                                                                                  \n",
            " conv3_block3_2_relu (Activatio  (None, 28, 28, 128)  0          ['conv3_block3_2_bn[0][0]']      \n",
            " n)                                                                                               \n",
            "                                                                                                  \n",
            " conv3_block3_3_conv (Conv2D)   (None, 28, 28, 512)  66048       ['conv3_block3_2_relu[0][0]']    \n",
            "                                                                                                  \n",
            " conv3_block3_3_bn (BatchNormal  (None, 28, 28, 512)  2048       ['conv3_block3_3_conv[0][0]']    \n",
            " ization)                                                                                         \n",
            "                                                                                                  \n",
            " conv3_block3_add (Add)         (None, 28, 28, 512)  0           ['conv3_block2_out[0][0]',       \n",
            "                                                                  'conv3_block3_3_bn[0][0]']      \n",
            "                                                                                                  \n",
            " conv3_block3_out (Activation)  (None, 28, 28, 512)  0           ['conv3_block3_add[0][0]']       \n",
            "                                                                                                  \n",
            " conv3_block4_1_conv (Conv2D)   (None, 28, 28, 128)  65664       ['conv3_block3_out[0][0]']       \n",
            "                                                                                                  \n",
            " conv3_block4_1_bn (BatchNormal  (None, 28, 28, 128)  512        ['conv3_block4_1_conv[0][0]']    \n",
            " ization)                                                                                         \n",
            "                                                                                                  \n",
            " conv3_block4_1_relu (Activatio  (None, 28, 28, 128)  0          ['conv3_block4_1_bn[0][0]']      \n",
            " n)                                                                                               \n",
            "                                                                                                  \n",
            " conv3_block4_2_conv (Conv2D)   (None, 28, 28, 128)  147584      ['conv3_block4_1_relu[0][0]']    \n",
            "                                                                                                  \n",
            " conv3_block4_2_bn (BatchNormal  (None, 28, 28, 128)  512        ['conv3_block4_2_conv[0][0]']    \n",
            " ization)                                                                                         \n",
            "                                                                                                  \n",
            " conv3_block4_2_relu (Activatio  (None, 28, 28, 128)  0          ['conv3_block4_2_bn[0][0]']      \n",
            " n)                                                                                               \n",
            "                                                                                                  \n",
            " conv3_block4_3_conv (Conv2D)   (None, 28, 28, 512)  66048       ['conv3_block4_2_relu[0][0]']    \n",
            "                                                                                                  \n",
            " conv3_block4_3_bn (BatchNormal  (None, 28, 28, 512)  2048       ['conv3_block4_3_conv[0][0]']    \n",
            " ization)                                                                                         \n",
            "                                                                                                  \n",
            " conv3_block4_add (Add)         (None, 28, 28, 512)  0           ['conv3_block3_out[0][0]',       \n",
            "                                                                  'conv3_block4_3_bn[0][0]']      \n",
            "                                                                                                  \n",
            " conv3_block4_out (Activation)  (None, 28, 28, 512)  0           ['conv3_block4_add[0][0]']       \n",
            "                                                                                                  \n",
            " conv4_block1_1_conv (Conv2D)   (None, 14, 14, 256)  131328      ['conv3_block4_out[0][0]']       \n",
            "                                                                                                  \n",
            " conv4_block1_1_bn (BatchNormal  (None, 14, 14, 256)  1024       ['conv4_block1_1_conv[0][0]']    \n",
            " ization)                                                                                         \n",
            "                                                                                                  \n",
            " conv4_block1_1_relu (Activatio  (None, 14, 14, 256)  0          ['conv4_block1_1_bn[0][0]']      \n",
            " n)                                                                                               \n",
            "                                                                                                  \n",
            " conv4_block1_2_conv (Conv2D)   (None, 14, 14, 256)  590080      ['conv4_block1_1_relu[0][0]']    \n",
            "                                                                                                  \n",
            " conv4_block1_2_bn (BatchNormal  (None, 14, 14, 256)  1024       ['conv4_block1_2_conv[0][0]']    \n",
            " ization)                                                                                         \n",
            "                                                                                                  \n",
            " conv4_block1_2_relu (Activatio  (None, 14, 14, 256)  0          ['conv4_block1_2_bn[0][0]']      \n",
            " n)                                                                                               \n",
            "                                                                                                  \n",
            " conv4_block1_0_conv (Conv2D)   (None, 14, 14, 1024  525312      ['conv3_block4_out[0][0]']       \n",
            "                                )                                                                 \n",
            "                                                                                                  \n",
            " conv4_block1_3_conv (Conv2D)   (None, 14, 14, 1024  263168      ['conv4_block1_2_relu[0][0]']    \n",
            "                                )                                                                 \n",
            "                                                                                                  \n",
            " conv4_block1_0_bn (BatchNormal  (None, 14, 14, 1024  4096       ['conv4_block1_0_conv[0][0]']    \n",
            " ization)                       )                                                                 \n",
            "                                                                                                  \n",
            " conv4_block1_3_bn (BatchNormal  (None, 14, 14, 1024  4096       ['conv4_block1_3_conv[0][0]']    \n",
            " ization)                       )                                                                 \n",
            "                                                                                                  \n",
            " conv4_block1_add (Add)         (None, 14, 14, 1024  0           ['conv4_block1_0_bn[0][0]',      \n",
            "                                )                                 'conv4_block1_3_bn[0][0]']      \n",
            "                                                                                                  \n",
            " conv4_block1_out (Activation)  (None, 14, 14, 1024  0           ['conv4_block1_add[0][0]']       \n",
            "                                )                                                                 \n",
            "                                                                                                  \n",
            " conv4_block2_1_conv (Conv2D)   (None, 14, 14, 256)  262400      ['conv4_block1_out[0][0]']       \n",
            "                                                                                                  \n",
            " conv4_block2_1_bn (BatchNormal  (None, 14, 14, 256)  1024       ['conv4_block2_1_conv[0][0]']    \n",
            " ization)                                                                                         \n",
            "                                                                                                  \n",
            " conv4_block2_1_relu (Activatio  (None, 14, 14, 256)  0          ['conv4_block2_1_bn[0][0]']      \n",
            " n)                                                                                               \n",
            "                                                                                                  \n",
            " conv4_block2_2_conv (Conv2D)   (None, 14, 14, 256)  590080      ['conv4_block2_1_relu[0][0]']    \n",
            "                                                                                                  \n",
            " conv4_block2_2_bn (BatchNormal  (None, 14, 14, 256)  1024       ['conv4_block2_2_conv[0][0]']    \n",
            " ization)                                                                                         \n",
            "                                                                                                  \n",
            " conv4_block2_2_relu (Activatio  (None, 14, 14, 256)  0          ['conv4_block2_2_bn[0][0]']      \n",
            " n)                                                                                               \n",
            "                                                                                                  \n",
            " conv4_block2_3_conv (Conv2D)   (None, 14, 14, 1024  263168      ['conv4_block2_2_relu[0][0]']    \n",
            "                                )                                                                 \n",
            "                                                                                                  \n",
            " conv4_block2_3_bn (BatchNormal  (None, 14, 14, 1024  4096       ['conv4_block2_3_conv[0][0]']    \n",
            " ization)                       )                                                                 \n",
            "                                                                                                  \n",
            " conv4_block2_add (Add)         (None, 14, 14, 1024  0           ['conv4_block1_out[0][0]',       \n",
            "                                )                                 'conv4_block2_3_bn[0][0]']      \n",
            "                                                                                                  \n",
            " conv4_block2_out (Activation)  (None, 14, 14, 1024  0           ['conv4_block2_add[0][0]']       \n",
            "                                )                                                                 \n",
            "                                                                                                  \n",
            " conv4_block3_1_conv (Conv2D)   (None, 14, 14, 256)  262400      ['conv4_block2_out[0][0]']       \n",
            "                                                                                                  \n",
            " conv4_block3_1_bn (BatchNormal  (None, 14, 14, 256)  1024       ['conv4_block3_1_conv[0][0]']    \n",
            " ization)                                                                                         \n",
            "                                                                                                  \n",
            " conv4_block3_1_relu (Activatio  (None, 14, 14, 256)  0          ['conv4_block3_1_bn[0][0]']      \n",
            " n)                                                                                               \n",
            "                                                                                                  \n",
            " conv4_block3_2_conv (Conv2D)   (None, 14, 14, 256)  590080      ['conv4_block3_1_relu[0][0]']    \n",
            "                                                                                                  \n",
            " conv4_block3_2_bn (BatchNormal  (None, 14, 14, 256)  1024       ['conv4_block3_2_conv[0][0]']    \n",
            " ization)                                                                                         \n",
            "                                                                                                  \n",
            " conv4_block3_2_relu (Activatio  (None, 14, 14, 256)  0          ['conv4_block3_2_bn[0][0]']      \n",
            " n)                                                                                               \n",
            "                                                                                                  \n",
            " conv4_block3_3_conv (Conv2D)   (None, 14, 14, 1024  263168      ['conv4_block3_2_relu[0][0]']    \n",
            "                                )                                                                 \n",
            "                                                                                                  \n",
            " conv4_block3_3_bn (BatchNormal  (None, 14, 14, 1024  4096       ['conv4_block3_3_conv[0][0]']    \n",
            " ization)                       )                                                                 \n",
            "                                                                                                  \n",
            " conv4_block3_add (Add)         (None, 14, 14, 1024  0           ['conv4_block2_out[0][0]',       \n",
            "                                )                                 'conv4_block3_3_bn[0][0]']      \n",
            "                                                                                                  \n",
            " conv4_block3_out (Activation)  (None, 14, 14, 1024  0           ['conv4_block3_add[0][0]']       \n",
            "                                )                                                                 \n",
            "                                                                                                  \n",
            " conv4_block4_1_conv (Conv2D)   (None, 14, 14, 256)  262400      ['conv4_block3_out[0][0]']       \n",
            "                                                                                                  \n",
            " conv4_block4_1_bn (BatchNormal  (None, 14, 14, 256)  1024       ['conv4_block4_1_conv[0][0]']    \n",
            " ization)                                                                                         \n",
            "                                                                                                  \n",
            " conv4_block4_1_relu (Activatio  (None, 14, 14, 256)  0          ['conv4_block4_1_bn[0][0]']      \n",
            " n)                                                                                               \n",
            "                                                                                                  \n",
            " conv4_block4_2_conv (Conv2D)   (None, 14, 14, 256)  590080      ['conv4_block4_1_relu[0][0]']    \n",
            "                                                                                                  \n",
            " conv4_block4_2_bn (BatchNormal  (None, 14, 14, 256)  1024       ['conv4_block4_2_conv[0][0]']    \n",
            " ization)                                                                                         \n",
            "                                                                                                  \n",
            " conv4_block4_2_relu (Activatio  (None, 14, 14, 256)  0          ['conv4_block4_2_bn[0][0]']      \n",
            " n)                                                                                               \n",
            "                                                                                                  \n",
            " conv4_block4_3_conv (Conv2D)   (None, 14, 14, 1024  263168      ['conv4_block4_2_relu[0][0]']    \n",
            "                                )                                                                 \n",
            "                                                                                                  \n",
            " conv4_block4_3_bn (BatchNormal  (None, 14, 14, 1024  4096       ['conv4_block4_3_conv[0][0]']    \n",
            " ization)                       )                                                                 \n",
            "                                                                                                  \n",
            " conv4_block4_add (Add)         (None, 14, 14, 1024  0           ['conv4_block3_out[0][0]',       \n",
            "                                )                                 'conv4_block4_3_bn[0][0]']      \n",
            "                                                                                                  \n",
            " conv4_block4_out (Activation)  (None, 14, 14, 1024  0           ['conv4_block4_add[0][0]']       \n",
            "                                )                                                                 \n",
            "                                                                                                  \n",
            " conv4_block5_1_conv (Conv2D)   (None, 14, 14, 256)  262400      ['conv4_block4_out[0][0]']       \n",
            "                                                                                                  \n",
            " conv4_block5_1_bn (BatchNormal  (None, 14, 14, 256)  1024       ['conv4_block5_1_conv[0][0]']    \n",
            " ization)                                                                                         \n",
            "                                                                                                  \n",
            " conv4_block5_1_relu (Activatio  (None, 14, 14, 256)  0          ['conv4_block5_1_bn[0][0]']      \n",
            " n)                                                                                               \n",
            "                                                                                                  \n",
            " conv4_block5_2_conv (Conv2D)   (None, 14, 14, 256)  590080      ['conv4_block5_1_relu[0][0]']    \n",
            "                                                                                                  \n",
            " conv4_block5_2_bn (BatchNormal  (None, 14, 14, 256)  1024       ['conv4_block5_2_conv[0][0]']    \n",
            " ization)                                                                                         \n",
            "                                                                                                  \n",
            " conv4_block5_2_relu (Activatio  (None, 14, 14, 256)  0          ['conv4_block5_2_bn[0][0]']      \n",
            " n)                                                                                               \n",
            "                                                                                                  \n",
            " conv4_block5_3_conv (Conv2D)   (None, 14, 14, 1024  263168      ['conv4_block5_2_relu[0][0]']    \n",
            "                                )                                                                 \n",
            "                                                                                                  \n",
            " conv4_block5_3_bn (BatchNormal  (None, 14, 14, 1024  4096       ['conv4_block5_3_conv[0][0]']    \n",
            " ization)                       )                                                                 \n",
            "                                                                                                  \n",
            " conv4_block5_add (Add)         (None, 14, 14, 1024  0           ['conv4_block4_out[0][0]',       \n",
            "                                )                                 'conv4_block5_3_bn[0][0]']      \n",
            "                                                                                                  \n",
            " conv4_block5_out (Activation)  (None, 14, 14, 1024  0           ['conv4_block5_add[0][0]']       \n",
            "                                )                                                                 \n",
            "                                                                                                  \n",
            " conv4_block6_1_conv (Conv2D)   (None, 14, 14, 256)  262400      ['conv4_block5_out[0][0]']       \n",
            "                                                                                                  \n",
            " conv4_block6_1_bn (BatchNormal  (None, 14, 14, 256)  1024       ['conv4_block6_1_conv[0][0]']    \n",
            " ization)                                                                                         \n",
            "                                                                                                  \n",
            " conv4_block6_1_relu (Activatio  (None, 14, 14, 256)  0          ['conv4_block6_1_bn[0][0]']      \n",
            " n)                                                                                               \n",
            "                                                                                                  \n",
            " conv4_block6_2_conv (Conv2D)   (None, 14, 14, 256)  590080      ['conv4_block6_1_relu[0][0]']    \n",
            "                                                                                                  \n",
            " conv4_block6_2_bn (BatchNormal  (None, 14, 14, 256)  1024       ['conv4_block6_2_conv[0][0]']    \n",
            " ization)                                                                                         \n",
            "                                                                                                  \n",
            " conv4_block6_2_relu (Activatio  (None, 14, 14, 256)  0          ['conv4_block6_2_bn[0][0]']      \n",
            " n)                                                                                               \n",
            "                                                                                                  \n",
            " conv4_block6_3_conv (Conv2D)   (None, 14, 14, 1024  263168      ['conv4_block6_2_relu[0][0]']    \n",
            "                                )                                                                 \n",
            "                                                                                                  \n",
            " conv4_block6_3_bn (BatchNormal  (None, 14, 14, 1024  4096       ['conv4_block6_3_conv[0][0]']    \n",
            " ization)                       )                                                                 \n",
            "                                                                                                  \n",
            " conv4_block6_add (Add)         (None, 14, 14, 1024  0           ['conv4_block5_out[0][0]',       \n",
            "                                )                                 'conv4_block6_3_bn[0][0]']      \n",
            "                                                                                                  \n",
            " conv4_block6_out (Activation)  (None, 14, 14, 1024  0           ['conv4_block6_add[0][0]']       \n",
            "                                )                                                                 \n",
            "                                                                                                  \n",
            " conv5_block1_1_conv (Conv2D)   (None, 7, 7, 512)    524800      ['conv4_block6_out[0][0]']       \n",
            "                                                                                                  \n",
            " conv5_block1_1_bn (BatchNormal  (None, 7, 7, 512)   2048        ['conv5_block1_1_conv[0][0]']    \n",
            " ization)                                                                                         \n",
            "                                                                                                  \n",
            " conv5_block1_1_relu (Activatio  (None, 7, 7, 512)   0           ['conv5_block1_1_bn[0][0]']      \n",
            " n)                                                                                               \n",
            "                                                                                                  \n",
            " conv5_block1_2_conv (Conv2D)   (None, 7, 7, 512)    2359808     ['conv5_block1_1_relu[0][0]']    \n",
            "                                                                                                  \n",
            " conv5_block1_2_bn (BatchNormal  (None, 7, 7, 512)   2048        ['conv5_block1_2_conv[0][0]']    \n",
            " ization)                                                                                         \n",
            "                                                                                                  \n",
            " conv5_block1_2_relu (Activatio  (None, 7, 7, 512)   0           ['conv5_block1_2_bn[0][0]']      \n",
            " n)                                                                                               \n",
            "                                                                                                  \n",
            " conv5_block1_0_conv (Conv2D)   (None, 7, 7, 2048)   2099200     ['conv4_block6_out[0][0]']       \n",
            "                                                                                                  \n",
            " conv5_block1_3_conv (Conv2D)   (None, 7, 7, 2048)   1050624     ['conv5_block1_2_relu[0][0]']    \n",
            "                                                                                                  \n",
            " conv5_block1_0_bn (BatchNormal  (None, 7, 7, 2048)  8192        ['conv5_block1_0_conv[0][0]']    \n",
            " ization)                                                                                         \n",
            "                                                                                                  \n",
            " conv5_block1_3_bn (BatchNormal  (None, 7, 7, 2048)  8192        ['conv5_block1_3_conv[0][0]']    \n",
            " ization)                                                                                         \n",
            "                                                                                                  \n",
            " conv5_block1_add (Add)         (None, 7, 7, 2048)   0           ['conv5_block1_0_bn[0][0]',      \n",
            "                                                                  'conv5_block1_3_bn[0][0]']      \n",
            "                                                                                                  \n",
            " conv5_block1_out (Activation)  (None, 7, 7, 2048)   0           ['conv5_block1_add[0][0]']       \n",
            "                                                                                                  \n",
            " conv5_block2_1_conv (Conv2D)   (None, 7, 7, 512)    1049088     ['conv5_block1_out[0][0]']       \n",
            "                                                                                                  \n",
            " conv5_block2_1_bn (BatchNormal  (None, 7, 7, 512)   2048        ['conv5_block2_1_conv[0][0]']    \n",
            " ization)                                                                                         \n",
            "                                                                                                  \n",
            " conv5_block2_1_relu (Activatio  (None, 7, 7, 512)   0           ['conv5_block2_1_bn[0][0]']      \n",
            " n)                                                                                               \n",
            "                                                                                                  \n",
            " conv5_block2_2_conv (Conv2D)   (None, 7, 7, 512)    2359808     ['conv5_block2_1_relu[0][0]']    \n",
            "                                                                                                  \n",
            " conv5_block2_2_bn (BatchNormal  (None, 7, 7, 512)   2048        ['conv5_block2_2_conv[0][0]']    \n",
            " ization)                                                                                         \n",
            "                                                                                                  \n",
            " conv5_block2_2_relu (Activatio  (None, 7, 7, 512)   0           ['conv5_block2_2_bn[0][0]']      \n",
            " n)                                                                                               \n",
            "                                                                                                  \n",
            " conv5_block2_3_conv (Conv2D)   (None, 7, 7, 2048)   1050624     ['conv5_block2_2_relu[0][0]']    \n",
            "                                                                                                  \n",
            " conv5_block2_3_bn (BatchNormal  (None, 7, 7, 2048)  8192        ['conv5_block2_3_conv[0][0]']    \n",
            " ization)                                                                                         \n",
            "                                                                                                  \n",
            " conv5_block2_add (Add)         (None, 7, 7, 2048)   0           ['conv5_block1_out[0][0]',       \n",
            "                                                                  'conv5_block2_3_bn[0][0]']      \n",
            "                                                                                                  \n",
            " conv5_block2_out (Activation)  (None, 7, 7, 2048)   0           ['conv5_block2_add[0][0]']       \n",
            "                                                                                                  \n",
            " conv5_block3_1_conv (Conv2D)   (None, 7, 7, 512)    1049088     ['conv5_block2_out[0][0]']       \n",
            "                                                                                                  \n",
            " conv5_block3_1_bn (BatchNormal  (None, 7, 7, 512)   2048        ['conv5_block3_1_conv[0][0]']    \n",
            " ization)                                                                                         \n",
            "                                                                                                  \n",
            " conv5_block3_1_relu (Activatio  (None, 7, 7, 512)   0           ['conv5_block3_1_bn[0][0]']      \n",
            " n)                                                                                               \n",
            "                                                                                                  \n",
            " conv5_block3_2_conv (Conv2D)   (None, 7, 7, 512)    2359808     ['conv5_block3_1_relu[0][0]']    \n",
            "                                                                                                  \n",
            " conv5_block3_2_bn (BatchNormal  (None, 7, 7, 512)   2048        ['conv5_block3_2_conv[0][0]']    \n",
            " ization)                                                                                         \n",
            "                                                                                                  \n",
            " conv5_block3_2_relu (Activatio  (None, 7, 7, 512)   0           ['conv5_block3_2_bn[0][0]']      \n",
            " n)                                                                                               \n",
            "                                                                                                  \n",
            " conv5_block3_3_conv (Conv2D)   (None, 7, 7, 2048)   1050624     ['conv5_block3_2_relu[0][0]']    \n",
            "                                                                                                  \n",
            " conv5_block3_3_bn (BatchNormal  (None, 7, 7, 2048)  8192        ['conv5_block3_3_conv[0][0]']    \n",
            " ization)                                                                                         \n",
            "                                                                                                  \n",
            " conv5_block3_add (Add)         (None, 7, 7, 2048)   0           ['conv5_block2_out[0][0]',       \n",
            "                                                                  'conv5_block3_3_bn[0][0]']      \n",
            "                                                                                                  \n",
            " conv5_block3_out (Activation)  (None, 7, 7, 2048)   0           ['conv5_block3_add[0][0]']       \n",
            "                                                                                                  \n",
            " flatten_3 (Flatten)            (None, 100352)       0           ['conv5_block3_out[0][0]']       \n",
            "                                                                                                  \n",
            " dense_3 (Dense)                (None, 16)           1605648     ['flatten_3[0][0]']              \n",
            "                                                                                                  \n",
            "==================================================================================================\n",
            "Total params: 25,193,360\n",
            "Trainable params: 1,605,648\n",
            "Non-trainable params: 23,587,712\n",
            "__________________________________________________________________________________________________\n"
          ]
        }
      ]
    },
    {
      "cell_type": "code",
      "source": [
        "res_model.compile(loss='categorical_crossentropy',optimizer='adam',metrics=['accuracy'])\n"
      ],
      "metadata": {
        "id": "02t8YHAVKZJj"
      },
      "execution_count": null,
      "outputs": []
    },
    {
      "cell_type": "code",
      "source": [
        "res_model.fit_generator(train,epochs=10,validation_data=test,steps_per_epoch=len(train),\n",
        "              validation_steps=len(test))"
      ],
      "metadata": {
        "colab": {
          "base_uri": "https://localhost:8080/"
        },
        "id": "vjVK7dw7KdCG",
        "outputId": "cfe84894-56df-4b87-98bf-a79fdc2e2d48"
      },
      "execution_count": null,
      "outputs": [
        {
          "output_type": "stream",
          "name": "stderr",
          "text": [
            "<ipython-input-49-ff17a629f64b>:1: UserWarning: `Model.fit_generator` is deprecated and will be removed in a future version. Please use `Model.fit`, which supports generators.\n",
            "  res_model.fit_generator(train,epochs=10,validation_data=test,steps_per_epoch=len(train),\n"
          ]
        },
        {
          "output_type": "stream",
          "name": "stdout",
          "text": [
            "Epoch 1/10\n",
            "7/7 [==============================] - 95s 14s/step - loss: 13.1771 - accuracy: 0.0533 - val_loss: 15.4456 - val_accuracy: 0.1210\n",
            "Epoch 2/10\n",
            "7/7 [==============================] - 94s 14s/step - loss: 11.4387 - accuracy: 0.1333 - val_loss: 9.5339 - val_accuracy: 0.1146\n",
            "Epoch 3/10\n",
            "7/7 [==============================] - 93s 14s/step - loss: 8.7051 - accuracy: 0.1600 - val_loss: 7.6318 - val_accuracy: 0.1019\n",
            "Epoch 4/10\n",
            "7/7 [==============================] - 84s 13s/step - loss: 6.2572 - accuracy: 0.1800 - val_loss: 8.1319 - val_accuracy: 0.1465\n",
            "Epoch 5/10\n",
            "7/7 [==============================] - 84s 13s/step - loss: 4.9322 - accuracy: 0.3133 - val_loss: 5.9984 - val_accuracy: 0.1592\n",
            "Epoch 6/10\n",
            "7/7 [==============================] - 85s 13s/step - loss: 3.6370 - accuracy: 0.2200 - val_loss: 4.7013 - val_accuracy: 0.2229\n",
            "Epoch 7/10\n",
            "7/7 [==============================] - 119s 19s/step - loss: 2.4372 - accuracy: 0.3933 - val_loss: 3.8848 - val_accuracy: 0.2229\n",
            "Epoch 8/10\n",
            "7/7 [==============================] - 119s 19s/step - loss: 1.9350 - accuracy: 0.4467 - val_loss: 3.6243 - val_accuracy: 0.1911\n",
            "Epoch 9/10\n",
            "7/7 [==============================] - 84s 13s/step - loss: 1.8502 - accuracy: 0.4600 - val_loss: 3.9203 - val_accuracy: 0.1338\n",
            "Epoch 10/10\n",
            "7/7 [==============================] - 119s 19s/step - loss: 1.7032 - accuracy: 0.4467 - val_loss: 3.7259 - val_accuracy: 0.2102\n"
          ]
        },
        {
          "output_type": "execute_result",
          "data": {
            "text/plain": [
              "<keras.callbacks.History at 0x7fa63cd9c160>"
            ]
          },
          "metadata": {},
          "execution_count": 49
        }
      ]
    },
    {
      "cell_type": "markdown",
      "source": [
        "**Resnet also gives very less accuracy of 21 , so we can go with other methods like Inception and Xception.**"
      ],
      "metadata": {
        "id": "NTkAgIwlamSx"
      }
    },
    {
      "cell_type": "markdown",
      "source": [
        "**Inseption**"
      ],
      "metadata": {
        "id": "AL-g0lOEYsjZ"
      }
    },
    {
      "cell_type": "code",
      "source": [
        "from tensorflow.keras.applications.inception_v3 import InceptionV3\n"
      ],
      "metadata": {
        "id": "xNuThAO4VbZz"
      },
      "execution_count": null,
      "outputs": []
    },
    {
      "cell_type": "code",
      "source": [
        "inception = InceptionV3(include_top=False, input_shape=(224, 224, 3))\n"
      ],
      "metadata": {
        "colab": {
          "base_uri": "https://localhost:8080/"
        },
        "id": "i5oURgYpLv6J",
        "outputId": "31062a63-be76-4db3-dc57-1a65c4a93b43"
      },
      "execution_count": null,
      "outputs": [
        {
          "output_type": "stream",
          "name": "stdout",
          "text": [
            "Downloading data from https://storage.googleapis.com/tensorflow/keras-applications/inception_v3/inception_v3_weights_tf_dim_ordering_tf_kernels_notop.h5\n",
            "87910968/87910968 [==============================] - 0s 0us/step\n"
          ]
        }
      ]
    },
    {
      "cell_type": "code",
      "source": [
        "\n",
        "for layer in inception.layers:\n",
        "    layer.trainable = False\n",
        "\n"
      ],
      "metadata": {
        "id": "wdGpg6pgbJ32"
      },
      "execution_count": null,
      "outputs": []
    },
    {
      "cell_type": "code",
      "source": [
        "\n",
        "for layer in inception.layers:\n",
        "    print(layer)\n",
        "\n"
      ],
      "metadata": {
        "colab": {
          "base_uri": "https://localhost:8080/"
        },
        "id": "v4rxnNjMbPkv",
        "outputId": "4de4f840-28b2-434a-de1a-44cdb6a38f5f"
      },
      "execution_count": null,
      "outputs": [
        {
          "output_type": "stream",
          "name": "stdout",
          "text": [
            "<keras.engine.input_layer.InputLayer object at 0x7fa62e207d90>\n",
            "<keras.layers.convolutional.conv2d.Conv2D object at 0x7fa62e207a90>\n",
            "<keras.layers.normalization.batch_normalization.BatchNormalization object at 0x7fa62e207e20>\n",
            "<keras.layers.core.activation.Activation object at 0x7fa62e207730>\n",
            "<keras.layers.convolutional.conv2d.Conv2D object at 0x7fa63cc477c0>\n",
            "<keras.layers.normalization.batch_normalization.BatchNormalization object at 0x7fa62e218a30>\n",
            "<keras.layers.core.activation.Activation object at 0x7fa62e21a7d0>\n",
            "<keras.layers.convolutional.conv2d.Conv2D object at 0x7fa62e218130>\n",
            "<keras.layers.normalization.batch_normalization.BatchNormalization object at 0x7fa62e21a770>\n",
            "<keras.layers.core.activation.Activation object at 0x7fa62e26d1b0>\n",
            "<keras.layers.pooling.max_pooling2d.MaxPooling2D object at 0x7fa6381c7d00>\n",
            "<keras.layers.convolutional.conv2d.Conv2D object at 0x7fa62e299bd0>\n",
            "<keras.layers.normalization.batch_normalization.BatchNormalization object at 0x7fa62e21a860>\n",
            "<keras.layers.core.activation.Activation object at 0x7fa62e219000>\n",
            "<keras.layers.convolutional.conv2d.Conv2D object at 0x7fa62e219e70>\n",
            "<keras.layers.normalization.batch_normalization.BatchNormalization object at 0x7fa62e0d6320>\n",
            "<keras.layers.core.activation.Activation object at 0x7fa62e0d7f10>\n",
            "<keras.layers.pooling.max_pooling2d.MaxPooling2D object at 0x7fa62e0d7640>\n",
            "<keras.layers.convolutional.conv2d.Conv2D object at 0x7fa62e11ae90>\n",
            "<keras.layers.normalization.batch_normalization.BatchNormalization object at 0x7fa62e118c40>\n",
            "<keras.layers.core.activation.Activation object at 0x7fa62e26d870>\n",
            "<keras.layers.convolutional.conv2d.Conv2D object at 0x7fa62e0d7be0>\n",
            "<keras.layers.convolutional.conv2d.Conv2D object at 0x7fa62e26ded0>\n",
            "<keras.layers.normalization.batch_normalization.BatchNormalization object at 0x7fa62e1189a0>\n",
            "<keras.layers.normalization.batch_normalization.BatchNormalization object at 0x7fa62e118070>\n",
            "<keras.layers.core.activation.Activation object at 0x7fa62e11b820>\n",
            "<keras.layers.core.activation.Activation object at 0x7fa62e21abf0>\n",
            "<keras.layers.pooling.average_pooling2d.AveragePooling2D object at 0x7fa62e0ea920>\n",
            "<keras.layers.convolutional.conv2d.Conv2D object at 0x7fa62e0d4d60>\n",
            "<keras.layers.convolutional.conv2d.Conv2D object at 0x7fa62e11af80>\n",
            "<keras.layers.convolutional.conv2d.Conv2D object at 0x7fa62e11bdc0>\n",
            "<keras.layers.convolutional.conv2d.Conv2D object at 0x7fa62e11beb0>\n",
            "<keras.layers.normalization.batch_normalization.BatchNormalization object at 0x7fa62e0d41f0>\n",
            "<keras.layers.normalization.batch_normalization.BatchNormalization object at 0x7fa62e11b700>\n",
            "<keras.layers.normalization.batch_normalization.BatchNormalization object at 0x7fa62e21ba90>\n",
            "<keras.layers.normalization.batch_normalization.BatchNormalization object at 0x7fa62e0ea080>\n",
            "<keras.layers.core.activation.Activation object at 0x7fa62e0d7820>\n",
            "<keras.layers.core.activation.Activation object at 0x7fa62e1198d0>\n",
            "<keras.layers.core.activation.Activation object at 0x7fa62e0d55a0>\n",
            "<keras.layers.core.activation.Activation object at 0x7fa62e0eb520>\n",
            "<keras.layers.merging.concatenate.Concatenate object at 0x7fa62e0eb370>\n",
            "<keras.layers.convolutional.conv2d.Conv2D object at 0x7fa62e0cfa60>\n",
            "<keras.layers.normalization.batch_normalization.BatchNormalization object at 0x7fa62e07db70>\n",
            "<keras.layers.core.activation.Activation object at 0x7fa62e07f5e0>\n",
            "<keras.layers.convolutional.conv2d.Conv2D object at 0x7fa62e0eaf20>\n",
            "<keras.layers.convolutional.conv2d.Conv2D object at 0x7fa62e07ed40>\n",
            "<keras.layers.normalization.batch_normalization.BatchNormalization object at 0x7fa62e0ce6e0>\n",
            "<keras.layers.normalization.batch_normalization.BatchNormalization object at 0x7fa62e07f4c0>\n",
            "<keras.layers.core.activation.Activation object at 0x7fa62e0cec20>\n",
            "<keras.layers.core.activation.Activation object at 0x7fa62e07df60>\n",
            "<keras.layers.pooling.average_pooling2d.AveragePooling2D object at 0x7fa62e08eaa0>\n",
            "<keras.layers.convolutional.conv2d.Conv2D object at 0x7fa62e0e8910>\n",
            "<keras.layers.convolutional.conv2d.Conv2D object at 0x7fa62e0cf880>\n",
            "<keras.layers.convolutional.conv2d.Conv2D object at 0x7fa62e07ec50>\n",
            "<keras.layers.convolutional.conv2d.Conv2D object at 0x7fa62e08c400>\n",
            "<keras.layers.normalization.batch_normalization.BatchNormalization object at 0x7fa62e0eb910>\n",
            "<keras.layers.normalization.batch_normalization.BatchNormalization object at 0x7fa62e0cebf0>\n",
            "<keras.layers.normalization.batch_normalization.BatchNormalization object at 0x7fa62e08d270>\n",
            "<keras.layers.normalization.batch_normalization.BatchNormalization object at 0x7fa62e08c580>\n",
            "<keras.layers.core.activation.Activation object at 0x7fa62e0eb0d0>\n",
            "<keras.layers.core.activation.Activation object at 0x7fa62e0cebc0>\n",
            "<keras.layers.core.activation.Activation object at 0x7fa62e08eb60>\n",
            "<keras.layers.core.activation.Activation object at 0x7fa62e08c970>\n",
            "<keras.layers.merging.concatenate.Concatenate object at 0x7fa62e08c5b0>\n",
            "<keras.layers.convolutional.conv2d.Conv2D object at 0x7fa63cc47a60>\n",
            "<keras.layers.normalization.batch_normalization.BatchNormalization object at 0x7fa62e0cf8b0>\n",
            "<keras.layers.core.activation.Activation object at 0x7fa62e08e710>\n",
            "<keras.layers.convolutional.conv2d.Conv2D object at 0x7fa62e08dfc0>\n",
            "<keras.layers.convolutional.conv2d.Conv2D object at 0x7fa62e08f280>\n",
            "<keras.layers.normalization.batch_normalization.BatchNormalization object at 0x7fa62e08d930>\n",
            "<keras.layers.normalization.batch_normalization.BatchNormalization object at 0x7fa62e0a1780>\n",
            "<keras.layers.core.activation.Activation object at 0x7fa62e07e8c0>\n",
            "<keras.layers.core.activation.Activation object at 0x7fa62e0a3910>\n",
            "<keras.layers.pooling.average_pooling2d.AveragePooling2D object at 0x7fa62e0a33d0>\n",
            "<keras.layers.convolutional.conv2d.Conv2D object at 0x7fa62e08eec0>\n",
            "<keras.layers.convolutional.conv2d.Conv2D object at 0x7fa62e08cd90>\n",
            "<keras.layers.convolutional.conv2d.Conv2D object at 0x7fa62e0a2f20>\n",
            "<keras.layers.convolutional.conv2d.Conv2D object at 0x7fa62e08ead0>\n",
            "<keras.layers.normalization.batch_normalization.BatchNormalization object at 0x7fa62e08f730>\n",
            "<keras.layers.normalization.batch_normalization.BatchNormalization object at 0x7fa62e0cf940>\n",
            "<keras.layers.normalization.batch_normalization.BatchNormalization object at 0x7fa62e0a38b0>\n",
            "<keras.layers.normalization.batch_normalization.BatchNormalization object at 0x7fa5fa50da50>\n",
            "<keras.layers.core.activation.Activation object at 0x7fa62e08e6b0>\n",
            "<keras.layers.core.activation.Activation object at 0x7fa62e218820>\n",
            "<keras.layers.core.activation.Activation object at 0x7fa62e0a22c0>\n",
            "<keras.layers.core.activation.Activation object at 0x7fa5fa50edd0>\n",
            "<keras.layers.merging.concatenate.Concatenate object at 0x7fa5fa50ec20>\n",
            "<keras.layers.convolutional.conv2d.Conv2D object at 0x7fa5fa50fcd0>\n",
            "<keras.layers.normalization.batch_normalization.BatchNormalization object at 0x7fa5fa50ffa0>\n",
            "<keras.layers.core.activation.Activation object at 0x7fa5fa50feb0>\n",
            "<keras.layers.convolutional.conv2d.Conv2D object at 0x7fa5fa50e0e0>\n",
            "<keras.layers.normalization.batch_normalization.BatchNormalization object at 0x7fa5fa526410>\n",
            "<keras.layers.core.activation.Activation object at 0x7fa5fa5270d0>\n",
            "<keras.layers.convolutional.conv2d.Conv2D object at 0x7fa5fa50ece0>\n",
            "<keras.layers.convolutional.conv2d.Conv2D object at 0x7fa5fa527d30>\n",
            "<keras.layers.normalization.batch_normalization.BatchNormalization object at 0x7fa5fa50e260>\n",
            "<keras.layers.normalization.batch_normalization.BatchNormalization object at 0x7fa5fa526b90>\n",
            "<keras.layers.core.activation.Activation object at 0x7fa5fa50df30>\n",
            "<keras.layers.core.activation.Activation object at 0x7fa5fa527be0>\n",
            "<keras.layers.pooling.max_pooling2d.MaxPooling2D object at 0x7fa5fa54d4e0>\n",
            "<keras.layers.merging.concatenate.Concatenate object at 0x7fa5fa54c910>\n",
            "<keras.layers.convolutional.conv2d.Conv2D object at 0x7fa62e0a16c0>\n",
            "<keras.layers.normalization.batch_normalization.BatchNormalization object at 0x7fa62e218d60>\n",
            "<keras.layers.core.activation.Activation object at 0x7fa62e0cdde0>\n",
            "<keras.layers.convolutional.conv2d.Conv2D object at 0x7fa64c293370>\n",
            "<keras.layers.normalization.batch_normalization.BatchNormalization object at 0x7fa62e0a21a0>\n",
            "<keras.layers.core.activation.Activation object at 0x7fa62e0a2bf0>\n",
            "<keras.layers.convolutional.conv2d.Conv2D object at 0x7fa5fa54efe0>\n",
            "<keras.layers.convolutional.conv2d.Conv2D object at 0x7fa62e0ebfd0>\n",
            "<keras.layers.normalization.batch_normalization.BatchNormalization object at 0x7fa5fa54e740>\n",
            "<keras.layers.normalization.batch_normalization.BatchNormalization object at 0x7fa5fa56abc0>\n",
            "<keras.layers.core.activation.Activation object at 0x7fa5fa54c9a0>\n",
            "<keras.layers.core.activation.Activation object at 0x7fa5fa569b40>\n",
            "<keras.layers.convolutional.conv2d.Conv2D object at 0x7fa5fa54f490>\n",
            "<keras.layers.convolutional.conv2d.Conv2D object at 0x7fa5fa56bd30>\n",
            "<keras.layers.normalization.batch_normalization.BatchNormalization object at 0x7fa5fa54d2a0>\n",
            "<keras.layers.normalization.batch_normalization.BatchNormalization object at 0x7fa5fa56a380>\n",
            "<keras.layers.core.activation.Activation object at 0x7fa5fa527730>\n",
            "<keras.layers.core.activation.Activation object at 0x7fa5fa56beb0>\n",
            "<keras.layers.pooling.average_pooling2d.AveragePooling2D object at 0x7fa5fa5839d0>\n",
            "<keras.layers.convolutional.conv2d.Conv2D object at 0x7fa5fa54d7b0>\n",
            "<keras.layers.convolutional.conv2d.Conv2D object at 0x7fa5fa5253c0>\n",
            "<keras.layers.convolutional.conv2d.Conv2D object at 0x7fa5fa56b430>\n",
            "<keras.layers.convolutional.conv2d.Conv2D object at 0x7fa5fa5825c0>\n",
            "<keras.layers.normalization.batch_normalization.BatchNormalization object at 0x7fa5fa54ed70>\n",
            "<keras.layers.normalization.batch_normalization.BatchNormalization object at 0x7fa5fa50e8f0>\n",
            "<keras.layers.normalization.batch_normalization.BatchNormalization object at 0x7fa5fa582020>\n",
            "<keras.layers.normalization.batch_normalization.BatchNormalization object at 0x7fa5fa582200>\n",
            "<keras.layers.core.activation.Activation object at 0x7fa5fa50f850>\n",
            "<keras.layers.core.activation.Activation object at 0x7fa62e0a0880>\n",
            "<keras.layers.core.activation.Activation object at 0x7fa5fa583a90>\n",
            "<keras.layers.core.activation.Activation object at 0x7fa5fa5839a0>\n",
            "<keras.layers.merging.concatenate.Concatenate object at 0x7fa5fa5833a0>\n",
            "<keras.layers.convolutional.conv2d.Conv2D object at 0x7fa5fa5bbee0>\n",
            "<keras.layers.normalization.batch_normalization.BatchNormalization object at 0x7fa5fa5baef0>\n",
            "<keras.layers.core.activation.Activation object at 0x7fa5fa59c9a0>\n",
            "<keras.layers.convolutional.conv2d.Conv2D object at 0x7fa5fa59c4c0>\n",
            "<keras.layers.normalization.batch_normalization.BatchNormalization object at 0x7fa5fa59c250>\n",
            "<keras.layers.core.activation.Activation object at 0x7fa5fa5835e0>\n",
            "<keras.layers.convolutional.conv2d.Conv2D object at 0x7fa5fa59f100>\n",
            "<keras.layers.convolutional.conv2d.Conv2D object at 0x7fa5fa5ba3e0>\n",
            "<keras.layers.normalization.batch_normalization.BatchNormalization object at 0x7fa5fa59e6e0>\n",
            "<keras.layers.normalization.batch_normalization.BatchNormalization object at 0x7fa5fa582e90>\n",
            "<keras.layers.core.activation.Activation object at 0x7fa5fa59fe80>\n",
            "<keras.layers.core.activation.Activation object at 0x7fa5fa59d180>\n",
            "<keras.layers.convolutional.conv2d.Conv2D object at 0x7fa5fa59faf0>\n",
            "<keras.layers.convolutional.conv2d.Conv2D object at 0x7fa5fa54db40>\n",
            "<keras.layers.normalization.batch_normalization.BatchNormalization object at 0x7fa5fa59fbe0>\n",
            "<keras.layers.normalization.batch_normalization.BatchNormalization object at 0x7fa5fa56bbb0>\n",
            "<keras.layers.core.activation.Activation object at 0x7fa5fa59f4f0>\n",
            "<keras.layers.core.activation.Activation object at 0x7fa5fa5b9ff0>\n",
            "<keras.layers.pooling.average_pooling2d.AveragePooling2D object at 0x7fa5fa5d72b0>\n",
            "<keras.layers.convolutional.conv2d.Conv2D object at 0x7fa5fa581780>\n",
            "<keras.layers.convolutional.conv2d.Conv2D object at 0x7fa5fa59f400>\n",
            "<keras.layers.convolutional.conv2d.Conv2D object at 0x7fa5fa524b50>\n",
            "<keras.layers.convolutional.conv2d.Conv2D object at 0x7fa5fa5d5c60>\n",
            "<keras.layers.normalization.batch_normalization.BatchNormalization object at 0x7fa5fa59dd50>\n",
            "<keras.layers.normalization.batch_normalization.BatchNormalization object at 0x7fa5fa5bae00>\n",
            "<keras.layers.normalization.batch_normalization.BatchNormalization object at 0x7fa5fa5d5270>\n",
            "<keras.layers.normalization.batch_normalization.BatchNormalization object at 0x7fa5fa5d5ed0>\n",
            "<keras.layers.core.activation.Activation object at 0x7fa5fa583c10>\n",
            "<keras.layers.core.activation.Activation object at 0x7fa5fa5b92a0>\n",
            "<keras.layers.core.activation.Activation object at 0x7fa5fa5d7370>\n",
            "<keras.layers.core.activation.Activation object at 0x7fa5fa5d7be0>\n",
            "<keras.layers.merging.concatenate.Concatenate object at 0x7fa5fa5d7d60>\n",
            "<keras.layers.convolutional.conv2d.Conv2D object at 0x7fa5fa743430>\n",
            "<keras.layers.normalization.batch_normalization.BatchNormalization object at 0x7fa5fa743e20>\n",
            "<keras.layers.core.activation.Activation object at 0x7fa5fa742800>\n",
            "<keras.layers.convolutional.conv2d.Conv2D object at 0x7fa5fa7438b0>\n",
            "<keras.layers.normalization.batch_normalization.BatchNormalization object at 0x7fa5fa771ae0>\n",
            "<keras.layers.core.activation.Activation object at 0x7fa5fa7430a0>\n",
            "<keras.layers.convolutional.conv2d.Conv2D object at 0x7fa5fa5d6c50>\n",
            "<keras.layers.convolutional.conv2d.Conv2D object at 0x7fa5fa7418a0>\n",
            "<keras.layers.normalization.batch_normalization.BatchNormalization object at 0x7fa5fa5eac50>\n",
            "<keras.layers.normalization.batch_normalization.BatchNormalization object at 0x7fa5fa740760>\n",
            "<keras.layers.core.activation.Activation object at 0x7fa5fa5eb430>\n",
            "<keras.layers.core.activation.Activation object at 0x7fa5fa50cbb0>\n",
            "<keras.layers.convolutional.conv2d.Conv2D object at 0x7fa5fa5eb400>\n",
            "<keras.layers.convolutional.conv2d.Conv2D object at 0x7fa62e119240>\n",
            "<keras.layers.normalization.batch_normalization.BatchNormalization object at 0x7fa5fa5ebbe0>\n",
            "<keras.layers.normalization.batch_normalization.BatchNormalization object at 0x7fa5fa740c40>\n",
            "<keras.layers.core.activation.Activation object at 0x7fa5fa5e9810>\n",
            "<keras.layers.core.activation.Activation object at 0x7fa5fa524b80>\n",
            "<keras.layers.pooling.average_pooling2d.AveragePooling2D object at 0x7fa5fa5d5ba0>\n",
            "<keras.layers.convolutional.conv2d.Conv2D object at 0x7fa5fa5d78e0>\n",
            "<keras.layers.convolutional.conv2d.Conv2D object at 0x7fa5fa5ebb80>\n",
            "<keras.layers.convolutional.conv2d.Conv2D object at 0x7fa62e0a2d40>\n",
            "<keras.layers.convolutional.conv2d.Conv2D object at 0x7fa5fa5d72e0>\n",
            "<keras.layers.normalization.batch_normalization.BatchNormalization object at 0x7fa5fa5e99f0>\n",
            "<keras.layers.normalization.batch_normalization.BatchNormalization object at 0x7fa5fa5eb4f0>\n",
            "<keras.layers.normalization.batch_normalization.BatchNormalization object at 0x7fa5fa5d4c70>\n",
            "<keras.layers.normalization.batch_normalization.BatchNormalization object at 0x7fa5fa7710f0>\n",
            "<keras.layers.core.activation.Activation object at 0x7fa5fa5d73a0>\n",
            "<keras.layers.core.activation.Activation object at 0x7fa5fa5d6c80>\n",
            "<keras.layers.core.activation.Activation object at 0x7fa62e0cf6d0>\n",
            "<keras.layers.core.activation.Activation object at 0x7fa5fa7714e0>\n",
            "<keras.layers.merging.concatenate.Concatenate object at 0x7fa5fa771b40>\n",
            "<keras.layers.convolutional.conv2d.Conv2D object at 0x7fa5fa77af20>\n",
            "<keras.layers.normalization.batch_normalization.BatchNormalization object at 0x7fa5fa77b6a0>\n",
            "<keras.layers.core.activation.Activation object at 0x7fa5fa779690>\n",
            "<keras.layers.convolutional.conv2d.Conv2D object at 0x7fa5fa77ae30>\n",
            "<keras.layers.normalization.batch_normalization.BatchNormalization object at 0x7fa5fa7b8c40>\n",
            "<keras.layers.core.activation.Activation object at 0x7fa5fa7bad40>\n",
            "<keras.layers.convolutional.conv2d.Conv2D object at 0x7fa5fa772b60>\n",
            "<keras.layers.convolutional.conv2d.Conv2D object at 0x7fa5fa7ba350>\n",
            "<keras.layers.normalization.batch_normalization.BatchNormalization object at 0x7fa5fa755600>\n",
            "<keras.layers.normalization.batch_normalization.BatchNormalization object at 0x7fa5fa7bace0>\n",
            "<keras.layers.core.activation.Activation object at 0x7fa5fa7574c0>\n",
            "<keras.layers.core.activation.Activation object at 0x7fa5fa7b9e70>\n",
            "<keras.layers.convolutional.conv2d.Conv2D object at 0x7fa5fa757790>\n",
            "<keras.layers.convolutional.conv2d.Conv2D object at 0x7fa5fa7bbf10>\n",
            "<keras.layers.normalization.batch_normalization.BatchNormalization object at 0x7fa5fa756a70>\n",
            "<keras.layers.normalization.batch_normalization.BatchNormalization object at 0x7fa5fa7baa10>\n",
            "<keras.layers.core.activation.Activation object at 0x7fa5fa756ad0>\n",
            "<keras.layers.core.activation.Activation object at 0x7fa5fa7aa380>\n",
            "<keras.layers.pooling.average_pooling2d.AveragePooling2D object at 0x7fa5fa77aad0>\n",
            "<keras.layers.convolutional.conv2d.Conv2D object at 0x7fa5fa5275b0>\n",
            "<keras.layers.convolutional.conv2d.Conv2D object at 0x7fa5fa7578b0>\n",
            "<keras.layers.convolutional.conv2d.Conv2D object at 0x7fa5fa7ba740>\n",
            "<keras.layers.convolutional.conv2d.Conv2D object at 0x7fa6db9191e0>\n",
            "<keras.layers.normalization.batch_normalization.BatchNormalization object at 0x7fa5fa5835b0>\n",
            "<keras.layers.normalization.batch_normalization.BatchNormalization object at 0x7fa5fa779d50>\n",
            "<keras.layers.normalization.batch_normalization.BatchNormalization object at 0x7fa5fa7bb340>\n",
            "<keras.layers.normalization.batch_normalization.BatchNormalization object at 0x7fa6d13d5810>\n",
            "<keras.layers.core.activation.Activation object at 0x7fa5fa772410>\n",
            "<keras.layers.core.activation.Activation object at 0x7fa5fa77b7c0>\n",
            "<keras.layers.core.activation.Activation object at 0x7fa5fa7b8820>\n",
            "<keras.layers.core.activation.Activation object at 0x7fa64c40f400>\n",
            "<keras.layers.merging.concatenate.Concatenate object at 0x7fa6db737c40>\n",
            "<keras.layers.convolutional.conv2d.Conv2D object at 0x7fa64c32ebf0>\n",
            "<keras.layers.normalization.batch_normalization.BatchNormalization object at 0x7fa64c32ed10>\n",
            "<keras.layers.core.activation.Activation object at 0x7fa64c32f310>\n",
            "<keras.layers.convolutional.conv2d.Conv2D object at 0x7fa64c32ee00>\n",
            "<keras.layers.normalization.batch_normalization.BatchNormalization object at 0x7fa64c315b40>\n",
            "<keras.layers.core.activation.Activation object at 0x7fa64c314ac0>\n",
            "<keras.layers.convolutional.conv2d.Conv2D object at 0x7fa6d0473c10>\n",
            "<keras.layers.convolutional.conv2d.Conv2D object at 0x7fa64c316f50>\n",
            "<keras.layers.normalization.batch_normalization.BatchNormalization object at 0x7fa64c46b340>\n",
            "<keras.layers.normalization.batch_normalization.BatchNormalization object at 0x7fa64c314040>\n",
            "<keras.layers.core.activation.Activation object at 0x7fa64c46bd90>\n",
            "<keras.layers.core.activation.Activation object at 0x7fa64c3165c0>\n",
            "<keras.layers.convolutional.conv2d.Conv2D object at 0x7fa64c46b670>\n",
            "<keras.layers.convolutional.conv2d.Conv2D object at 0x7fa64c317a90>\n",
            "<keras.layers.normalization.batch_normalization.BatchNormalization object at 0x7fa64c32c9a0>\n",
            "<keras.layers.normalization.batch_normalization.BatchNormalization object at 0x7fa64c324820>\n",
            "<keras.layers.core.activation.Activation object at 0x7fa6db736320>\n",
            "<keras.layers.core.activation.Activation object at 0x7fa64c325150>\n",
            "<keras.layers.pooling.max_pooling2d.MaxPooling2D object at 0x7fa64c326e60>\n",
            "<keras.layers.merging.concatenate.Concatenate object at 0x7fa64c3260e0>\n",
            "<keras.layers.convolutional.conv2d.Conv2D object at 0x7fa64c31caf0>\n",
            "<keras.layers.normalization.batch_normalization.BatchNormalization object at 0x7fa64c3387f0>\n",
            "<keras.layers.core.activation.Activation object at 0x7fa62e07fbe0>\n",
            "<keras.layers.convolutional.conv2d.Conv2D object at 0x7fa5fa779720>\n",
            "<keras.layers.convolutional.conv2d.Conv2D object at 0x7fa62e2079d0>\n",
            "<keras.layers.normalization.batch_normalization.BatchNormalization object at 0x7fa62e119720>\n",
            "<keras.layers.normalization.batch_normalization.BatchNormalization object at 0x7fa64c316500>\n",
            "<keras.layers.core.activation.Activation object at 0x7fa62e11a350>\n",
            "<keras.layers.core.activation.Activation object at 0x7fa64c315d80>\n",
            "<keras.layers.convolutional.conv2d.Conv2D object at 0x7fa5fa7bb4c0>\n",
            "<keras.layers.convolutional.conv2d.Conv2D object at 0x7fa5fa7ba1a0>\n",
            "<keras.layers.convolutional.conv2d.Conv2D object at 0x7fa62e08d750>\n",
            "<keras.layers.convolutional.conv2d.Conv2D object at 0x7fa64c324550>\n",
            "<keras.layers.pooling.average_pooling2d.AveragePooling2D object at 0x7fa64c3b5240>\n",
            "<keras.layers.convolutional.conv2d.Conv2D object at 0x7fa64c327df0>\n",
            "<keras.layers.normalization.batch_normalization.BatchNormalization object at 0x7fa63cd4c6a0>\n",
            "<keras.layers.normalization.batch_normalization.BatchNormalization object at 0x7fa63ce46620>\n",
            "<keras.layers.normalization.batch_normalization.BatchNormalization object at 0x7fa6d044e860>\n",
            "<keras.layers.normalization.batch_normalization.BatchNormalization object at 0x7fa64c31c970>\n",
            "<keras.layers.convolutional.conv2d.Conv2D object at 0x7fa64c3b5600>\n",
            "<keras.layers.normalization.batch_normalization.BatchNormalization object at 0x7fa63cfa33a0>\n",
            "<keras.layers.core.activation.Activation object at 0x7fa63cd4c100>\n",
            "<keras.layers.core.activation.Activation object at 0x7fa64c357f40>\n",
            "<keras.layers.core.activation.Activation object at 0x7fa6db735900>\n",
            "<keras.layers.core.activation.Activation object at 0x7fa64c32c4f0>\n",
            "<keras.layers.normalization.batch_normalization.BatchNormalization object at 0x7fa64c3b6920>\n",
            "<keras.layers.core.activation.Activation object at 0x7fa6d963dd80>\n",
            "<keras.layers.merging.concatenate.Concatenate object at 0x7fa63cdd9ba0>\n",
            "<keras.layers.merging.concatenate.Concatenate object at 0x7fa64c31e230>\n",
            "<keras.layers.core.activation.Activation object at 0x7fa64c31c670>\n",
            "<keras.layers.merging.concatenate.Concatenate object at 0x7fa5fa7543d0>\n",
            "<keras.layers.convolutional.conv2d.Conv2D object at 0x7fa5fa7dea40>\n",
            "<keras.layers.normalization.batch_normalization.BatchNormalization object at 0x7fa5fa7dfc70>\n",
            "<keras.layers.core.activation.Activation object at 0x7fa5fa7dd0f0>\n",
            "<keras.layers.convolutional.conv2d.Conv2D object at 0x7fa5fa5eb0d0>\n",
            "<keras.layers.convolutional.conv2d.Conv2D object at 0x7fa5fa7dcc40>\n",
            "<keras.layers.normalization.batch_normalization.BatchNormalization object at 0x7fa5fa568b20>\n",
            "<keras.layers.normalization.batch_normalization.BatchNormalization object at 0x7fa5fa7de830>\n",
            "<keras.layers.core.activation.Activation object at 0x7fa5fa7aa560>\n",
            "<keras.layers.core.activation.Activation object at 0x7fa5fa728070>\n",
            "<keras.layers.convolutional.conv2d.Conv2D object at 0x7fa5fa7a9b40>\n",
            "<keras.layers.convolutional.conv2d.Conv2D object at 0x7fa5fa7abd30>\n",
            "<keras.layers.convolutional.conv2d.Conv2D object at 0x7fa5fa728eb0>\n",
            "<keras.layers.convolutional.conv2d.Conv2D object at 0x7fa5fa6c48b0>\n",
            "<keras.layers.pooling.average_pooling2d.AveragePooling2D object at 0x7fa5fa7437c0>\n",
            "<keras.layers.convolutional.conv2d.Conv2D object at 0x7fa62e0a20b0>\n",
            "<keras.layers.normalization.batch_normalization.BatchNormalization object at 0x7fa5fa7549a0>\n",
            "<keras.layers.normalization.batch_normalization.BatchNormalization object at 0x7fa5fa7ab3a0>\n",
            "<keras.layers.normalization.batch_normalization.BatchNormalization object at 0x7fa5fa72b850>\n",
            "<keras.layers.normalization.batch_normalization.BatchNormalization object at 0x7fa5fa72bfd0>\n",
            "<keras.layers.convolutional.conv2d.Conv2D object at 0x7fa6d044e6e0>\n",
            "<keras.layers.normalization.batch_normalization.BatchNormalization object at 0x7fa5fa7561a0>\n",
            "<keras.layers.core.activation.Activation object at 0x7fa5fa7ab4c0>\n",
            "<keras.layers.core.activation.Activation object at 0x7fa5fa7ab280>\n",
            "<keras.layers.core.activation.Activation object at 0x7fa5fa72bf40>\n",
            "<keras.layers.core.activation.Activation object at 0x7fa5fa72bb20>\n",
            "<keras.layers.normalization.batch_normalization.BatchNormalization object at 0x7fa5fa7aadd0>\n",
            "<keras.layers.core.activation.Activation object at 0x7fa5fa754640>\n",
            "<keras.layers.merging.concatenate.Concatenate object at 0x7fa5fa7ddc00>\n",
            "<keras.layers.merging.concatenate.Concatenate object at 0x7fa5fa7298a0>\n",
            "<keras.layers.core.activation.Activation object at 0x7fa5fa756b60>\n",
            "<keras.layers.merging.concatenate.Concatenate object at 0x7fa64c315c90>\n"
          ]
        }
      ]
    },
    {
      "cell_type": "code",
      "source": [
        "x = Flatten()(inception.output)\n"
      ],
      "metadata": {
        "id": "KRFDJ62EbXYg"
      },
      "execution_count": null,
      "outputs": []
    },
    {
      "cell_type": "code",
      "source": [
        "out = Dense(16, activation='softmax')(x)\n",
        "\n"
      ],
      "metadata": {
        "id": "1U1bA4UlbZUF"
      },
      "execution_count": null,
      "outputs": []
    },
    {
      "cell_type": "code",
      "source": [
        "inception_model = Model(inputs=inception.input, outputs=out)\n"
      ],
      "metadata": {
        "id": "oIK_PU_ybbuJ"
      },
      "execution_count": null,
      "outputs": []
    },
    {
      "cell_type": "code",
      "source": [
        "inception_model.summary()\n",
        "\n"
      ],
      "metadata": {
        "colab": {
          "base_uri": "https://localhost:8080/"
        },
        "id": "Ms2nMmGSbeJg",
        "outputId": "ab904809-f6e8-437d-cf4a-01e53d50723a"
      },
      "execution_count": null,
      "outputs": [
        {
          "output_type": "stream",
          "name": "stdout",
          "text": [
            "Model: \"model_4\"\n",
            "__________________________________________________________________________________________________\n",
            " Layer (type)                   Output Shape         Param #     Connected to                     \n",
            "==================================================================================================\n",
            " input_5 (InputLayer)           [(None, 224, 224, 3  0           []                               \n",
            "                                )]                                                                \n",
            "                                                                                                  \n",
            " conv2d (Conv2D)                (None, 111, 111, 32  864         ['input_5[0][0]']                \n",
            "                                )                                                                 \n",
            "                                                                                                  \n",
            " batch_normalization (BatchNorm  (None, 111, 111, 32  96         ['conv2d[0][0]']                 \n",
            " alization)                     )                                                                 \n",
            "                                                                                                  \n",
            " activation (Activation)        (None, 111, 111, 32  0           ['batch_normalization[0][0]']    \n",
            "                                )                                                                 \n",
            "                                                                                                  \n",
            " conv2d_1 (Conv2D)              (None, 109, 109, 32  9216        ['activation[0][0]']             \n",
            "                                )                                                                 \n",
            "                                                                                                  \n",
            " batch_normalization_1 (BatchNo  (None, 109, 109, 32  96         ['conv2d_1[0][0]']               \n",
            " rmalization)                   )                                                                 \n",
            "                                                                                                  \n",
            " activation_1 (Activation)      (None, 109, 109, 32  0           ['batch_normalization_1[0][0]']  \n",
            "                                )                                                                 \n",
            "                                                                                                  \n",
            " conv2d_2 (Conv2D)              (None, 109, 109, 64  18432       ['activation_1[0][0]']           \n",
            "                                )                                                                 \n",
            "                                                                                                  \n",
            " batch_normalization_2 (BatchNo  (None, 109, 109, 64  192        ['conv2d_2[0][0]']               \n",
            " rmalization)                   )                                                                 \n",
            "                                                                                                  \n",
            " activation_2 (Activation)      (None, 109, 109, 64  0           ['batch_normalization_2[0][0]']  \n",
            "                                )                                                                 \n",
            "                                                                                                  \n",
            " max_pooling2d (MaxPooling2D)   (None, 54, 54, 64)   0           ['activation_2[0][0]']           \n",
            "                                                                                                  \n",
            " conv2d_3 (Conv2D)              (None, 54, 54, 80)   5120        ['max_pooling2d[0][0]']          \n",
            "                                                                                                  \n",
            " batch_normalization_3 (BatchNo  (None, 54, 54, 80)  240         ['conv2d_3[0][0]']               \n",
            " rmalization)                                                                                     \n",
            "                                                                                                  \n",
            " activation_3 (Activation)      (None, 54, 54, 80)   0           ['batch_normalization_3[0][0]']  \n",
            "                                                                                                  \n",
            " conv2d_4 (Conv2D)              (None, 52, 52, 192)  138240      ['activation_3[0][0]']           \n",
            "                                                                                                  \n",
            " batch_normalization_4 (BatchNo  (None, 52, 52, 192)  576        ['conv2d_4[0][0]']               \n",
            " rmalization)                                                                                     \n",
            "                                                                                                  \n",
            " activation_4 (Activation)      (None, 52, 52, 192)  0           ['batch_normalization_4[0][0]']  \n",
            "                                                                                                  \n",
            " max_pooling2d_1 (MaxPooling2D)  (None, 25, 25, 192)  0          ['activation_4[0][0]']           \n",
            "                                                                                                  \n",
            " conv2d_8 (Conv2D)              (None, 25, 25, 64)   12288       ['max_pooling2d_1[0][0]']        \n",
            "                                                                                                  \n",
            " batch_normalization_8 (BatchNo  (None, 25, 25, 64)  192         ['conv2d_8[0][0]']               \n",
            " rmalization)                                                                                     \n",
            "                                                                                                  \n",
            " activation_8 (Activation)      (None, 25, 25, 64)   0           ['batch_normalization_8[0][0]']  \n",
            "                                                                                                  \n",
            " conv2d_6 (Conv2D)              (None, 25, 25, 48)   9216        ['max_pooling2d_1[0][0]']        \n",
            "                                                                                                  \n",
            " conv2d_9 (Conv2D)              (None, 25, 25, 96)   55296       ['activation_8[0][0]']           \n",
            "                                                                                                  \n",
            " batch_normalization_6 (BatchNo  (None, 25, 25, 48)  144         ['conv2d_6[0][0]']               \n",
            " rmalization)                                                                                     \n",
            "                                                                                                  \n",
            " batch_normalization_9 (BatchNo  (None, 25, 25, 96)  288         ['conv2d_9[0][0]']               \n",
            " rmalization)                                                                                     \n",
            "                                                                                                  \n",
            " activation_6 (Activation)      (None, 25, 25, 48)   0           ['batch_normalization_6[0][0]']  \n",
            "                                                                                                  \n",
            " activation_9 (Activation)      (None, 25, 25, 96)   0           ['batch_normalization_9[0][0]']  \n",
            "                                                                                                  \n",
            " average_pooling2d (AveragePool  (None, 25, 25, 192)  0          ['max_pooling2d_1[0][0]']        \n",
            " ing2D)                                                                                           \n",
            "                                                                                                  \n",
            " conv2d_5 (Conv2D)              (None, 25, 25, 64)   12288       ['max_pooling2d_1[0][0]']        \n",
            "                                                                                                  \n",
            " conv2d_7 (Conv2D)              (None, 25, 25, 64)   76800       ['activation_6[0][0]']           \n",
            "                                                                                                  \n",
            " conv2d_10 (Conv2D)             (None, 25, 25, 96)   82944       ['activation_9[0][0]']           \n",
            "                                                                                                  \n",
            " conv2d_11 (Conv2D)             (None, 25, 25, 32)   6144        ['average_pooling2d[0][0]']      \n",
            "                                                                                                  \n",
            " batch_normalization_5 (BatchNo  (None, 25, 25, 64)  192         ['conv2d_5[0][0]']               \n",
            " rmalization)                                                                                     \n",
            "                                                                                                  \n",
            " batch_normalization_7 (BatchNo  (None, 25, 25, 64)  192         ['conv2d_7[0][0]']               \n",
            " rmalization)                                                                                     \n",
            "                                                                                                  \n",
            " batch_normalization_10 (BatchN  (None, 25, 25, 96)  288         ['conv2d_10[0][0]']              \n",
            " ormalization)                                                                                    \n",
            "                                                                                                  \n",
            " batch_normalization_11 (BatchN  (None, 25, 25, 32)  96          ['conv2d_11[0][0]']              \n",
            " ormalization)                                                                                    \n",
            "                                                                                                  \n",
            " activation_5 (Activation)      (None, 25, 25, 64)   0           ['batch_normalization_5[0][0]']  \n",
            "                                                                                                  \n",
            " activation_7 (Activation)      (None, 25, 25, 64)   0           ['batch_normalization_7[0][0]']  \n",
            "                                                                                                  \n",
            " activation_10 (Activation)     (None, 25, 25, 96)   0           ['batch_normalization_10[0][0]'] \n",
            "                                                                                                  \n",
            " activation_11 (Activation)     (None, 25, 25, 32)   0           ['batch_normalization_11[0][0]'] \n",
            "                                                                                                  \n",
            " mixed0 (Concatenate)           (None, 25, 25, 256)  0           ['activation_5[0][0]',           \n",
            "                                                                  'activation_7[0][0]',           \n",
            "                                                                  'activation_10[0][0]',          \n",
            "                                                                  'activation_11[0][0]']          \n",
            "                                                                                                  \n",
            " conv2d_15 (Conv2D)             (None, 25, 25, 64)   16384       ['mixed0[0][0]']                 \n",
            "                                                                                                  \n",
            " batch_normalization_15 (BatchN  (None, 25, 25, 64)  192         ['conv2d_15[0][0]']              \n",
            " ormalization)                                                                                    \n",
            "                                                                                                  \n",
            " activation_15 (Activation)     (None, 25, 25, 64)   0           ['batch_normalization_15[0][0]'] \n",
            "                                                                                                  \n",
            " conv2d_13 (Conv2D)             (None, 25, 25, 48)   12288       ['mixed0[0][0]']                 \n",
            "                                                                                                  \n",
            " conv2d_16 (Conv2D)             (None, 25, 25, 96)   55296       ['activation_15[0][0]']          \n",
            "                                                                                                  \n",
            " batch_normalization_13 (BatchN  (None, 25, 25, 48)  144         ['conv2d_13[0][0]']              \n",
            " ormalization)                                                                                    \n",
            "                                                                                                  \n",
            " batch_normalization_16 (BatchN  (None, 25, 25, 96)  288         ['conv2d_16[0][0]']              \n",
            " ormalization)                                                                                    \n",
            "                                                                                                  \n",
            " activation_13 (Activation)     (None, 25, 25, 48)   0           ['batch_normalization_13[0][0]'] \n",
            "                                                                                                  \n",
            " activation_16 (Activation)     (None, 25, 25, 96)   0           ['batch_normalization_16[0][0]'] \n",
            "                                                                                                  \n",
            " average_pooling2d_1 (AveragePo  (None, 25, 25, 256)  0          ['mixed0[0][0]']                 \n",
            " oling2D)                                                                                         \n",
            "                                                                                                  \n",
            " conv2d_12 (Conv2D)             (None, 25, 25, 64)   16384       ['mixed0[0][0]']                 \n",
            "                                                                                                  \n",
            " conv2d_14 (Conv2D)             (None, 25, 25, 64)   76800       ['activation_13[0][0]']          \n",
            "                                                                                                  \n",
            " conv2d_17 (Conv2D)             (None, 25, 25, 96)   82944       ['activation_16[0][0]']          \n",
            "                                                                                                  \n",
            " conv2d_18 (Conv2D)             (None, 25, 25, 64)   16384       ['average_pooling2d_1[0][0]']    \n",
            "                                                                                                  \n",
            " batch_normalization_12 (BatchN  (None, 25, 25, 64)  192         ['conv2d_12[0][0]']              \n",
            " ormalization)                                                                                    \n",
            "                                                                                                  \n",
            " batch_normalization_14 (BatchN  (None, 25, 25, 64)  192         ['conv2d_14[0][0]']              \n",
            " ormalization)                                                                                    \n",
            "                                                                                                  \n",
            " batch_normalization_17 (BatchN  (None, 25, 25, 96)  288         ['conv2d_17[0][0]']              \n",
            " ormalization)                                                                                    \n",
            "                                                                                                  \n",
            " batch_normalization_18 (BatchN  (None, 25, 25, 64)  192         ['conv2d_18[0][0]']              \n",
            " ormalization)                                                                                    \n",
            "                                                                                                  \n",
            " activation_12 (Activation)     (None, 25, 25, 64)   0           ['batch_normalization_12[0][0]'] \n",
            "                                                                                                  \n",
            " activation_14 (Activation)     (None, 25, 25, 64)   0           ['batch_normalization_14[0][0]'] \n",
            "                                                                                                  \n",
            " activation_17 (Activation)     (None, 25, 25, 96)   0           ['batch_normalization_17[0][0]'] \n",
            "                                                                                                  \n",
            " activation_18 (Activation)     (None, 25, 25, 64)   0           ['batch_normalization_18[0][0]'] \n",
            "                                                                                                  \n",
            " mixed1 (Concatenate)           (None, 25, 25, 288)  0           ['activation_12[0][0]',          \n",
            "                                                                  'activation_14[0][0]',          \n",
            "                                                                  'activation_17[0][0]',          \n",
            "                                                                  'activation_18[0][0]']          \n",
            "                                                                                                  \n",
            " conv2d_22 (Conv2D)             (None, 25, 25, 64)   18432       ['mixed1[0][0]']                 \n",
            "                                                                                                  \n",
            " batch_normalization_22 (BatchN  (None, 25, 25, 64)  192         ['conv2d_22[0][0]']              \n",
            " ormalization)                                                                                    \n",
            "                                                                                                  \n",
            " activation_22 (Activation)     (None, 25, 25, 64)   0           ['batch_normalization_22[0][0]'] \n",
            "                                                                                                  \n",
            " conv2d_20 (Conv2D)             (None, 25, 25, 48)   13824       ['mixed1[0][0]']                 \n",
            "                                                                                                  \n",
            " conv2d_23 (Conv2D)             (None, 25, 25, 96)   55296       ['activation_22[0][0]']          \n",
            "                                                                                                  \n",
            " batch_normalization_20 (BatchN  (None, 25, 25, 48)  144         ['conv2d_20[0][0]']              \n",
            " ormalization)                                                                                    \n",
            "                                                                                                  \n",
            " batch_normalization_23 (BatchN  (None, 25, 25, 96)  288         ['conv2d_23[0][0]']              \n",
            " ormalization)                                                                                    \n",
            "                                                                                                  \n",
            " activation_20 (Activation)     (None, 25, 25, 48)   0           ['batch_normalization_20[0][0]'] \n",
            "                                                                                                  \n",
            " activation_23 (Activation)     (None, 25, 25, 96)   0           ['batch_normalization_23[0][0]'] \n",
            "                                                                                                  \n",
            " average_pooling2d_2 (AveragePo  (None, 25, 25, 288)  0          ['mixed1[0][0]']                 \n",
            " oling2D)                                                                                         \n",
            "                                                                                                  \n",
            " conv2d_19 (Conv2D)             (None, 25, 25, 64)   18432       ['mixed1[0][0]']                 \n",
            "                                                                                                  \n",
            " conv2d_21 (Conv2D)             (None, 25, 25, 64)   76800       ['activation_20[0][0]']          \n",
            "                                                                                                  \n",
            " conv2d_24 (Conv2D)             (None, 25, 25, 96)   82944       ['activation_23[0][0]']          \n",
            "                                                                                                  \n",
            " conv2d_25 (Conv2D)             (None, 25, 25, 64)   18432       ['average_pooling2d_2[0][0]']    \n",
            "                                                                                                  \n",
            " batch_normalization_19 (BatchN  (None, 25, 25, 64)  192         ['conv2d_19[0][0]']              \n",
            " ormalization)                                                                                    \n",
            "                                                                                                  \n",
            " batch_normalization_21 (BatchN  (None, 25, 25, 64)  192         ['conv2d_21[0][0]']              \n",
            " ormalization)                                                                                    \n",
            "                                                                                                  \n",
            " batch_normalization_24 (BatchN  (None, 25, 25, 96)  288         ['conv2d_24[0][0]']              \n",
            " ormalization)                                                                                    \n",
            "                                                                                                  \n",
            " batch_normalization_25 (BatchN  (None, 25, 25, 64)  192         ['conv2d_25[0][0]']              \n",
            " ormalization)                                                                                    \n",
            "                                                                                                  \n",
            " activation_19 (Activation)     (None, 25, 25, 64)   0           ['batch_normalization_19[0][0]'] \n",
            "                                                                                                  \n",
            " activation_21 (Activation)     (None, 25, 25, 64)   0           ['batch_normalization_21[0][0]'] \n",
            "                                                                                                  \n",
            " activation_24 (Activation)     (None, 25, 25, 96)   0           ['batch_normalization_24[0][0]'] \n",
            "                                                                                                  \n",
            " activation_25 (Activation)     (None, 25, 25, 64)   0           ['batch_normalization_25[0][0]'] \n",
            "                                                                                                  \n",
            " mixed2 (Concatenate)           (None, 25, 25, 288)  0           ['activation_19[0][0]',          \n",
            "                                                                  'activation_21[0][0]',          \n",
            "                                                                  'activation_24[0][0]',          \n",
            "                                                                  'activation_25[0][0]']          \n",
            "                                                                                                  \n",
            " conv2d_27 (Conv2D)             (None, 25, 25, 64)   18432       ['mixed2[0][0]']                 \n",
            "                                                                                                  \n",
            " batch_normalization_27 (BatchN  (None, 25, 25, 64)  192         ['conv2d_27[0][0]']              \n",
            " ormalization)                                                                                    \n",
            "                                                                                                  \n",
            " activation_27 (Activation)     (None, 25, 25, 64)   0           ['batch_normalization_27[0][0]'] \n",
            "                                                                                                  \n",
            " conv2d_28 (Conv2D)             (None, 25, 25, 96)   55296       ['activation_27[0][0]']          \n",
            "                                                                                                  \n",
            " batch_normalization_28 (BatchN  (None, 25, 25, 96)  288         ['conv2d_28[0][0]']              \n",
            " ormalization)                                                                                    \n",
            "                                                                                                  \n",
            " activation_28 (Activation)     (None, 25, 25, 96)   0           ['batch_normalization_28[0][0]'] \n",
            "                                                                                                  \n",
            " conv2d_26 (Conv2D)             (None, 12, 12, 384)  995328      ['mixed2[0][0]']                 \n",
            "                                                                                                  \n",
            " conv2d_29 (Conv2D)             (None, 12, 12, 96)   82944       ['activation_28[0][0]']          \n",
            "                                                                                                  \n",
            " batch_normalization_26 (BatchN  (None, 12, 12, 384)  1152       ['conv2d_26[0][0]']              \n",
            " ormalization)                                                                                    \n",
            "                                                                                                  \n",
            " batch_normalization_29 (BatchN  (None, 12, 12, 96)  288         ['conv2d_29[0][0]']              \n",
            " ormalization)                                                                                    \n",
            "                                                                                                  \n",
            " activation_26 (Activation)     (None, 12, 12, 384)  0           ['batch_normalization_26[0][0]'] \n",
            "                                                                                                  \n",
            " activation_29 (Activation)     (None, 12, 12, 96)   0           ['batch_normalization_29[0][0]'] \n",
            "                                                                                                  \n",
            " max_pooling2d_2 (MaxPooling2D)  (None, 12, 12, 288)  0          ['mixed2[0][0]']                 \n",
            "                                                                                                  \n",
            " mixed3 (Concatenate)           (None, 12, 12, 768)  0           ['activation_26[0][0]',          \n",
            "                                                                  'activation_29[0][0]',          \n",
            "                                                                  'max_pooling2d_2[0][0]']        \n",
            "                                                                                                  \n",
            " conv2d_34 (Conv2D)             (None, 12, 12, 128)  98304       ['mixed3[0][0]']                 \n",
            "                                                                                                  \n",
            " batch_normalization_34 (BatchN  (None, 12, 12, 128)  384        ['conv2d_34[0][0]']              \n",
            " ormalization)                                                                                    \n",
            "                                                                                                  \n",
            " activation_34 (Activation)     (None, 12, 12, 128)  0           ['batch_normalization_34[0][0]'] \n",
            "                                                                                                  \n",
            " conv2d_35 (Conv2D)             (None, 12, 12, 128)  114688      ['activation_34[0][0]']          \n",
            "                                                                                                  \n",
            " batch_normalization_35 (BatchN  (None, 12, 12, 128)  384        ['conv2d_35[0][0]']              \n",
            " ormalization)                                                                                    \n",
            "                                                                                                  \n",
            " activation_35 (Activation)     (None, 12, 12, 128)  0           ['batch_normalization_35[0][0]'] \n",
            "                                                                                                  \n",
            " conv2d_31 (Conv2D)             (None, 12, 12, 128)  98304       ['mixed3[0][0]']                 \n",
            "                                                                                                  \n",
            " conv2d_36 (Conv2D)             (None, 12, 12, 128)  114688      ['activation_35[0][0]']          \n",
            "                                                                                                  \n",
            " batch_normalization_31 (BatchN  (None, 12, 12, 128)  384        ['conv2d_31[0][0]']              \n",
            " ormalization)                                                                                    \n",
            "                                                                                                  \n",
            " batch_normalization_36 (BatchN  (None, 12, 12, 128)  384        ['conv2d_36[0][0]']              \n",
            " ormalization)                                                                                    \n",
            "                                                                                                  \n",
            " activation_31 (Activation)     (None, 12, 12, 128)  0           ['batch_normalization_31[0][0]'] \n",
            "                                                                                                  \n",
            " activation_36 (Activation)     (None, 12, 12, 128)  0           ['batch_normalization_36[0][0]'] \n",
            "                                                                                                  \n",
            " conv2d_32 (Conv2D)             (None, 12, 12, 128)  114688      ['activation_31[0][0]']          \n",
            "                                                                                                  \n",
            " conv2d_37 (Conv2D)             (None, 12, 12, 128)  114688      ['activation_36[0][0]']          \n",
            "                                                                                                  \n",
            " batch_normalization_32 (BatchN  (None, 12, 12, 128)  384        ['conv2d_32[0][0]']              \n",
            " ormalization)                                                                                    \n",
            "                                                                                                  \n",
            " batch_normalization_37 (BatchN  (None, 12, 12, 128)  384        ['conv2d_37[0][0]']              \n",
            " ormalization)                                                                                    \n",
            "                                                                                                  \n",
            " activation_32 (Activation)     (None, 12, 12, 128)  0           ['batch_normalization_32[0][0]'] \n",
            "                                                                                                  \n",
            " activation_37 (Activation)     (None, 12, 12, 128)  0           ['batch_normalization_37[0][0]'] \n",
            "                                                                                                  \n",
            " average_pooling2d_3 (AveragePo  (None, 12, 12, 768)  0          ['mixed3[0][0]']                 \n",
            " oling2D)                                                                                         \n",
            "                                                                                                  \n",
            " conv2d_30 (Conv2D)             (None, 12, 12, 192)  147456      ['mixed3[0][0]']                 \n",
            "                                                                                                  \n",
            " conv2d_33 (Conv2D)             (None, 12, 12, 192)  172032      ['activation_32[0][0]']          \n",
            "                                                                                                  \n",
            " conv2d_38 (Conv2D)             (None, 12, 12, 192)  172032      ['activation_37[0][0]']          \n",
            "                                                                                                  \n",
            " conv2d_39 (Conv2D)             (None, 12, 12, 192)  147456      ['average_pooling2d_3[0][0]']    \n",
            "                                                                                                  \n",
            " batch_normalization_30 (BatchN  (None, 12, 12, 192)  576        ['conv2d_30[0][0]']              \n",
            " ormalization)                                                                                    \n",
            "                                                                                                  \n",
            " batch_normalization_33 (BatchN  (None, 12, 12, 192)  576        ['conv2d_33[0][0]']              \n",
            " ormalization)                                                                                    \n",
            "                                                                                                  \n",
            " batch_normalization_38 (BatchN  (None, 12, 12, 192)  576        ['conv2d_38[0][0]']              \n",
            " ormalization)                                                                                    \n",
            "                                                                                                  \n",
            " batch_normalization_39 (BatchN  (None, 12, 12, 192)  576        ['conv2d_39[0][0]']              \n",
            " ormalization)                                                                                    \n",
            "                                                                                                  \n",
            " activation_30 (Activation)     (None, 12, 12, 192)  0           ['batch_normalization_30[0][0]'] \n",
            "                                                                                                  \n",
            " activation_33 (Activation)     (None, 12, 12, 192)  0           ['batch_normalization_33[0][0]'] \n",
            "                                                                                                  \n",
            " activation_38 (Activation)     (None, 12, 12, 192)  0           ['batch_normalization_38[0][0]'] \n",
            "                                                                                                  \n",
            " activation_39 (Activation)     (None, 12, 12, 192)  0           ['batch_normalization_39[0][0]'] \n",
            "                                                                                                  \n",
            " mixed4 (Concatenate)           (None, 12, 12, 768)  0           ['activation_30[0][0]',          \n",
            "                                                                  'activation_33[0][0]',          \n",
            "                                                                  'activation_38[0][0]',          \n",
            "                                                                  'activation_39[0][0]']          \n",
            "                                                                                                  \n",
            " conv2d_44 (Conv2D)             (None, 12, 12, 160)  122880      ['mixed4[0][0]']                 \n",
            "                                                                                                  \n",
            " batch_normalization_44 (BatchN  (None, 12, 12, 160)  480        ['conv2d_44[0][0]']              \n",
            " ormalization)                                                                                    \n",
            "                                                                                                  \n",
            " activation_44 (Activation)     (None, 12, 12, 160)  0           ['batch_normalization_44[0][0]'] \n",
            "                                                                                                  \n",
            " conv2d_45 (Conv2D)             (None, 12, 12, 160)  179200      ['activation_44[0][0]']          \n",
            "                                                                                                  \n",
            " batch_normalization_45 (BatchN  (None, 12, 12, 160)  480        ['conv2d_45[0][0]']              \n",
            " ormalization)                                                                                    \n",
            "                                                                                                  \n",
            " activation_45 (Activation)     (None, 12, 12, 160)  0           ['batch_normalization_45[0][0]'] \n",
            "                                                                                                  \n",
            " conv2d_41 (Conv2D)             (None, 12, 12, 160)  122880      ['mixed4[0][0]']                 \n",
            "                                                                                                  \n",
            " conv2d_46 (Conv2D)             (None, 12, 12, 160)  179200      ['activation_45[0][0]']          \n",
            "                                                                                                  \n",
            " batch_normalization_41 (BatchN  (None, 12, 12, 160)  480        ['conv2d_41[0][0]']              \n",
            " ormalization)                                                                                    \n",
            "                                                                                                  \n",
            " batch_normalization_46 (BatchN  (None, 12, 12, 160)  480        ['conv2d_46[0][0]']              \n",
            " ormalization)                                                                                    \n",
            "                                                                                                  \n",
            " activation_41 (Activation)     (None, 12, 12, 160)  0           ['batch_normalization_41[0][0]'] \n",
            "                                                                                                  \n",
            " activation_46 (Activation)     (None, 12, 12, 160)  0           ['batch_normalization_46[0][0]'] \n",
            "                                                                                                  \n",
            " conv2d_42 (Conv2D)             (None, 12, 12, 160)  179200      ['activation_41[0][0]']          \n",
            "                                                                                                  \n",
            " conv2d_47 (Conv2D)             (None, 12, 12, 160)  179200      ['activation_46[0][0]']          \n",
            "                                                                                                  \n",
            " batch_normalization_42 (BatchN  (None, 12, 12, 160)  480        ['conv2d_42[0][0]']              \n",
            " ormalization)                                                                                    \n",
            "                                                                                                  \n",
            " batch_normalization_47 (BatchN  (None, 12, 12, 160)  480        ['conv2d_47[0][0]']              \n",
            " ormalization)                                                                                    \n",
            "                                                                                                  \n",
            " activation_42 (Activation)     (None, 12, 12, 160)  0           ['batch_normalization_42[0][0]'] \n",
            "                                                                                                  \n",
            " activation_47 (Activation)     (None, 12, 12, 160)  0           ['batch_normalization_47[0][0]'] \n",
            "                                                                                                  \n",
            " average_pooling2d_4 (AveragePo  (None, 12, 12, 768)  0          ['mixed4[0][0]']                 \n",
            " oling2D)                                                                                         \n",
            "                                                                                                  \n",
            " conv2d_40 (Conv2D)             (None, 12, 12, 192)  147456      ['mixed4[0][0]']                 \n",
            "                                                                                                  \n",
            " conv2d_43 (Conv2D)             (None, 12, 12, 192)  215040      ['activation_42[0][0]']          \n",
            "                                                                                                  \n",
            " conv2d_48 (Conv2D)             (None, 12, 12, 192)  215040      ['activation_47[0][0]']          \n",
            "                                                                                                  \n",
            " conv2d_49 (Conv2D)             (None, 12, 12, 192)  147456      ['average_pooling2d_4[0][0]']    \n",
            "                                                                                                  \n",
            " batch_normalization_40 (BatchN  (None, 12, 12, 192)  576        ['conv2d_40[0][0]']              \n",
            " ormalization)                                                                                    \n",
            "                                                                                                  \n",
            " batch_normalization_43 (BatchN  (None, 12, 12, 192)  576        ['conv2d_43[0][0]']              \n",
            " ormalization)                                                                                    \n",
            "                                                                                                  \n",
            " batch_normalization_48 (BatchN  (None, 12, 12, 192)  576        ['conv2d_48[0][0]']              \n",
            " ormalization)                                                                                    \n",
            "                                                                                                  \n",
            " batch_normalization_49 (BatchN  (None, 12, 12, 192)  576        ['conv2d_49[0][0]']              \n",
            " ormalization)                                                                                    \n",
            "                                                                                                  \n",
            " activation_40 (Activation)     (None, 12, 12, 192)  0           ['batch_normalization_40[0][0]'] \n",
            "                                                                                                  \n",
            " activation_43 (Activation)     (None, 12, 12, 192)  0           ['batch_normalization_43[0][0]'] \n",
            "                                                                                                  \n",
            " activation_48 (Activation)     (None, 12, 12, 192)  0           ['batch_normalization_48[0][0]'] \n",
            "                                                                                                  \n",
            " activation_49 (Activation)     (None, 12, 12, 192)  0           ['batch_normalization_49[0][0]'] \n",
            "                                                                                                  \n",
            " mixed5 (Concatenate)           (None, 12, 12, 768)  0           ['activation_40[0][0]',          \n",
            "                                                                  'activation_43[0][0]',          \n",
            "                                                                  'activation_48[0][0]',          \n",
            "                                                                  'activation_49[0][0]']          \n",
            "                                                                                                  \n",
            " conv2d_54 (Conv2D)             (None, 12, 12, 160)  122880      ['mixed5[0][0]']                 \n",
            "                                                                                                  \n",
            " batch_normalization_54 (BatchN  (None, 12, 12, 160)  480        ['conv2d_54[0][0]']              \n",
            " ormalization)                                                                                    \n",
            "                                                                                                  \n",
            " activation_54 (Activation)     (None, 12, 12, 160)  0           ['batch_normalization_54[0][0]'] \n",
            "                                                                                                  \n",
            " conv2d_55 (Conv2D)             (None, 12, 12, 160)  179200      ['activation_54[0][0]']          \n",
            "                                                                                                  \n",
            " batch_normalization_55 (BatchN  (None, 12, 12, 160)  480        ['conv2d_55[0][0]']              \n",
            " ormalization)                                                                                    \n",
            "                                                                                                  \n",
            " activation_55 (Activation)     (None, 12, 12, 160)  0           ['batch_normalization_55[0][0]'] \n",
            "                                                                                                  \n",
            " conv2d_51 (Conv2D)             (None, 12, 12, 160)  122880      ['mixed5[0][0]']                 \n",
            "                                                                                                  \n",
            " conv2d_56 (Conv2D)             (None, 12, 12, 160)  179200      ['activation_55[0][0]']          \n",
            "                                                                                                  \n",
            " batch_normalization_51 (BatchN  (None, 12, 12, 160)  480        ['conv2d_51[0][0]']              \n",
            " ormalization)                                                                                    \n",
            "                                                                                                  \n",
            " batch_normalization_56 (BatchN  (None, 12, 12, 160)  480        ['conv2d_56[0][0]']              \n",
            " ormalization)                                                                                    \n",
            "                                                                                                  \n",
            " activation_51 (Activation)     (None, 12, 12, 160)  0           ['batch_normalization_51[0][0]'] \n",
            "                                                                                                  \n",
            " activation_56 (Activation)     (None, 12, 12, 160)  0           ['batch_normalization_56[0][0]'] \n",
            "                                                                                                  \n",
            " conv2d_52 (Conv2D)             (None, 12, 12, 160)  179200      ['activation_51[0][0]']          \n",
            "                                                                                                  \n",
            " conv2d_57 (Conv2D)             (None, 12, 12, 160)  179200      ['activation_56[0][0]']          \n",
            "                                                                                                  \n",
            " batch_normalization_52 (BatchN  (None, 12, 12, 160)  480        ['conv2d_52[0][0]']              \n",
            " ormalization)                                                                                    \n",
            "                                                                                                  \n",
            " batch_normalization_57 (BatchN  (None, 12, 12, 160)  480        ['conv2d_57[0][0]']              \n",
            " ormalization)                                                                                    \n",
            "                                                                                                  \n",
            " activation_52 (Activation)     (None, 12, 12, 160)  0           ['batch_normalization_52[0][0]'] \n",
            "                                                                                                  \n",
            " activation_57 (Activation)     (None, 12, 12, 160)  0           ['batch_normalization_57[0][0]'] \n",
            "                                                                                                  \n",
            " average_pooling2d_5 (AveragePo  (None, 12, 12, 768)  0          ['mixed5[0][0]']                 \n",
            " oling2D)                                                                                         \n",
            "                                                                                                  \n",
            " conv2d_50 (Conv2D)             (None, 12, 12, 192)  147456      ['mixed5[0][0]']                 \n",
            "                                                                                                  \n",
            " conv2d_53 (Conv2D)             (None, 12, 12, 192)  215040      ['activation_52[0][0]']          \n",
            "                                                                                                  \n",
            " conv2d_58 (Conv2D)             (None, 12, 12, 192)  215040      ['activation_57[0][0]']          \n",
            "                                                                                                  \n",
            " conv2d_59 (Conv2D)             (None, 12, 12, 192)  147456      ['average_pooling2d_5[0][0]']    \n",
            "                                                                                                  \n",
            " batch_normalization_50 (BatchN  (None, 12, 12, 192)  576        ['conv2d_50[0][0]']              \n",
            " ormalization)                                                                                    \n",
            "                                                                                                  \n",
            " batch_normalization_53 (BatchN  (None, 12, 12, 192)  576        ['conv2d_53[0][0]']              \n",
            " ormalization)                                                                                    \n",
            "                                                                                                  \n",
            " batch_normalization_58 (BatchN  (None, 12, 12, 192)  576        ['conv2d_58[0][0]']              \n",
            " ormalization)                                                                                    \n",
            "                                                                                                  \n",
            " batch_normalization_59 (BatchN  (None, 12, 12, 192)  576        ['conv2d_59[0][0]']              \n",
            " ormalization)                                                                                    \n",
            "                                                                                                  \n",
            " activation_50 (Activation)     (None, 12, 12, 192)  0           ['batch_normalization_50[0][0]'] \n",
            "                                                                                                  \n",
            " activation_53 (Activation)     (None, 12, 12, 192)  0           ['batch_normalization_53[0][0]'] \n",
            "                                                                                                  \n",
            " activation_58 (Activation)     (None, 12, 12, 192)  0           ['batch_normalization_58[0][0]'] \n",
            "                                                                                                  \n",
            " activation_59 (Activation)     (None, 12, 12, 192)  0           ['batch_normalization_59[0][0]'] \n",
            "                                                                                                  \n",
            " mixed6 (Concatenate)           (None, 12, 12, 768)  0           ['activation_50[0][0]',          \n",
            "                                                                  'activation_53[0][0]',          \n",
            "                                                                  'activation_58[0][0]',          \n",
            "                                                                  'activation_59[0][0]']          \n",
            "                                                                                                  \n",
            " conv2d_64 (Conv2D)             (None, 12, 12, 192)  147456      ['mixed6[0][0]']                 \n",
            "                                                                                                  \n",
            " batch_normalization_64 (BatchN  (None, 12, 12, 192)  576        ['conv2d_64[0][0]']              \n",
            " ormalization)                                                                                    \n",
            "                                                                                                  \n",
            " activation_64 (Activation)     (None, 12, 12, 192)  0           ['batch_normalization_64[0][0]'] \n",
            "                                                                                                  \n",
            " conv2d_65 (Conv2D)             (None, 12, 12, 192)  258048      ['activation_64[0][0]']          \n",
            "                                                                                                  \n",
            " batch_normalization_65 (BatchN  (None, 12, 12, 192)  576        ['conv2d_65[0][0]']              \n",
            " ormalization)                                                                                    \n",
            "                                                                                                  \n",
            " activation_65 (Activation)     (None, 12, 12, 192)  0           ['batch_normalization_65[0][0]'] \n",
            "                                                                                                  \n",
            " conv2d_61 (Conv2D)             (None, 12, 12, 192)  147456      ['mixed6[0][0]']                 \n",
            "                                                                                                  \n",
            " conv2d_66 (Conv2D)             (None, 12, 12, 192)  258048      ['activation_65[0][0]']          \n",
            "                                                                                                  \n",
            " batch_normalization_61 (BatchN  (None, 12, 12, 192)  576        ['conv2d_61[0][0]']              \n",
            " ormalization)                                                                                    \n",
            "                                                                                                  \n",
            " batch_normalization_66 (BatchN  (None, 12, 12, 192)  576        ['conv2d_66[0][0]']              \n",
            " ormalization)                                                                                    \n",
            "                                                                                                  \n",
            " activation_61 (Activation)     (None, 12, 12, 192)  0           ['batch_normalization_61[0][0]'] \n",
            "                                                                                                  \n",
            " activation_66 (Activation)     (None, 12, 12, 192)  0           ['batch_normalization_66[0][0]'] \n",
            "                                                                                                  \n",
            " conv2d_62 (Conv2D)             (None, 12, 12, 192)  258048      ['activation_61[0][0]']          \n",
            "                                                                                                  \n",
            " conv2d_67 (Conv2D)             (None, 12, 12, 192)  258048      ['activation_66[0][0]']          \n",
            "                                                                                                  \n",
            " batch_normalization_62 (BatchN  (None, 12, 12, 192)  576        ['conv2d_62[0][0]']              \n",
            " ormalization)                                                                                    \n",
            "                                                                                                  \n",
            " batch_normalization_67 (BatchN  (None, 12, 12, 192)  576        ['conv2d_67[0][0]']              \n",
            " ormalization)                                                                                    \n",
            "                                                                                                  \n",
            " activation_62 (Activation)     (None, 12, 12, 192)  0           ['batch_normalization_62[0][0]'] \n",
            "                                                                                                  \n",
            " activation_67 (Activation)     (None, 12, 12, 192)  0           ['batch_normalization_67[0][0]'] \n",
            "                                                                                                  \n",
            " average_pooling2d_6 (AveragePo  (None, 12, 12, 768)  0          ['mixed6[0][0]']                 \n",
            " oling2D)                                                                                         \n",
            "                                                                                                  \n",
            " conv2d_60 (Conv2D)             (None, 12, 12, 192)  147456      ['mixed6[0][0]']                 \n",
            "                                                                                                  \n",
            " conv2d_63 (Conv2D)             (None, 12, 12, 192)  258048      ['activation_62[0][0]']          \n",
            "                                                                                                  \n",
            " conv2d_68 (Conv2D)             (None, 12, 12, 192)  258048      ['activation_67[0][0]']          \n",
            "                                                                                                  \n",
            " conv2d_69 (Conv2D)             (None, 12, 12, 192)  147456      ['average_pooling2d_6[0][0]']    \n",
            "                                                                                                  \n",
            " batch_normalization_60 (BatchN  (None, 12, 12, 192)  576        ['conv2d_60[0][0]']              \n",
            " ormalization)                                                                                    \n",
            "                                                                                                  \n",
            " batch_normalization_63 (BatchN  (None, 12, 12, 192)  576        ['conv2d_63[0][0]']              \n",
            " ormalization)                                                                                    \n",
            "                                                                                                  \n",
            " batch_normalization_68 (BatchN  (None, 12, 12, 192)  576        ['conv2d_68[0][0]']              \n",
            " ormalization)                                                                                    \n",
            "                                                                                                  \n",
            " batch_normalization_69 (BatchN  (None, 12, 12, 192)  576        ['conv2d_69[0][0]']              \n",
            " ormalization)                                                                                    \n",
            "                                                                                                  \n",
            " activation_60 (Activation)     (None, 12, 12, 192)  0           ['batch_normalization_60[0][0]'] \n",
            "                                                                                                  \n",
            " activation_63 (Activation)     (None, 12, 12, 192)  0           ['batch_normalization_63[0][0]'] \n",
            "                                                                                                  \n",
            " activation_68 (Activation)     (None, 12, 12, 192)  0           ['batch_normalization_68[0][0]'] \n",
            "                                                                                                  \n",
            " activation_69 (Activation)     (None, 12, 12, 192)  0           ['batch_normalization_69[0][0]'] \n",
            "                                                                                                  \n",
            " mixed7 (Concatenate)           (None, 12, 12, 768)  0           ['activation_60[0][0]',          \n",
            "                                                                  'activation_63[0][0]',          \n",
            "                                                                  'activation_68[0][0]',          \n",
            "                                                                  'activation_69[0][0]']          \n",
            "                                                                                                  \n",
            " conv2d_72 (Conv2D)             (None, 12, 12, 192)  147456      ['mixed7[0][0]']                 \n",
            "                                                                                                  \n",
            " batch_normalization_72 (BatchN  (None, 12, 12, 192)  576        ['conv2d_72[0][0]']              \n",
            " ormalization)                                                                                    \n",
            "                                                                                                  \n",
            " activation_72 (Activation)     (None, 12, 12, 192)  0           ['batch_normalization_72[0][0]'] \n",
            "                                                                                                  \n",
            " conv2d_73 (Conv2D)             (None, 12, 12, 192)  258048      ['activation_72[0][0]']          \n",
            "                                                                                                  \n",
            " batch_normalization_73 (BatchN  (None, 12, 12, 192)  576        ['conv2d_73[0][0]']              \n",
            " ormalization)                                                                                    \n",
            "                                                                                                  \n",
            " activation_73 (Activation)     (None, 12, 12, 192)  0           ['batch_normalization_73[0][0]'] \n",
            "                                                                                                  \n",
            " conv2d_70 (Conv2D)             (None, 12, 12, 192)  147456      ['mixed7[0][0]']                 \n",
            "                                                                                                  \n",
            " conv2d_74 (Conv2D)             (None, 12, 12, 192)  258048      ['activation_73[0][0]']          \n",
            "                                                                                                  \n",
            " batch_normalization_70 (BatchN  (None, 12, 12, 192)  576        ['conv2d_70[0][0]']              \n",
            " ormalization)                                                                                    \n",
            "                                                                                                  \n",
            " batch_normalization_74 (BatchN  (None, 12, 12, 192)  576        ['conv2d_74[0][0]']              \n",
            " ormalization)                                                                                    \n",
            "                                                                                                  \n",
            " activation_70 (Activation)     (None, 12, 12, 192)  0           ['batch_normalization_70[0][0]'] \n",
            "                                                                                                  \n",
            " activation_74 (Activation)     (None, 12, 12, 192)  0           ['batch_normalization_74[0][0]'] \n",
            "                                                                                                  \n",
            " conv2d_71 (Conv2D)             (None, 5, 5, 320)    552960      ['activation_70[0][0]']          \n",
            "                                                                                                  \n",
            " conv2d_75 (Conv2D)             (None, 5, 5, 192)    331776      ['activation_74[0][0]']          \n",
            "                                                                                                  \n",
            " batch_normalization_71 (BatchN  (None, 5, 5, 320)   960         ['conv2d_71[0][0]']              \n",
            " ormalization)                                                                                    \n",
            "                                                                                                  \n",
            " batch_normalization_75 (BatchN  (None, 5, 5, 192)   576         ['conv2d_75[0][0]']              \n",
            " ormalization)                                                                                    \n",
            "                                                                                                  \n",
            " activation_71 (Activation)     (None, 5, 5, 320)    0           ['batch_normalization_71[0][0]'] \n",
            "                                                                                                  \n",
            " activation_75 (Activation)     (None, 5, 5, 192)    0           ['batch_normalization_75[0][0]'] \n",
            "                                                                                                  \n",
            " max_pooling2d_3 (MaxPooling2D)  (None, 5, 5, 768)   0           ['mixed7[0][0]']                 \n",
            "                                                                                                  \n",
            " mixed8 (Concatenate)           (None, 5, 5, 1280)   0           ['activation_71[0][0]',          \n",
            "                                                                  'activation_75[0][0]',          \n",
            "                                                                  'max_pooling2d_3[0][0]']        \n",
            "                                                                                                  \n",
            " conv2d_80 (Conv2D)             (None, 5, 5, 448)    573440      ['mixed8[0][0]']                 \n",
            "                                                                                                  \n",
            " batch_normalization_80 (BatchN  (None, 5, 5, 448)   1344        ['conv2d_80[0][0]']              \n",
            " ormalization)                                                                                    \n",
            "                                                                                                  \n",
            " activation_80 (Activation)     (None, 5, 5, 448)    0           ['batch_normalization_80[0][0]'] \n",
            "                                                                                                  \n",
            " conv2d_77 (Conv2D)             (None, 5, 5, 384)    491520      ['mixed8[0][0]']                 \n",
            "                                                                                                  \n",
            " conv2d_81 (Conv2D)             (None, 5, 5, 384)    1548288     ['activation_80[0][0]']          \n",
            "                                                                                                  \n",
            " batch_normalization_77 (BatchN  (None, 5, 5, 384)   1152        ['conv2d_77[0][0]']              \n",
            " ormalization)                                                                                    \n",
            "                                                                                                  \n",
            " batch_normalization_81 (BatchN  (None, 5, 5, 384)   1152        ['conv2d_81[0][0]']              \n",
            " ormalization)                                                                                    \n",
            "                                                                                                  \n",
            " activation_77 (Activation)     (None, 5, 5, 384)    0           ['batch_normalization_77[0][0]'] \n",
            "                                                                                                  \n",
            " activation_81 (Activation)     (None, 5, 5, 384)    0           ['batch_normalization_81[0][0]'] \n",
            "                                                                                                  \n",
            " conv2d_78 (Conv2D)             (None, 5, 5, 384)    442368      ['activation_77[0][0]']          \n",
            "                                                                                                  \n",
            " conv2d_79 (Conv2D)             (None, 5, 5, 384)    442368      ['activation_77[0][0]']          \n",
            "                                                                                                  \n",
            " conv2d_82 (Conv2D)             (None, 5, 5, 384)    442368      ['activation_81[0][0]']          \n",
            "                                                                                                  \n",
            " conv2d_83 (Conv2D)             (None, 5, 5, 384)    442368      ['activation_81[0][0]']          \n",
            "                                                                                                  \n",
            " average_pooling2d_7 (AveragePo  (None, 5, 5, 1280)  0           ['mixed8[0][0]']                 \n",
            " oling2D)                                                                                         \n",
            "                                                                                                  \n",
            " conv2d_76 (Conv2D)             (None, 5, 5, 320)    409600      ['mixed8[0][0]']                 \n",
            "                                                                                                  \n",
            " batch_normalization_78 (BatchN  (None, 5, 5, 384)   1152        ['conv2d_78[0][0]']              \n",
            " ormalization)                                                                                    \n",
            "                                                                                                  \n",
            " batch_normalization_79 (BatchN  (None, 5, 5, 384)   1152        ['conv2d_79[0][0]']              \n",
            " ormalization)                                                                                    \n",
            "                                                                                                  \n",
            " batch_normalization_82 (BatchN  (None, 5, 5, 384)   1152        ['conv2d_82[0][0]']              \n",
            " ormalization)                                                                                    \n",
            "                                                                                                  \n",
            " batch_normalization_83 (BatchN  (None, 5, 5, 384)   1152        ['conv2d_83[0][0]']              \n",
            " ormalization)                                                                                    \n",
            "                                                                                                  \n",
            " conv2d_84 (Conv2D)             (None, 5, 5, 192)    245760      ['average_pooling2d_7[0][0]']    \n",
            "                                                                                                  \n",
            " batch_normalization_76 (BatchN  (None, 5, 5, 320)   960         ['conv2d_76[0][0]']              \n",
            " ormalization)                                                                                    \n",
            "                                                                                                  \n",
            " activation_78 (Activation)     (None, 5, 5, 384)    0           ['batch_normalization_78[0][0]'] \n",
            "                                                                                                  \n",
            " activation_79 (Activation)     (None, 5, 5, 384)    0           ['batch_normalization_79[0][0]'] \n",
            "                                                                                                  \n",
            " activation_82 (Activation)     (None, 5, 5, 384)    0           ['batch_normalization_82[0][0]'] \n",
            "                                                                                                  \n",
            " activation_83 (Activation)     (None, 5, 5, 384)    0           ['batch_normalization_83[0][0]'] \n",
            "                                                                                                  \n",
            " batch_normalization_84 (BatchN  (None, 5, 5, 192)   576         ['conv2d_84[0][0]']              \n",
            " ormalization)                                                                                    \n",
            "                                                                                                  \n",
            " activation_76 (Activation)     (None, 5, 5, 320)    0           ['batch_normalization_76[0][0]'] \n",
            "                                                                                                  \n",
            " mixed9_0 (Concatenate)         (None, 5, 5, 768)    0           ['activation_78[0][0]',          \n",
            "                                                                  'activation_79[0][0]']          \n",
            "                                                                                                  \n",
            " concatenate (Concatenate)      (None, 5, 5, 768)    0           ['activation_82[0][0]',          \n",
            "                                                                  'activation_83[0][0]']          \n",
            "                                                                                                  \n",
            " activation_84 (Activation)     (None, 5, 5, 192)    0           ['batch_normalization_84[0][0]'] \n",
            "                                                                                                  \n",
            " mixed9 (Concatenate)           (None, 5, 5, 2048)   0           ['activation_76[0][0]',          \n",
            "                                                                  'mixed9_0[0][0]',               \n",
            "                                                                  'concatenate[0][0]',            \n",
            "                                                                  'activation_84[0][0]']          \n",
            "                                                                                                  \n",
            " conv2d_89 (Conv2D)             (None, 5, 5, 448)    917504      ['mixed9[0][0]']                 \n",
            "                                                                                                  \n",
            " batch_normalization_89 (BatchN  (None, 5, 5, 448)   1344        ['conv2d_89[0][0]']              \n",
            " ormalization)                                                                                    \n",
            "                                                                                                  \n",
            " activation_89 (Activation)     (None, 5, 5, 448)    0           ['batch_normalization_89[0][0]'] \n",
            "                                                                                                  \n",
            " conv2d_86 (Conv2D)             (None, 5, 5, 384)    786432      ['mixed9[0][0]']                 \n",
            "                                                                                                  \n",
            " conv2d_90 (Conv2D)             (None, 5, 5, 384)    1548288     ['activation_89[0][0]']          \n",
            "                                                                                                  \n",
            " batch_normalization_86 (BatchN  (None, 5, 5, 384)   1152        ['conv2d_86[0][0]']              \n",
            " ormalization)                                                                                    \n",
            "                                                                                                  \n",
            " batch_normalization_90 (BatchN  (None, 5, 5, 384)   1152        ['conv2d_90[0][0]']              \n",
            " ormalization)                                                                                    \n",
            "                                                                                                  \n",
            " activation_86 (Activation)     (None, 5, 5, 384)    0           ['batch_normalization_86[0][0]'] \n",
            "                                                                                                  \n",
            " activation_90 (Activation)     (None, 5, 5, 384)    0           ['batch_normalization_90[0][0]'] \n",
            "                                                                                                  \n",
            " conv2d_87 (Conv2D)             (None, 5, 5, 384)    442368      ['activation_86[0][0]']          \n",
            "                                                                                                  \n",
            " conv2d_88 (Conv2D)             (None, 5, 5, 384)    442368      ['activation_86[0][0]']          \n",
            "                                                                                                  \n",
            " conv2d_91 (Conv2D)             (None, 5, 5, 384)    442368      ['activation_90[0][0]']          \n",
            "                                                                                                  \n",
            " conv2d_92 (Conv2D)             (None, 5, 5, 384)    442368      ['activation_90[0][0]']          \n",
            "                                                                                                  \n",
            " average_pooling2d_8 (AveragePo  (None, 5, 5, 2048)  0           ['mixed9[0][0]']                 \n",
            " oling2D)                                                                                         \n",
            "                                                                                                  \n",
            " conv2d_85 (Conv2D)             (None, 5, 5, 320)    655360      ['mixed9[0][0]']                 \n",
            "                                                                                                  \n",
            " batch_normalization_87 (BatchN  (None, 5, 5, 384)   1152        ['conv2d_87[0][0]']              \n",
            " ormalization)                                                                                    \n",
            "                                                                                                  \n",
            " batch_normalization_88 (BatchN  (None, 5, 5, 384)   1152        ['conv2d_88[0][0]']              \n",
            " ormalization)                                                                                    \n",
            "                                                                                                  \n",
            " batch_normalization_91 (BatchN  (None, 5, 5, 384)   1152        ['conv2d_91[0][0]']              \n",
            " ormalization)                                                                                    \n",
            "                                                                                                  \n",
            " batch_normalization_92 (BatchN  (None, 5, 5, 384)   1152        ['conv2d_92[0][0]']              \n",
            " ormalization)                                                                                    \n",
            "                                                                                                  \n",
            " conv2d_93 (Conv2D)             (None, 5, 5, 192)    393216      ['average_pooling2d_8[0][0]']    \n",
            "                                                                                                  \n",
            " batch_normalization_85 (BatchN  (None, 5, 5, 320)   960         ['conv2d_85[0][0]']              \n",
            " ormalization)                                                                                    \n",
            "                                                                                                  \n",
            " activation_87 (Activation)     (None, 5, 5, 384)    0           ['batch_normalization_87[0][0]'] \n",
            "                                                                                                  \n",
            " activation_88 (Activation)     (None, 5, 5, 384)    0           ['batch_normalization_88[0][0]'] \n",
            "                                                                                                  \n",
            " activation_91 (Activation)     (None, 5, 5, 384)    0           ['batch_normalization_91[0][0]'] \n",
            "                                                                                                  \n",
            " activation_92 (Activation)     (None, 5, 5, 384)    0           ['batch_normalization_92[0][0]'] \n",
            "                                                                                                  \n",
            " batch_normalization_93 (BatchN  (None, 5, 5, 192)   576         ['conv2d_93[0][0]']              \n",
            " ormalization)                                                                                    \n",
            "                                                                                                  \n",
            " activation_85 (Activation)     (None, 5, 5, 320)    0           ['batch_normalization_85[0][0]'] \n",
            "                                                                                                  \n",
            " mixed9_1 (Concatenate)         (None, 5, 5, 768)    0           ['activation_87[0][0]',          \n",
            "                                                                  'activation_88[0][0]']          \n",
            "                                                                                                  \n",
            " concatenate_1 (Concatenate)    (None, 5, 5, 768)    0           ['activation_91[0][0]',          \n",
            "                                                                  'activation_92[0][0]']          \n",
            "                                                                                                  \n",
            " activation_93 (Activation)     (None, 5, 5, 192)    0           ['batch_normalization_93[0][0]'] \n",
            "                                                                                                  \n",
            " mixed10 (Concatenate)          (None, 5, 5, 2048)   0           ['activation_85[0][0]',          \n",
            "                                                                  'mixed9_1[0][0]',               \n",
            "                                                                  'concatenate_1[0][0]',          \n",
            "                                                                  'activation_93[0][0]']          \n",
            "                                                                                                  \n",
            " flatten_4 (Flatten)            (None, 51200)        0           ['mixed10[0][0]']                \n",
            "                                                                                                  \n",
            " dense_4 (Dense)                (None, 16)           819216      ['flatten_4[0][0]']              \n",
            "                                                                                                  \n",
            "==================================================================================================\n",
            "Total params: 22,622,000\n",
            "Trainable params: 819,216\n",
            "Non-trainable params: 21,802,784\n",
            "__________________________________________________________________________________________________\n"
          ]
        }
      ]
    },
    {
      "cell_type": "code",
      "source": [
        "inception_model.compile(loss='categorical_crossentropy', optimizer='adam', metrics=['accuracy'])\n",
        "\n"
      ],
      "metadata": {
        "id": "O40f1UWhbgKz"
      },
      "execution_count": null,
      "outputs": []
    },
    {
      "cell_type": "code",
      "source": [
        "inception_model.fit_generator(train, epochs=10, validation_data=test, steps_per_epoch=len(train), validation_steps=len(test))\n"
      ],
      "metadata": {
        "colab": {
          "base_uri": "https://localhost:8080/"
        },
        "id": "RF6m6qhGbiXB",
        "outputId": "b25a1b09-6c58-4cc4-8ae7-204d40ae76a0"
      },
      "execution_count": null,
      "outputs": [
        {
          "output_type": "stream",
          "name": "stderr",
          "text": [
            "<ipython-input-61-44ad6cecd50c>:1: UserWarning: `Model.fit_generator` is deprecated and will be removed in a future version. Please use `Model.fit`, which supports generators.\n",
            "  inception_model.fit_generator(train, epochs=10, validation_data=test, steps_per_epoch=len(train), validation_steps=len(test))\n"
          ]
        },
        {
          "output_type": "stream",
          "name": "stdout",
          "text": [
            "Epoch 1/10\n",
            "7/7 [==============================] - 114s 17s/step - loss: 16.6311 - accuracy: 0.1733 - val_loss: 15.5126 - val_accuracy: 0.2357\n",
            "Epoch 2/10\n",
            "7/7 [==============================] - 84s 13s/step - loss: 8.2248 - accuracy: 0.5533 - val_loss: 17.1827 - val_accuracy: 0.3185\n",
            "Epoch 3/10\n",
            "7/7 [==============================] - 85s 13s/step - loss: 2.0008 - accuracy: 0.8200 - val_loss: 17.4271 - val_accuracy: 0.2420\n",
            "Epoch 4/10\n",
            "7/7 [==============================] - 84s 13s/step - loss: 1.0563 - accuracy: 0.8733 - val_loss: 12.1821 - val_accuracy: 0.4459\n",
            "Epoch 5/10\n",
            "7/7 [==============================] - 119s 19s/step - loss: 0.5725 - accuracy: 0.9400 - val_loss: 11.6656 - val_accuracy: 0.4650\n",
            "Epoch 6/10\n",
            "7/7 [==============================] - 83s 13s/step - loss: 0.1979 - accuracy: 0.9800 - val_loss: 13.8035 - val_accuracy: 0.3885\n",
            "Epoch 7/10\n",
            "7/7 [==============================] - 83s 13s/step - loss: 0.1495 - accuracy: 0.9800 - val_loss: 12.3544 - val_accuracy: 0.4395\n",
            "Epoch 8/10\n",
            "7/7 [==============================] - 84s 13s/step - loss: 0.0010 - accuracy: 1.0000 - val_loss: 13.5953 - val_accuracy: 0.4204\n",
            "Epoch 9/10\n",
            "7/7 [==============================] - 119s 19s/step - loss: 5.2338e-05 - accuracy: 1.0000 - val_loss: 14.5775 - val_accuracy: 0.4013\n",
            "Epoch 10/10\n",
            "7/7 [==============================] - 119s 19s/step - loss: 0.0069 - accuracy: 0.9933 - val_loss: 14.7180 - val_accuracy: 0.3885\n"
          ]
        },
        {
          "output_type": "execute_result",
          "data": {
            "text/plain": [
              "<keras.callbacks.History at 0x7fa5fa6c5b10>"
            ]
          },
          "metadata": {},
          "execution_count": 61
        }
      ]
    },
    {
      "cell_type": "code",
      "source": [
        "# Testing --> Since we are continously getting the accuracy of 40 in vgg16 as well as here in this model so we randomly test the model of cnn.\n",
        "\n",
        "import numpy as np\n",
        "from tensorflow.keras.preprocessing import image"
      ],
      "metadata": {
        "id": "jRuFMLNb_yLd"
      },
      "execution_count": null,
      "outputs": []
    },
    {
      "cell_type": "code",
      "source": [],
      "metadata": {
        "id": "SSYbNtEK3lDI"
      },
      "execution_count": null,
      "outputs": []
    },
    {
      "cell_type": "code",
      "source": [
        "# Testing 1\n",
        "img1 = image.load_img('/content/test_data/test_data/cbrtsh/_D32_10310.jpg',target_size=(224,224))\n",
        "img1 = image.img_to_array(img1)\n",
        "img1 = np.expand_dims(img1,axis=0)\n",
        "pred = np.argmax(model.predict(img1))\n",
        "print(pred)\n",
        "output = ['blasti','bonegl','brhkyt','cbrtsh','cmnmyn','gretit','hilpig','himbul','hsparo','indvul','jglowl','lbicrw','mgprob','rebimg','wcrsrt']\n",
        "print(output[pred])"
      ],
      "metadata": {
        "id": "xHFdAD22AZOT",
        "colab": {
          "base_uri": "https://localhost:8080/"
        },
        "outputId": "29341ad9-e0fe-4e5c-f618-f7980b772dd4"
      },
      "execution_count": null,
      "outputs": [
        {
          "output_type": "stream",
          "name": "stdout",
          "text": [
            "1/1 [==============================] - 1s 956ms/step\n",
            "7\n",
            "himbul\n"
          ]
        }
      ]
    },
    {
      "cell_type": "code",
      "source": [
        "# Testing 2\n",
        "img2 = image.load_img('/content/test_data/test_data/brhkyt/D72_0473.jpg',target_size=(224,224))\n",
        "img2 = image.img_to_array(img2)\n",
        "img2 = np.expand_dims(img2,axis=0)\n",
        "pred = np.argmax(model.predict(img2))\n",
        "print(pred)\n",
        "output = ['blasti','bonegl','brhkyt','cbrtsh','cmnmyn','gretit','hilpig','himbul','hsparo','indvul','jglowl','lbicrw','mgprob','rebimg','wcrsrt']\n",
        "\n",
        "print(output[pred])"
      ],
      "metadata": {
        "id": "0URUHxoMAzNN",
        "colab": {
          "base_uri": "https://localhost:8080/"
        },
        "outputId": "2a49799a-e23a-4f89-f02f-7a333e3382af"
      },
      "execution_count": null,
      "outputs": [
        {
          "output_type": "stream",
          "name": "stdout",
          "text": [
            "1/1 [==============================] - 0s 19ms/step\n",
            "2\n",
            "brhkyt\n"
          ]
        }
      ]
    },
    {
      "cell_type": "code",
      "source": [
        "# Testing 3\n",
        "img3 = image.load_img('/content/test_data/test_data/bonegl/DSC_4587.jpg',target_size=(224,224))\n",
        "img3 = image.img_to_array(img3)\n",
        "img3 = np.expand_dims(img3,axis=0)\n",
        "pred = np.argmax(model.predict(img3))\n",
        "output = ['blasti','bonegl','brhkyt','cbrtsh','cmnmyn','gretit','hilpig','himbul','hsparo','indvul','jglowl','lbicrw','mgprob','rebimg','wcrsrt']\n",
        "\n",
        "print(pred)\n",
        "\n",
        "print(output[pred])"
      ],
      "metadata": {
        "id": "EmKsI-5-A0Ip",
        "colab": {
          "base_uri": "https://localhost:8080/"
        },
        "outputId": "287585d8-96e8-46f8-a71f-9152fcdfd4eb"
      },
      "execution_count": null,
      "outputs": [
        {
          "output_type": "stream",
          "name": "stdout",
          "text": [
            "1/1 [==============================] - 0s 21ms/step\n",
            "7\n",
            "himbul\n"
          ]
        }
      ]
    },
    {
      "cell_type": "code",
      "source": [
        "# Testing 4\n",
        "img4 = image.load_img('/content/test_data/test_data/blasti/DSC_6396.jpg',target_size=(224,224))\n",
        "img4 = image.img_to_array(img4)\n",
        "img4 = np.expand_dims(img4,axis=0)\n",
        "pred = np.argmax(model.predict(img4))\n",
        "print(pred)\n",
        "output = ['blasti','bonegl','brhkyt','cbrtsh','cmnmyn','gretit','hilpig','himbul','hsparo','indvul','jglowl','lbicrw','mgprob','rebimg','wcrsrt']\n",
        "print(output[pred])"
      ],
      "metadata": {
        "id": "s_6xPYiHBJa_",
        "colab": {
          "base_uri": "https://localhost:8080/"
        },
        "outputId": "4376ee9f-f8cd-4a3d-8598-b83bcb73a343"
      },
      "execution_count": null,
      "outputs": [
        {
          "output_type": "stream",
          "name": "stdout",
          "text": [
            "1/1 [==============================] - 0s 22ms/step\n",
            "0\n",
            "blasti\n"
          ]
        }
      ]
    },
    {
      "cell_type": "code",
      "source": [
        "# Testing 5\n",
        "img5 = image.load_img('/content/test_data/test_data/rebimg/100_5756.JPG',target_size=(224,224))\n",
        "img5 = image.img_to_array(img5)\n",
        "img5 = np.expand_dims(img5,axis=0)\n",
        "pred = np.argmax(model.predict(img5))\n",
        "print(pred)\n",
        "output = ['blasti','bonegl','brhkyt','cbrtsh','cmnmyn','gretit','hilpig','himbul','hsparo','indvul','jglowl','lbicrw','mgprob','rebimg','wcrsrt']\n",
        "print(output[pred])"
      ],
      "metadata": {
        "colab": {
          "base_uri": "https://localhost:8080/"
        },
        "id": "EX1-1mDeWwZK",
        "outputId": "893c6be1-84df-4468-ef18-24cbbebeddca"
      },
      "execution_count": null,
      "outputs": [
        {
          "output_type": "stream",
          "name": "stdout",
          "text": [
            "1/1 [==============================] - 0s 27ms/step\n",
            "14\n",
            "wcrsrt\n"
          ]
        }
      ]
    },
    {
      "cell_type": "code",
      "source": [
        "img6 = image.load_img('/content/test_data/test_data/jglowl/_D32_10587.jpg',target_size=(224,224))\n",
        "img6 = image.img_to_array(img6)\n",
        "img6 = np.expand_dims(img6,axis=0)\n",
        "pred = np.argmax(model.predict(img6))\n",
        "print(pred)\n",
        "output = ['blasti','bonegl','brhkyt','cbrtsh','cmnmyn','gretit','hilpig','himbul','hsparo','indvul','jglowl','lbicrw','mgprob','rebimg','wcrsrt']\n",
        "print(output[pred])"
      ],
      "metadata": {
        "colab": {
          "base_uri": "https://localhost:8080/"
        },
        "id": "UJcONzlU8GbL",
        "outputId": "f78d155a-b3d2-4869-fc77-cadd1ff12ebe"
      },
      "execution_count": null,
      "outputs": [
        {
          "output_type": "stream",
          "name": "stdout",
          "text": [
            "1/1 [==============================] - 0s 20ms/step\n",
            "14\n",
            "wcrsrt\n"
          ]
        }
      ]
    },
    {
      "cell_type": "code",
      "source": [
        "img7 = image.load_img('/content/test_data/test_data/cmnmyn/DSC_2443.jpg',target_size=(224,224))\n",
        "img7 = image.img_to_array(img7)\n",
        "img7 = np.expand_dims(img7,axis=0)\n",
        "pred = np.argmax(model.predict(img7))\n",
        "print(pred)\n",
        "output = ['blasti','bonegl','brhkyt','cbrtsh','cmnmyn','gretit','hilpig','himbul','hsparo','indvul','jglowl','lbicrw','mgprob','rebimg','wcrsrt']\n",
        "print(output[pred])"
      ],
      "metadata": {
        "colab": {
          "base_uri": "https://localhost:8080/"
        },
        "id": "CKsIoe4A8nFI",
        "outputId": "e31f6f95-d9cd-4cf4-8ef9-e9b7b6264107"
      },
      "execution_count": null,
      "outputs": [
        {
          "output_type": "stream",
          "name": "stdout",
          "text": [
            "1/1 [==============================] - 0s 19ms/step\n",
            "7\n",
            "himbul\n"
          ]
        }
      ]
    },
    {
      "cell_type": "code",
      "source": [
        "img8 = image.load_img('/content/test_data/test_data/gretit/D72_0693.jpg',target_size=(224,224))\n",
        "img8 = image.img_to_array(img8)\n",
        "img8 = np.expand_dims(img8,axis=0)\n",
        "pred = np.argmax(model.predict(img8))\n",
        "print(pred)\n",
        "output = ['blasti','bonegl','brhkyt','cbrtsh','cmnmyn','gretit','hilpig','himbul','hsparo','indvul','jglowl','lbicrw','mgprob','rebimg','wcrsrt']\n",
        "print(output[pred])"
      ],
      "metadata": {
        "colab": {
          "base_uri": "https://localhost:8080/"
        },
        "id": "67KL2qXQ8pxj",
        "outputId": "9ef67e43-0a81-4d7c-a7a4-957bb74ee5ec"
      },
      "execution_count": null,
      "outputs": [
        {
          "output_type": "stream",
          "name": "stdout",
          "text": [
            "1/1 [==============================] - 0s 21ms/step\n",
            "4\n",
            "cmnmyn\n"
          ]
        }
      ]
    },
    {
      "cell_type": "code",
      "source": [
        "img9 = image.load_img('/content/test_data/test_data/hilpig/DSC_6359.jpg',target_size=(224,224))\n",
        "img9 = image.img_to_array(img9)\n",
        "img9 = np.expand_dims(img9,axis=0)\n",
        "pred = np.argmax(model.predict(img9))\n",
        "print(pred)\n",
        "output = ['blasti','bonegl','brhkyt','cbrtsh','cmnmyn','gretit','hilpig','himbul','hsparo','indvul','jglowl','lbicrw','mgprob','rebimg','wcrsrt']\n",
        "print(output[pred])"
      ],
      "metadata": {
        "colab": {
          "base_uri": "https://localhost:8080/"
        },
        "id": "XjX-uGuZ8tYp",
        "outputId": "cf1ef386-2f92-4bc7-96d1-61ae0f54a70d"
      },
      "execution_count": null,
      "outputs": [
        {
          "output_type": "stream",
          "name": "stdout",
          "text": [
            "1/1 [==============================] - 0s 28ms/step\n",
            "7\n",
            "himbul\n"
          ]
        }
      ]
    },
    {
      "cell_type": "code",
      "source": [
        "img10 = image.load_img('/content/test_data/test_data/himbul/_D32_10242.jpg',target_size=(224,224))\n",
        "img10 = image.img_to_array(img10)\n",
        "img10 = np.expand_dims(img10,axis=0)\n",
        "pred = np.argmax(model.predict(img10))\n",
        "print(pred)\n",
        "output = ['blasti','bonegl','brhkyt','cbrtsh','cmnmyn','gretit','hilpig','himbul','hsparo','indvul','jglowl','lbicrw','mgprob','rebimg','wcrsrt']\n",
        "print(output[pred])"
      ],
      "metadata": {
        "colab": {
          "base_uri": "https://localhost:8080/"
        },
        "id": "wgtTXWRu8v9s",
        "outputId": "5796b23a-7284-485b-8b53-23985398aa02"
      },
      "execution_count": null,
      "outputs": [
        {
          "output_type": "stream",
          "name": "stdout",
          "text": [
            "1/1 [==============================] - 0s 71ms/step\n",
            "4\n",
            "cmnmyn\n"
          ]
        }
      ]
    },
    {
      "cell_type": "code",
      "source": [
        "img11 = image.load_img('/content/test_data/test_data/himgri/IMG_5384.JPG',target_size=(224,224))\n",
        "img11 = image.img_to_array(img11)\n",
        "img11 = np.expand_dims(img11,axis=0)\n",
        "pred = np.argmax(model.predict(img11))\n",
        "print(pred)\n",
        "output = ['blasti','bonegl','brhkyt','cbrtsh','cmnmyn','gretit','hilpig','himbul','hsparo','indvul','jglowl','lbicrw','mgprob','rebimg','wcrsrt']\n",
        "print(output[pred])"
      ],
      "metadata": {
        "colab": {
          "base_uri": "https://localhost:8080/"
        },
        "id": "dXoUXe-X807h",
        "outputId": "7136aea4-d3dd-45f1-810a-52b16be1dd24"
      },
      "execution_count": null,
      "outputs": [
        {
          "output_type": "stream",
          "name": "stdout",
          "text": [
            "1/1 [==============================] - 0s 19ms/step\n",
            "7\n",
            "himbul\n"
          ]
        }
      ]
    },
    {
      "cell_type": "code",
      "source": [
        "img12 = image.load_img('/content/test_data/test_data/hsparo/DSC_4521.jpg',target_size=(224,224))\n",
        "img12 = image.img_to_array(img12)\n",
        "img12 = np.expand_dims(img12,axis=0)\n",
        "pred = np.argmax(model.predict(img12))\n",
        "print(pred)\n",
        "output = ['blasti','bonegl','brhkyt','cbrtsh','cmnmyn','gretit','hilpig','himbul','hsparo','indvul','jglowl','lbicrw','mgprob','rebimg','wcrsrt']\n",
        "print(output[pred])"
      ],
      "metadata": {
        "colab": {
          "base_uri": "https://localhost:8080/"
        },
        "id": "STmYVzwC819v",
        "outputId": "918af282-682e-4cc7-c79c-58ed89b6edfd"
      },
      "execution_count": null,
      "outputs": [
        {
          "output_type": "stream",
          "name": "stdout",
          "text": [
            "1/1 [==============================] - 0s 21ms/step\n",
            "14\n",
            "wcrsrt\n"
          ]
        }
      ]
    },
    {
      "cell_type": "code",
      "source": [
        "img13 = image.load_img('/content/test_data/test_data/indvul/DSC_1263.jpg',target_size=(224,224))\n",
        "img13 = image.img_to_array(img13)\n",
        "img13 = np.expand_dims(img13,axis=0)\n",
        "pred = np.argmax(model.predict(img13))\n",
        "print(pred)\n",
        "output = ['blasti','bonegl','brhkyt','cbrtsh','cmnmyn','gretit','hilpig','himbul','hsparo','indvul','jglowl','lbicrw','mgprob','rebimg','wcrsrt']\n",
        "print(output[pred])"
      ],
      "metadata": {
        "colab": {
          "base_uri": "https://localhost:8080/"
        },
        "id": "HU74Rze282-5",
        "outputId": "8ef8ca13-13e5-4c43-f9ae-3cbf482489b7"
      },
      "execution_count": null,
      "outputs": [
        {
          "output_type": "stream",
          "name": "stdout",
          "text": [
            "1/1 [==============================] - 0s 27ms/step\n",
            "14\n",
            "wcrsrt\n"
          ]
        }
      ]
    },
    {
      "cell_type": "code",
      "source": [
        "img14 = image.load_img('/content/test_data/test_data/lbicrw/100_4917.JPG',target_size=(224,224))\n",
        "img14 = image.img_to_array(img14)\n",
        "img14 = np.expand_dims(img14,axis=0)\n",
        "pred = np.argmax(model.predict(img14))\n",
        "print(pred)\n",
        "output = ['blasti','bonegl','brhkyt','cbrtsh','cmnmyn','gretit','hilpig','himbul','hsparo','indvul','jglowl','lbicrw','mgprob','rebimg','wcrsrt']\n",
        "print(output[pred])"
      ],
      "metadata": {
        "colab": {
          "base_uri": "https://localhost:8080/"
        },
        "id": "PJcJQcWv8381",
        "outputId": "11a7751e-b02c-4f2d-be1f-8f5d00536a36"
      },
      "execution_count": null,
      "outputs": [
        {
          "output_type": "stream",
          "name": "stdout",
          "text": [
            "1/1 [==============================] - 0s 18ms/step\n",
            "12\n",
            "mgprob\n"
          ]
        }
      ]
    },
    {
      "cell_type": "markdown",
      "source": [
        "**Xception**"
      ],
      "metadata": {
        "id": "3PFpuPH3Y2JW"
      }
    },
    {
      "cell_type": "code",
      "source": [
        "from tensorflow.keras.applications.xception import Xception\n",
        "\n"
      ],
      "metadata": {
        "id": "-VnBx75vg9AX"
      },
      "execution_count": null,
      "outputs": []
    },
    {
      "cell_type": "code",
      "source": [
        "xception = Xception(include_top=False, input_shape=(224, 224, 3))\n",
        "\n"
      ],
      "metadata": {
        "colab": {
          "base_uri": "https://localhost:8080/"
        },
        "id": "DQwc-GsThB0p",
        "outputId": "3094d15d-d699-4101-afa0-634ce43ce30f"
      },
      "execution_count": null,
      "outputs": [
        {
          "output_type": "stream",
          "name": "stdout",
          "text": [
            "Downloading data from https://storage.googleapis.com/tensorflow/keras-applications/xception/xception_weights_tf_dim_ordering_tf_kernels_notop.h5\n",
            "83683744/83683744 [==============================] - 0s 0us/step\n"
          ]
        }
      ]
    },
    {
      "cell_type": "code",
      "source": [
        "for layer in xception.layers:\n",
        "    layer.trainable = False\n",
        "\n"
      ],
      "metadata": {
        "id": "wtDe9w1FhEZ3"
      },
      "execution_count": null,
      "outputs": []
    },
    {
      "cell_type": "code",
      "source": [
        "\n",
        "\n",
        "for layer in xception.layers:\n",
        "    print(layer)\n"
      ],
      "metadata": {
        "colab": {
          "base_uri": "https://localhost:8080/"
        },
        "id": "4OjItq0JhIkG",
        "outputId": "6914c658-c06a-4d13-b55a-8bce3cfcc69f"
      },
      "execution_count": null,
      "outputs": [
        {
          "output_type": "stream",
          "name": "stdout",
          "text": [
            "<keras.engine.input_layer.InputLayer object at 0x7fa639478a00>\n",
            "<keras.layers.convolutional.conv2d.Conv2D object at 0x7fa639479bd0>\n",
            "<keras.layers.normalization.batch_normalization.BatchNormalization object at 0x7fa5fa5d4e80>\n",
            "<keras.layers.core.activation.Activation object at 0x7fa639479c60>\n",
            "<keras.layers.convolutional.conv2d.Conv2D object at 0x7fa63947ab30>\n",
            "<keras.layers.normalization.batch_normalization.BatchNormalization object at 0x7fa63947a0e0>\n",
            "<keras.layers.core.activation.Activation object at 0x7fa638aef700>\n",
            "<keras.layers.convolutional.separable_conv2d.SeparableConv2D object at 0x7fa6393ddd50>\n",
            "<keras.layers.normalization.batch_normalization.BatchNormalization object at 0x7fa6dbfbab30>\n",
            "<keras.layers.core.activation.Activation object at 0x7fa6394b1c90>\n",
            "<keras.layers.convolutional.separable_conv2d.SeparableConv2D object at 0x7fa6394b1ff0>\n",
            "<keras.layers.normalization.batch_normalization.BatchNormalization object at 0x7fa6394b0130>\n",
            "<keras.layers.convolutional.conv2d.Conv2D object at 0x7fa638aec700>\n",
            "<keras.layers.pooling.max_pooling2d.MaxPooling2D object at 0x7fa6394b26b0>\n",
            "<keras.layers.normalization.batch_normalization.BatchNormalization object at 0x7fa638b154b0>\n",
            "<keras.layers.merging.add.Add object at 0x7fa6394b0e20>\n",
            "<keras.layers.core.activation.Activation object at 0x7fa63947a9e0>\n",
            "<keras.layers.convolutional.separable_conv2d.SeparableConv2D object at 0x7fa639478ca0>\n",
            "<keras.layers.normalization.batch_normalization.BatchNormalization object at 0x7fa639478670>\n",
            "<keras.layers.core.activation.Activation object at 0x7fa6394b2260>\n",
            "<keras.layers.convolutional.separable_conv2d.SeparableConv2D object at 0x7fa6394b0400>\n",
            "<keras.layers.normalization.batch_normalization.BatchNormalization object at 0x7fa63947b610>\n",
            "<keras.layers.convolutional.conv2d.Conv2D object at 0x7fa63cc2be50>\n",
            "<keras.layers.pooling.max_pooling2d.MaxPooling2D object at 0x7fa638ac2f20>\n",
            "<keras.layers.normalization.batch_normalization.BatchNormalization object at 0x7fa6394b23b0>\n",
            "<keras.layers.merging.add.Add object at 0x7fa638ac1a80>\n",
            "<keras.layers.core.activation.Activation object at 0x7fa638aee2c0>\n",
            "<keras.layers.convolutional.separable_conv2d.SeparableConv2D object at 0x7fa638aefca0>\n",
            "<keras.layers.normalization.batch_normalization.BatchNormalization object at 0x7fa639478430>\n",
            "<keras.layers.core.activation.Activation object at 0x7fa638aefa90>\n",
            "<keras.layers.convolutional.separable_conv2d.SeparableConv2D object at 0x7fa638aef8e0>\n",
            "<keras.layers.normalization.batch_normalization.BatchNormalization object at 0x7fa638aefcd0>\n",
            "<keras.layers.convolutional.conv2d.Conv2D object at 0x7fa6394b1f00>\n",
            "<keras.layers.pooling.max_pooling2d.MaxPooling2D object at 0x7fa638aefd60>\n",
            "<keras.layers.normalization.batch_normalization.BatchNormalization object at 0x7fa638ac3130>\n",
            "<keras.layers.merging.add.Add object at 0x7fa638aec610>\n",
            "<keras.layers.core.activation.Activation object at 0x7fa638b15cf0>\n",
            "<keras.layers.convolutional.separable_conv2d.SeparableConv2D object at 0x7fa638b15e10>\n",
            "<keras.layers.normalization.batch_normalization.BatchNormalization object at 0x7fa6394b2b90>\n",
            "<keras.layers.core.activation.Activation object at 0x7fa638b14880>\n",
            "<keras.layers.convolutional.separable_conv2d.SeparableConv2D object at 0x7fa638b164d0>\n",
            "<keras.layers.normalization.batch_normalization.BatchNormalization object at 0x7fa638b14cd0>\n",
            "<keras.layers.core.activation.Activation object at 0x7fa638b33280>\n",
            "<keras.layers.convolutional.separable_conv2d.SeparableConv2D object at 0x7fa638b15300>\n",
            "<keras.layers.normalization.batch_normalization.BatchNormalization object at 0x7fa638b310c0>\n",
            "<keras.layers.merging.add.Add object at 0x7fa638b31480>\n",
            "<keras.layers.core.activation.Activation object at 0x7fa638b4d900>\n",
            "<keras.layers.convolutional.separable_conv2d.SeparableConv2D object at 0x7fa638b4f700>\n",
            "<keras.layers.normalization.batch_normalization.BatchNormalization object at 0x7fa638b4d210>\n",
            "<keras.layers.core.activation.Activation object at 0x7fa638b4dcf0>\n",
            "<keras.layers.convolutional.separable_conv2d.SeparableConv2D object at 0x7fa638b4ed70>\n",
            "<keras.layers.normalization.batch_normalization.BatchNormalization object at 0x7fa638b4d0f0>\n",
            "<keras.layers.core.activation.Activation object at 0x7fa638b32380>\n",
            "<keras.layers.convolutional.separable_conv2d.SeparableConv2D object at 0x7fa638b32f50>\n",
            "<keras.layers.normalization.batch_normalization.BatchNormalization object at 0x7fa638b33040>\n",
            "<keras.layers.merging.add.Add object at 0x7fa638aec7c0>\n",
            "<keras.layers.core.activation.Activation object at 0x7fa638b30ac0>\n",
            "<keras.layers.convolutional.separable_conv2d.SeparableConv2D object at 0x7fa6394b1c30>\n",
            "<keras.layers.normalization.batch_normalization.BatchNormalization object at 0x7fa6394b3b20>\n",
            "<keras.layers.core.activation.Activation object at 0x7fa63947a3e0>\n",
            "<keras.layers.convolutional.separable_conv2d.SeparableConv2D object at 0x7fa638aecc40>\n",
            "<keras.layers.normalization.batch_normalization.BatchNormalization object at 0x7fa638b14e80>\n",
            "<keras.layers.core.activation.Activation object at 0x7fa638b87ac0>\n",
            "<keras.layers.convolutional.separable_conv2d.SeparableConv2D object at 0x7fa638b87220>\n",
            "<keras.layers.normalization.batch_normalization.BatchNormalization object at 0x7fa638b86f20>\n",
            "<keras.layers.merging.add.Add object at 0x7fa638b86650>\n",
            "<keras.layers.core.activation.Activation object at 0x7fa638b852d0>\n",
            "<keras.layers.convolutional.separable_conv2d.SeparableConv2D object at 0x7fa638b85570>\n",
            "<keras.layers.normalization.batch_normalization.BatchNormalization object at 0x7fa638b855a0>\n",
            "<keras.layers.core.activation.Activation object at 0x7fa638b9f4f0>\n",
            "<keras.layers.convolutional.separable_conv2d.SeparableConv2D object at 0x7fa638b9ebf0>\n",
            "<keras.layers.normalization.batch_normalization.BatchNormalization object at 0x7fa638b86890>\n",
            "<keras.layers.core.activation.Activation object at 0x7fa638b9e230>\n",
            "<keras.layers.convolutional.separable_conv2d.SeparableConv2D object at 0x7fa638b9edd0>\n",
            "<keras.layers.normalization.batch_normalization.BatchNormalization object at 0x7fa638aef3d0>\n",
            "<keras.layers.merging.add.Add object at 0x7fa638b9e650>\n",
            "<keras.layers.core.activation.Activation object at 0x7fa6389c2830>\n",
            "<keras.layers.convolutional.separable_conv2d.SeparableConv2D object at 0x7fa6389c3010>\n",
            "<keras.layers.normalization.batch_normalization.BatchNormalization object at 0x7fa638b9dde0>\n",
            "<keras.layers.core.activation.Activation object at 0x7fa6389c29b0>\n",
            "<keras.layers.convolutional.separable_conv2d.SeparableConv2D object at 0x7fa6389c3cd0>\n",
            "<keras.layers.normalization.batch_normalization.BatchNormalization object at 0x7fa6389c2b00>\n",
            "<keras.layers.core.activation.Activation object at 0x7fa6389d6170>\n",
            "<keras.layers.convolutional.separable_conv2d.SeparableConv2D object at 0x7fa6389d65c0>\n",
            "<keras.layers.normalization.batch_normalization.BatchNormalization object at 0x7fa6389d7280>\n",
            "<keras.layers.merging.add.Add object at 0x7fa6389d77f0>\n",
            "<keras.layers.core.activation.Activation object at 0x7fa6389d5210>\n",
            "<keras.layers.convolutional.separable_conv2d.SeparableConv2D object at 0x7fa6389d4190>\n",
            "<keras.layers.normalization.batch_normalization.BatchNormalization object at 0x7fa6389c0730>\n",
            "<keras.layers.core.activation.Activation object at 0x7fa6389d4550>\n",
            "<keras.layers.convolutional.separable_conv2d.SeparableConv2D object at 0x7fa6389d5180>\n",
            "<keras.layers.normalization.batch_normalization.BatchNormalization object at 0x7fa639478bb0>\n",
            "<keras.layers.core.activation.Activation object at 0x7fa638b87520>\n",
            "<keras.layers.convolutional.separable_conv2d.SeparableConv2D object at 0x7fa638b9f5b0>\n",
            "<keras.layers.normalization.batch_normalization.BatchNormalization object at 0x7fa6389d7e80>\n",
            "<keras.layers.merging.add.Add object at 0x7fa638b87370>\n",
            "<keras.layers.core.activation.Activation object at 0x7fa6389f5d20>\n",
            "<keras.layers.convolutional.separable_conv2d.SeparableConv2D object at 0x7fa6389f6170>\n",
            "<keras.layers.normalization.batch_normalization.BatchNormalization object at 0x7fa6389d6500>\n",
            "<keras.layers.core.activation.Activation object at 0x7fa6389f6560>\n",
            "<keras.layers.convolutional.separable_conv2d.SeparableConv2D object at 0x7fa6389f5a80>\n",
            "<keras.layers.normalization.batch_normalization.BatchNormalization object at 0x7fa6389f7b50>\n",
            "<keras.layers.core.activation.Activation object at 0x7fa6389f6860>\n",
            "<keras.layers.convolutional.separable_conv2d.SeparableConv2D object at 0x7fa6389f56c0>\n",
            "<keras.layers.normalization.batch_normalization.BatchNormalization object at 0x7fa6389f5900>\n",
            "<keras.layers.merging.add.Add object at 0x7fa638a16c50>\n",
            "<keras.layers.core.activation.Activation object at 0x7fa638a16650>\n",
            "<keras.layers.convolutional.separable_conv2d.SeparableConv2D object at 0x7fa638a17a60>\n",
            "<keras.layers.normalization.batch_normalization.BatchNormalization object at 0x7fa638a16590>\n",
            "<keras.layers.core.activation.Activation object at 0x7fa638a35db0>\n",
            "<keras.layers.convolutional.separable_conv2d.SeparableConv2D object at 0x7fa638a171f0>\n",
            "<keras.layers.normalization.batch_normalization.BatchNormalization object at 0x7fa638a17d30>\n",
            "<keras.layers.core.activation.Activation object at 0x7fa638a37700>\n",
            "<keras.layers.convolutional.separable_conv2d.SeparableConv2D object at 0x7fa638a36e60>\n",
            "<keras.layers.normalization.batch_normalization.BatchNormalization object at 0x7fa638a37f40>\n",
            "<keras.layers.merging.add.Add object at 0x7fa638a36c50>\n",
            "<keras.layers.core.activation.Activation object at 0x7fa638a36aa0>\n",
            "<keras.layers.convolutional.separable_conv2d.SeparableConv2D object at 0x7fa638a365f0>\n",
            "<keras.layers.normalization.batch_normalization.BatchNormalization object at 0x7fa638a375e0>\n",
            "<keras.layers.core.activation.Activation object at 0x7fa638a4fe20>\n",
            "<keras.layers.convolutional.separable_conv2d.SeparableConv2D object at 0x7fa638a4e7a0>\n",
            "<keras.layers.normalization.batch_normalization.BatchNormalization object at 0x7fa638b17df0>\n",
            "<keras.layers.convolutional.conv2d.Conv2D object at 0x7fa638a16b30>\n",
            "<keras.layers.pooling.max_pooling2d.MaxPooling2D object at 0x7fa638a4d900>\n",
            "<keras.layers.normalization.batch_normalization.BatchNormalization object at 0x7fa638aec8b0>\n",
            "<keras.layers.merging.add.Add object at 0x7fa638a4f010>\n",
            "<keras.layers.convolutional.separable_conv2d.SeparableConv2D object at 0x7fa638a4e020>\n",
            "<keras.layers.normalization.batch_normalization.BatchNormalization object at 0x7fa638a152d0>\n",
            "<keras.layers.core.activation.Activation object at 0x7fa638a35f00>\n",
            "<keras.layers.convolutional.separable_conv2d.SeparableConv2D object at 0x7fa638a4f160>\n",
            "<keras.layers.normalization.batch_normalization.BatchNormalization object at 0x7fa638b85ae0>\n",
            "<keras.layers.core.activation.Activation object at 0x7fa6389f77c0>\n"
          ]
        }
      ]
    },
    {
      "cell_type": "code",
      "source": [
        "x = Flatten()(xception.output)"
      ],
      "metadata": {
        "id": "R8IpKq6ihLvN"
      },
      "execution_count": null,
      "outputs": []
    },
    {
      "cell_type": "code",
      "source": [
        "out = Dense(16, activation='softmax')(x)\n"
      ],
      "metadata": {
        "id": "oT2zaO0AhNxr"
      },
      "execution_count": null,
      "outputs": []
    },
    {
      "cell_type": "code",
      "source": [
        "xception_model = Model(inputs=xception.input, outputs=out)"
      ],
      "metadata": {
        "id": "VQh2aO6OhP2W"
      },
      "execution_count": null,
      "outputs": []
    },
    {
      "cell_type": "code",
      "source": [
        "xception_model.summary()\n"
      ],
      "metadata": {
        "colab": {
          "base_uri": "https://localhost:8080/"
        },
        "id": "lN0vjQbrhSbj",
        "outputId": "d8385a98-98e4-4ee4-9744-9b9c663cbff9"
      },
      "execution_count": null,
      "outputs": [
        {
          "output_type": "stream",
          "name": "stdout",
          "text": [
            "Model: \"model_5\"\n",
            "__________________________________________________________________________________________________\n",
            " Layer (type)                   Output Shape         Param #     Connected to                     \n",
            "==================================================================================================\n",
            " input_6 (InputLayer)           [(None, 224, 224, 3  0           []                               \n",
            "                                )]                                                                \n",
            "                                                                                                  \n",
            " block1_conv1 (Conv2D)          (None, 111, 111, 32  864         ['input_6[0][0]']                \n",
            "                                )                                                                 \n",
            "                                                                                                  \n",
            " block1_conv1_bn (BatchNormaliz  (None, 111, 111, 32  128        ['block1_conv1[0][0]']           \n",
            " ation)                         )                                                                 \n",
            "                                                                                                  \n",
            " block1_conv1_act (Activation)  (None, 111, 111, 32  0           ['block1_conv1_bn[0][0]']        \n",
            "                                )                                                                 \n",
            "                                                                                                  \n",
            " block1_conv2 (Conv2D)          (None, 109, 109, 64  18432       ['block1_conv1_act[0][0]']       \n",
            "                                )                                                                 \n",
            "                                                                                                  \n",
            " block1_conv2_bn (BatchNormaliz  (None, 109, 109, 64  256        ['block1_conv2[0][0]']           \n",
            " ation)                         )                                                                 \n",
            "                                                                                                  \n",
            " block1_conv2_act (Activation)  (None, 109, 109, 64  0           ['block1_conv2_bn[0][0]']        \n",
            "                                )                                                                 \n",
            "                                                                                                  \n",
            " block2_sepconv1 (SeparableConv  (None, 109, 109, 12  8768       ['block1_conv2_act[0][0]']       \n",
            " 2D)                            8)                                                                \n",
            "                                                                                                  \n",
            " block2_sepconv1_bn (BatchNorma  (None, 109, 109, 12  512        ['block2_sepconv1[0][0]']        \n",
            " lization)                      8)                                                                \n",
            "                                                                                                  \n",
            " block2_sepconv2_act (Activatio  (None, 109, 109, 12  0          ['block2_sepconv1_bn[0][0]']     \n",
            " n)                             8)                                                                \n",
            "                                                                                                  \n",
            " block2_sepconv2 (SeparableConv  (None, 109, 109, 12  17536      ['block2_sepconv2_act[0][0]']    \n",
            " 2D)                            8)                                                                \n",
            "                                                                                                  \n",
            " block2_sepconv2_bn (BatchNorma  (None, 109, 109, 12  512        ['block2_sepconv2[0][0]']        \n",
            " lization)                      8)                                                                \n",
            "                                                                                                  \n",
            " conv2d_94 (Conv2D)             (None, 55, 55, 128)  8192        ['block1_conv2_act[0][0]']       \n",
            "                                                                                                  \n",
            " block2_pool (MaxPooling2D)     (None, 55, 55, 128)  0           ['block2_sepconv2_bn[0][0]']     \n",
            "                                                                                                  \n",
            " batch_normalization_94 (BatchN  (None, 55, 55, 128)  512        ['conv2d_94[0][0]']              \n",
            " ormalization)                                                                                    \n",
            "                                                                                                  \n",
            " add (Add)                      (None, 55, 55, 128)  0           ['block2_pool[0][0]',            \n",
            "                                                                  'batch_normalization_94[0][0]'] \n",
            "                                                                                                  \n",
            " block3_sepconv1_act (Activatio  (None, 55, 55, 128)  0          ['add[0][0]']                    \n",
            " n)                                                                                               \n",
            "                                                                                                  \n",
            " block3_sepconv1 (SeparableConv  (None, 55, 55, 256)  33920      ['block3_sepconv1_act[0][0]']    \n",
            " 2D)                                                                                              \n",
            "                                                                                                  \n",
            " block3_sepconv1_bn (BatchNorma  (None, 55, 55, 256)  1024       ['block3_sepconv1[0][0]']        \n",
            " lization)                                                                                        \n",
            "                                                                                                  \n",
            " block3_sepconv2_act (Activatio  (None, 55, 55, 256)  0          ['block3_sepconv1_bn[0][0]']     \n",
            " n)                                                                                               \n",
            "                                                                                                  \n",
            " block3_sepconv2 (SeparableConv  (None, 55, 55, 256)  67840      ['block3_sepconv2_act[0][0]']    \n",
            " 2D)                                                                                              \n",
            "                                                                                                  \n",
            " block3_sepconv2_bn (BatchNorma  (None, 55, 55, 256)  1024       ['block3_sepconv2[0][0]']        \n",
            " lization)                                                                                        \n",
            "                                                                                                  \n",
            " conv2d_95 (Conv2D)             (None, 28, 28, 256)  32768       ['add[0][0]']                    \n",
            "                                                                                                  \n",
            " block3_pool (MaxPooling2D)     (None, 28, 28, 256)  0           ['block3_sepconv2_bn[0][0]']     \n",
            "                                                                                                  \n",
            " batch_normalization_95 (BatchN  (None, 28, 28, 256)  1024       ['conv2d_95[0][0]']              \n",
            " ormalization)                                                                                    \n",
            "                                                                                                  \n",
            " add_1 (Add)                    (None, 28, 28, 256)  0           ['block3_pool[0][0]',            \n",
            "                                                                  'batch_normalization_95[0][0]'] \n",
            "                                                                                                  \n",
            " block4_sepconv1_act (Activatio  (None, 28, 28, 256)  0          ['add_1[0][0]']                  \n",
            " n)                                                                                               \n",
            "                                                                                                  \n",
            " block4_sepconv1 (SeparableConv  (None, 28, 28, 728)  188672     ['block4_sepconv1_act[0][0]']    \n",
            " 2D)                                                                                              \n",
            "                                                                                                  \n",
            " block4_sepconv1_bn (BatchNorma  (None, 28, 28, 728)  2912       ['block4_sepconv1[0][0]']        \n",
            " lization)                                                                                        \n",
            "                                                                                                  \n",
            " block4_sepconv2_act (Activatio  (None, 28, 28, 728)  0          ['block4_sepconv1_bn[0][0]']     \n",
            " n)                                                                                               \n",
            "                                                                                                  \n",
            " block4_sepconv2 (SeparableConv  (None, 28, 28, 728)  536536     ['block4_sepconv2_act[0][0]']    \n",
            " 2D)                                                                                              \n",
            "                                                                                                  \n",
            " block4_sepconv2_bn (BatchNorma  (None, 28, 28, 728)  2912       ['block4_sepconv2[0][0]']        \n",
            " lization)                                                                                        \n",
            "                                                                                                  \n",
            " conv2d_96 (Conv2D)             (None, 14, 14, 728)  186368      ['add_1[0][0]']                  \n",
            "                                                                                                  \n",
            " block4_pool (MaxPooling2D)     (None, 14, 14, 728)  0           ['block4_sepconv2_bn[0][0]']     \n",
            "                                                                                                  \n",
            " batch_normalization_96 (BatchN  (None, 14, 14, 728)  2912       ['conv2d_96[0][0]']              \n",
            " ormalization)                                                                                    \n",
            "                                                                                                  \n",
            " add_2 (Add)                    (None, 14, 14, 728)  0           ['block4_pool[0][0]',            \n",
            "                                                                  'batch_normalization_96[0][0]'] \n",
            "                                                                                                  \n",
            " block5_sepconv1_act (Activatio  (None, 14, 14, 728)  0          ['add_2[0][0]']                  \n",
            " n)                                                                                               \n",
            "                                                                                                  \n",
            " block5_sepconv1 (SeparableConv  (None, 14, 14, 728)  536536     ['block5_sepconv1_act[0][0]']    \n",
            " 2D)                                                                                              \n",
            "                                                                                                  \n",
            " block5_sepconv1_bn (BatchNorma  (None, 14, 14, 728)  2912       ['block5_sepconv1[0][0]']        \n",
            " lization)                                                                                        \n",
            "                                                                                                  \n",
            " block5_sepconv2_act (Activatio  (None, 14, 14, 728)  0          ['block5_sepconv1_bn[0][0]']     \n",
            " n)                                                                                               \n",
            "                                                                                                  \n",
            " block5_sepconv2 (SeparableConv  (None, 14, 14, 728)  536536     ['block5_sepconv2_act[0][0]']    \n",
            " 2D)                                                                                              \n",
            "                                                                                                  \n",
            " block5_sepconv2_bn (BatchNorma  (None, 14, 14, 728)  2912       ['block5_sepconv2[0][0]']        \n",
            " lization)                                                                                        \n",
            "                                                                                                  \n",
            " block5_sepconv3_act (Activatio  (None, 14, 14, 728)  0          ['block5_sepconv2_bn[0][0]']     \n",
            " n)                                                                                               \n",
            "                                                                                                  \n",
            " block5_sepconv3 (SeparableConv  (None, 14, 14, 728)  536536     ['block5_sepconv3_act[0][0]']    \n",
            " 2D)                                                                                              \n",
            "                                                                                                  \n",
            " block5_sepconv3_bn (BatchNorma  (None, 14, 14, 728)  2912       ['block5_sepconv3[0][0]']        \n",
            " lization)                                                                                        \n",
            "                                                                                                  \n",
            " add_3 (Add)                    (None, 14, 14, 728)  0           ['block5_sepconv3_bn[0][0]',     \n",
            "                                                                  'add_2[0][0]']                  \n",
            "                                                                                                  \n",
            " block6_sepconv1_act (Activatio  (None, 14, 14, 728)  0          ['add_3[0][0]']                  \n",
            " n)                                                                                               \n",
            "                                                                                                  \n",
            " block6_sepconv1 (SeparableConv  (None, 14, 14, 728)  536536     ['block6_sepconv1_act[0][0]']    \n",
            " 2D)                                                                                              \n",
            "                                                                                                  \n",
            " block6_sepconv1_bn (BatchNorma  (None, 14, 14, 728)  2912       ['block6_sepconv1[0][0]']        \n",
            " lization)                                                                                        \n",
            "                                                                                                  \n",
            " block6_sepconv2_act (Activatio  (None, 14, 14, 728)  0          ['block6_sepconv1_bn[0][0]']     \n",
            " n)                                                                                               \n",
            "                                                                                                  \n",
            " block6_sepconv2 (SeparableConv  (None, 14, 14, 728)  536536     ['block6_sepconv2_act[0][0]']    \n",
            " 2D)                                                                                              \n",
            "                                                                                                  \n",
            " block6_sepconv2_bn (BatchNorma  (None, 14, 14, 728)  2912       ['block6_sepconv2[0][0]']        \n",
            " lization)                                                                                        \n",
            "                                                                                                  \n",
            " block6_sepconv3_act (Activatio  (None, 14, 14, 728)  0          ['block6_sepconv2_bn[0][0]']     \n",
            " n)                                                                                               \n",
            "                                                                                                  \n",
            " block6_sepconv3 (SeparableConv  (None, 14, 14, 728)  536536     ['block6_sepconv3_act[0][0]']    \n",
            " 2D)                                                                                              \n",
            "                                                                                                  \n",
            " block6_sepconv3_bn (BatchNorma  (None, 14, 14, 728)  2912       ['block6_sepconv3[0][0]']        \n",
            " lization)                                                                                        \n",
            "                                                                                                  \n",
            " add_4 (Add)                    (None, 14, 14, 728)  0           ['block6_sepconv3_bn[0][0]',     \n",
            "                                                                  'add_3[0][0]']                  \n",
            "                                                                                                  \n",
            " block7_sepconv1_act (Activatio  (None, 14, 14, 728)  0          ['add_4[0][0]']                  \n",
            " n)                                                                                               \n",
            "                                                                                                  \n",
            " block7_sepconv1 (SeparableConv  (None, 14, 14, 728)  536536     ['block7_sepconv1_act[0][0]']    \n",
            " 2D)                                                                                              \n",
            "                                                                                                  \n",
            " block7_sepconv1_bn (BatchNorma  (None, 14, 14, 728)  2912       ['block7_sepconv1[0][0]']        \n",
            " lization)                                                                                        \n",
            "                                                                                                  \n",
            " block7_sepconv2_act (Activatio  (None, 14, 14, 728)  0          ['block7_sepconv1_bn[0][0]']     \n",
            " n)                                                                                               \n",
            "                                                                                                  \n",
            " block7_sepconv2 (SeparableConv  (None, 14, 14, 728)  536536     ['block7_sepconv2_act[0][0]']    \n",
            " 2D)                                                                                              \n",
            "                                                                                                  \n",
            " block7_sepconv2_bn (BatchNorma  (None, 14, 14, 728)  2912       ['block7_sepconv2[0][0]']        \n",
            " lization)                                                                                        \n",
            "                                                                                                  \n",
            " block7_sepconv3_act (Activatio  (None, 14, 14, 728)  0          ['block7_sepconv2_bn[0][0]']     \n",
            " n)                                                                                               \n",
            "                                                                                                  \n",
            " block7_sepconv3 (SeparableConv  (None, 14, 14, 728)  536536     ['block7_sepconv3_act[0][0]']    \n",
            " 2D)                                                                                              \n",
            "                                                                                                  \n",
            " block7_sepconv3_bn (BatchNorma  (None, 14, 14, 728)  2912       ['block7_sepconv3[0][0]']        \n",
            " lization)                                                                                        \n",
            "                                                                                                  \n",
            " add_5 (Add)                    (None, 14, 14, 728)  0           ['block7_sepconv3_bn[0][0]',     \n",
            "                                                                  'add_4[0][0]']                  \n",
            "                                                                                                  \n",
            " block8_sepconv1_act (Activatio  (None, 14, 14, 728)  0          ['add_5[0][0]']                  \n",
            " n)                                                                                               \n",
            "                                                                                                  \n",
            " block8_sepconv1 (SeparableConv  (None, 14, 14, 728)  536536     ['block8_sepconv1_act[0][0]']    \n",
            " 2D)                                                                                              \n",
            "                                                                                                  \n",
            " block8_sepconv1_bn (BatchNorma  (None, 14, 14, 728)  2912       ['block8_sepconv1[0][0]']        \n",
            " lization)                                                                                        \n",
            "                                                                                                  \n",
            " block8_sepconv2_act (Activatio  (None, 14, 14, 728)  0          ['block8_sepconv1_bn[0][0]']     \n",
            " n)                                                                                               \n",
            "                                                                                                  \n",
            " block8_sepconv2 (SeparableConv  (None, 14, 14, 728)  536536     ['block8_sepconv2_act[0][0]']    \n",
            " 2D)                                                                                              \n",
            "                                                                                                  \n",
            " block8_sepconv2_bn (BatchNorma  (None, 14, 14, 728)  2912       ['block8_sepconv2[0][0]']        \n",
            " lization)                                                                                        \n",
            "                                                                                                  \n",
            " block8_sepconv3_act (Activatio  (None, 14, 14, 728)  0          ['block8_sepconv2_bn[0][0]']     \n",
            " n)                                                                                               \n",
            "                                                                                                  \n",
            " block8_sepconv3 (SeparableConv  (None, 14, 14, 728)  536536     ['block8_sepconv3_act[0][0]']    \n",
            " 2D)                                                                                              \n",
            "                                                                                                  \n",
            " block8_sepconv3_bn (BatchNorma  (None, 14, 14, 728)  2912       ['block8_sepconv3[0][0]']        \n",
            " lization)                                                                                        \n",
            "                                                                                                  \n",
            " add_6 (Add)                    (None, 14, 14, 728)  0           ['block8_sepconv3_bn[0][0]',     \n",
            "                                                                  'add_5[0][0]']                  \n",
            "                                                                                                  \n",
            " block9_sepconv1_act (Activatio  (None, 14, 14, 728)  0          ['add_6[0][0]']                  \n",
            " n)                                                                                               \n",
            "                                                                                                  \n",
            " block9_sepconv1 (SeparableConv  (None, 14, 14, 728)  536536     ['block9_sepconv1_act[0][0]']    \n",
            " 2D)                                                                                              \n",
            "                                                                                                  \n",
            " block9_sepconv1_bn (BatchNorma  (None, 14, 14, 728)  2912       ['block9_sepconv1[0][0]']        \n",
            " lization)                                                                                        \n",
            "                                                                                                  \n",
            " block9_sepconv2_act (Activatio  (None, 14, 14, 728)  0          ['block9_sepconv1_bn[0][0]']     \n",
            " n)                                                                                               \n",
            "                                                                                                  \n",
            " block9_sepconv2 (SeparableConv  (None, 14, 14, 728)  536536     ['block9_sepconv2_act[0][0]']    \n",
            " 2D)                                                                                              \n",
            "                                                                                                  \n",
            " block9_sepconv2_bn (BatchNorma  (None, 14, 14, 728)  2912       ['block9_sepconv2[0][0]']        \n",
            " lization)                                                                                        \n",
            "                                                                                                  \n",
            " block9_sepconv3_act (Activatio  (None, 14, 14, 728)  0          ['block9_sepconv2_bn[0][0]']     \n",
            " n)                                                                                               \n",
            "                                                                                                  \n",
            " block9_sepconv3 (SeparableConv  (None, 14, 14, 728)  536536     ['block9_sepconv3_act[0][0]']    \n",
            " 2D)                                                                                              \n",
            "                                                                                                  \n",
            " block9_sepconv3_bn (BatchNorma  (None, 14, 14, 728)  2912       ['block9_sepconv3[0][0]']        \n",
            " lization)                                                                                        \n",
            "                                                                                                  \n",
            " add_7 (Add)                    (None, 14, 14, 728)  0           ['block9_sepconv3_bn[0][0]',     \n",
            "                                                                  'add_6[0][0]']                  \n",
            "                                                                                                  \n",
            " block10_sepconv1_act (Activati  (None, 14, 14, 728)  0          ['add_7[0][0]']                  \n",
            " on)                                                                                              \n",
            "                                                                                                  \n",
            " block10_sepconv1 (SeparableCon  (None, 14, 14, 728)  536536     ['block10_sepconv1_act[0][0]']   \n",
            " v2D)                                                                                             \n",
            "                                                                                                  \n",
            " block10_sepconv1_bn (BatchNorm  (None, 14, 14, 728)  2912       ['block10_sepconv1[0][0]']       \n",
            " alization)                                                                                       \n",
            "                                                                                                  \n",
            " block10_sepconv2_act (Activati  (None, 14, 14, 728)  0          ['block10_sepconv1_bn[0][0]']    \n",
            " on)                                                                                              \n",
            "                                                                                                  \n",
            " block10_sepconv2 (SeparableCon  (None, 14, 14, 728)  536536     ['block10_sepconv2_act[0][0]']   \n",
            " v2D)                                                                                             \n",
            "                                                                                                  \n",
            " block10_sepconv2_bn (BatchNorm  (None, 14, 14, 728)  2912       ['block10_sepconv2[0][0]']       \n",
            " alization)                                                                                       \n",
            "                                                                                                  \n",
            " block10_sepconv3_act (Activati  (None, 14, 14, 728)  0          ['block10_sepconv2_bn[0][0]']    \n",
            " on)                                                                                              \n",
            "                                                                                                  \n",
            " block10_sepconv3 (SeparableCon  (None, 14, 14, 728)  536536     ['block10_sepconv3_act[0][0]']   \n",
            " v2D)                                                                                             \n",
            "                                                                                                  \n",
            " block10_sepconv3_bn (BatchNorm  (None, 14, 14, 728)  2912       ['block10_sepconv3[0][0]']       \n",
            " alization)                                                                                       \n",
            "                                                                                                  \n",
            " add_8 (Add)                    (None, 14, 14, 728)  0           ['block10_sepconv3_bn[0][0]',    \n",
            "                                                                  'add_7[0][0]']                  \n",
            "                                                                                                  \n",
            " block11_sepconv1_act (Activati  (None, 14, 14, 728)  0          ['add_8[0][0]']                  \n",
            " on)                                                                                              \n",
            "                                                                                                  \n",
            " block11_sepconv1 (SeparableCon  (None, 14, 14, 728)  536536     ['block11_sepconv1_act[0][0]']   \n",
            " v2D)                                                                                             \n",
            "                                                                                                  \n",
            " block11_sepconv1_bn (BatchNorm  (None, 14, 14, 728)  2912       ['block11_sepconv1[0][0]']       \n",
            " alization)                                                                                       \n",
            "                                                                                                  \n",
            " block11_sepconv2_act (Activati  (None, 14, 14, 728)  0          ['block11_sepconv1_bn[0][0]']    \n",
            " on)                                                                                              \n",
            "                                                                                                  \n",
            " block11_sepconv2 (SeparableCon  (None, 14, 14, 728)  536536     ['block11_sepconv2_act[0][0]']   \n",
            " v2D)                                                                                             \n",
            "                                                                                                  \n",
            " block11_sepconv2_bn (BatchNorm  (None, 14, 14, 728)  2912       ['block11_sepconv2[0][0]']       \n",
            " alization)                                                                                       \n",
            "                                                                                                  \n",
            " block11_sepconv3_act (Activati  (None, 14, 14, 728)  0          ['block11_sepconv2_bn[0][0]']    \n",
            " on)                                                                                              \n",
            "                                                                                                  \n",
            " block11_sepconv3 (SeparableCon  (None, 14, 14, 728)  536536     ['block11_sepconv3_act[0][0]']   \n",
            " v2D)                                                                                             \n",
            "                                                                                                  \n",
            " block11_sepconv3_bn (BatchNorm  (None, 14, 14, 728)  2912       ['block11_sepconv3[0][0]']       \n",
            " alization)                                                                                       \n",
            "                                                                                                  \n",
            " add_9 (Add)                    (None, 14, 14, 728)  0           ['block11_sepconv3_bn[0][0]',    \n",
            "                                                                  'add_8[0][0]']                  \n",
            "                                                                                                  \n",
            " block12_sepconv1_act (Activati  (None, 14, 14, 728)  0          ['add_9[0][0]']                  \n",
            " on)                                                                                              \n",
            "                                                                                                  \n",
            " block12_sepconv1 (SeparableCon  (None, 14, 14, 728)  536536     ['block12_sepconv1_act[0][0]']   \n",
            " v2D)                                                                                             \n",
            "                                                                                                  \n",
            " block12_sepconv1_bn (BatchNorm  (None, 14, 14, 728)  2912       ['block12_sepconv1[0][0]']       \n",
            " alization)                                                                                       \n",
            "                                                                                                  \n",
            " block12_sepconv2_act (Activati  (None, 14, 14, 728)  0          ['block12_sepconv1_bn[0][0]']    \n",
            " on)                                                                                              \n",
            "                                                                                                  \n",
            " block12_sepconv2 (SeparableCon  (None, 14, 14, 728)  536536     ['block12_sepconv2_act[0][0]']   \n",
            " v2D)                                                                                             \n",
            "                                                                                                  \n",
            " block12_sepconv2_bn (BatchNorm  (None, 14, 14, 728)  2912       ['block12_sepconv2[0][0]']       \n",
            " alization)                                                                                       \n",
            "                                                                                                  \n",
            " block12_sepconv3_act (Activati  (None, 14, 14, 728)  0          ['block12_sepconv2_bn[0][0]']    \n",
            " on)                                                                                              \n",
            "                                                                                                  \n",
            " block12_sepconv3 (SeparableCon  (None, 14, 14, 728)  536536     ['block12_sepconv3_act[0][0]']   \n",
            " v2D)                                                                                             \n",
            "                                                                                                  \n",
            " block12_sepconv3_bn (BatchNorm  (None, 14, 14, 728)  2912       ['block12_sepconv3[0][0]']       \n",
            " alization)                                                                                       \n",
            "                                                                                                  \n",
            " add_10 (Add)                   (None, 14, 14, 728)  0           ['block12_sepconv3_bn[0][0]',    \n",
            "                                                                  'add_9[0][0]']                  \n",
            "                                                                                                  \n",
            " block13_sepconv1_act (Activati  (None, 14, 14, 728)  0          ['add_10[0][0]']                 \n",
            " on)                                                                                              \n",
            "                                                                                                  \n",
            " block13_sepconv1 (SeparableCon  (None, 14, 14, 728)  536536     ['block13_sepconv1_act[0][0]']   \n",
            " v2D)                                                                                             \n",
            "                                                                                                  \n",
            " block13_sepconv1_bn (BatchNorm  (None, 14, 14, 728)  2912       ['block13_sepconv1[0][0]']       \n",
            " alization)                                                                                       \n",
            "                                                                                                  \n",
            " block13_sepconv2_act (Activati  (None, 14, 14, 728)  0          ['block13_sepconv1_bn[0][0]']    \n",
            " on)                                                                                              \n",
            "                                                                                                  \n",
            " block13_sepconv2 (SeparableCon  (None, 14, 14, 1024  752024     ['block13_sepconv2_act[0][0]']   \n",
            " v2D)                           )                                                                 \n",
            "                                                                                                  \n",
            " block13_sepconv2_bn (BatchNorm  (None, 14, 14, 1024  4096       ['block13_sepconv2[0][0]']       \n",
            " alization)                     )                                                                 \n",
            "                                                                                                  \n",
            " conv2d_97 (Conv2D)             (None, 7, 7, 1024)   745472      ['add_10[0][0]']                 \n",
            "                                                                                                  \n",
            " block13_pool (MaxPooling2D)    (None, 7, 7, 1024)   0           ['block13_sepconv2_bn[0][0]']    \n",
            "                                                                                                  \n",
            " batch_normalization_97 (BatchN  (None, 7, 7, 1024)  4096        ['conv2d_97[0][0]']              \n",
            " ormalization)                                                                                    \n",
            "                                                                                                  \n",
            " add_11 (Add)                   (None, 7, 7, 1024)   0           ['block13_pool[0][0]',           \n",
            "                                                                  'batch_normalization_97[0][0]'] \n",
            "                                                                                                  \n",
            " block14_sepconv1 (SeparableCon  (None, 7, 7, 1536)  1582080     ['add_11[0][0]']                 \n",
            " v2D)                                                                                             \n",
            "                                                                                                  \n",
            " block14_sepconv1_bn (BatchNorm  (None, 7, 7, 1536)  6144        ['block14_sepconv1[0][0]']       \n",
            " alization)                                                                                       \n",
            "                                                                                                  \n",
            " block14_sepconv1_act (Activati  (None, 7, 7, 1536)  0           ['block14_sepconv1_bn[0][0]']    \n",
            " on)                                                                                              \n",
            "                                                                                                  \n",
            " block14_sepconv2 (SeparableCon  (None, 7, 7, 2048)  3159552     ['block14_sepconv1_act[0][0]']   \n",
            " v2D)                                                                                             \n",
            "                                                                                                  \n",
            " block14_sepconv2_bn (BatchNorm  (None, 7, 7, 2048)  8192        ['block14_sepconv2[0][0]']       \n",
            " alization)                                                                                       \n",
            "                                                                                                  \n",
            " block14_sepconv2_act (Activati  (None, 7, 7, 2048)  0           ['block14_sepconv2_bn[0][0]']    \n",
            " on)                                                                                              \n",
            "                                                                                                  \n",
            " flatten_5 (Flatten)            (None, 100352)       0           ['block14_sepconv2_act[0][0]']   \n",
            "                                                                                                  \n",
            " dense_5 (Dense)                (None, 16)           1605648     ['flatten_5[0][0]']              \n",
            "                                                                                                  \n",
            "==================================================================================================\n",
            "Total params: 22,467,128\n",
            "Trainable params: 1,605,648\n",
            "Non-trainable params: 20,861,480\n",
            "__________________________________________________________________________________________________\n"
          ]
        }
      ]
    },
    {
      "cell_type": "code",
      "source": [
        "xception_model.compile(loss='categorical_crossentropy', optimizer='adam', metrics=['accuracy'])\n"
      ],
      "metadata": {
        "id": "QF5KnoyHhUTE"
      },
      "execution_count": null,
      "outputs": []
    },
    {
      "cell_type": "code",
      "source": [
        "xception_model.fit_generator(train, epochs=10, validation_data=test, steps_per_epoch=len(train), validation_steps=len(test))\n"
      ],
      "metadata": {
        "colab": {
          "base_uri": "https://localhost:8080/"
        },
        "id": "xgmCS49whWKK",
        "outputId": "1c1174f4-4ba5-44b0-9015-88b95bab993e"
      },
      "execution_count": null,
      "outputs": [
        {
          "output_type": "stream",
          "name": "stderr",
          "text": [
            "<ipython-input-88-66ed3aaf8f62>:1: UserWarning: `Model.fit_generator` is deprecated and will be removed in a future version. Please use `Model.fit`, which supports generators.\n",
            "  xception_model.fit_generator(train, epochs=10, validation_data=test, steps_per_epoch=len(train), validation_steps=len(test))\n"
          ]
        },
        {
          "output_type": "stream",
          "name": "stdout",
          "text": [
            "Epoch 1/10\n",
            "7/7 [==============================] - 108s 16s/step - loss: 7.3407 - accuracy: 0.3533 - val_loss: 8.7848 - val_accuracy: 0.4076\n",
            "Epoch 2/10\n",
            "7/7 [==============================] - 86s 13s/step - loss: 1.6053 - accuracy: 0.7800 - val_loss: 9.6903 - val_accuracy: 0.4395\n",
            "Epoch 3/10\n",
            "7/7 [==============================] - 87s 14s/step - loss: 0.5143 - accuracy: 0.9267 - val_loss: 11.0276 - val_accuracy: 0.4459\n",
            "Epoch 4/10\n",
            "7/7 [==============================] - 119s 19s/step - loss: 0.3601 - accuracy: 0.9600 - val_loss: 11.7372 - val_accuracy: 0.4395\n",
            "Epoch 5/10\n",
            "7/7 [==============================] - 119s 19s/step - loss: 0.3430 - accuracy: 0.9667 - val_loss: 12.2848 - val_accuracy: 0.4395\n",
            "Epoch 6/10\n",
            "7/7 [==============================] - 84s 13s/step - loss: 0.1530 - accuracy: 0.9533 - val_loss: 13.6495 - val_accuracy: 0.4586\n",
            "Epoch 7/10\n",
            "7/7 [==============================] - 119s 19s/step - loss: 0.1361 - accuracy: 0.9800 - val_loss: 15.3631 - val_accuracy: 0.4841\n",
            "Epoch 8/10\n",
            "7/7 [==============================] - 83s 13s/step - loss: 0.2317 - accuracy: 0.9733 - val_loss: 14.8950 - val_accuracy: 0.4650\n",
            "Epoch 9/10\n",
            "7/7 [==============================] - 85s 13s/step - loss: 0.0384 - accuracy: 0.9867 - val_loss: 15.4868 - val_accuracy: 0.4268\n",
            "Epoch 10/10\n",
            "7/7 [==============================] - 119s 19s/step - loss: 0.0297 - accuracy: 0.9933 - val_loss: 18.1387 - val_accuracy: 0.3885\n"
          ]
        },
        {
          "output_type": "execute_result",
          "data": {
            "text/plain": [
              "<keras.callbacks.History at 0x7fa638a6a8c0>"
            ]
          },
          "metadata": {},
          "execution_count": 88
        }
      ]
    },
    {
      "cell_type": "code",
      "source": [
        "# Testing 1 -->This xception model also has the accuracy of 40 so we test the model using examples taken from the test data which exactly gives the same output as inception model.\n",
        "img1 = image.load_img('/content/test_data/test_data/cbrtsh/_D32_10310.jpg',target_size=(224,224))\n",
        "img1 = image.img_to_array(img1)\n",
        "img1 = np.expand_dims(img1,axis=0)\n",
        "pred = np.argmax(model.predict(img1))\n",
        "print(pred)\n",
        "output = ['blasti','bonegl','brhkyt','cbrtsh','cmnmyn','gretit','hilpig','himbul','hsparo','indvul','jglowl','lbicrw','mgprob','rebimg','wcrsrt']\n",
        "print(output[pred])"
      ],
      "metadata": {
        "colab": {
          "base_uri": "https://localhost:8080/"
        },
        "id": "VE1n4GV0iBQl",
        "outputId": "a7e91727-3137-47d1-9785-b75530439a4a"
      },
      "execution_count": null,
      "outputs": [
        {
          "output_type": "stream",
          "name": "stdout",
          "text": [
            "1/1 [==============================] - 0s 21ms/step\n",
            "7\n",
            "himbul\n"
          ]
        }
      ]
    },
    {
      "cell_type": "code",
      "source": [
        "# Testing 2\n",
        "img2 = image.load_img('/content/test_data/test_data/brhkyt/D72_0473.jpg',target_size=(224,224))\n",
        "img2 = image.img_to_array(img2)\n",
        "img2 = np.expand_dims(img2,axis=0)\n",
        "pred = np.argmax(model.predict(img2))\n",
        "print(pred)\n",
        "output = ['blasti','bonegl','brhkyt','cbrtsh','cmnmyn','gretit','hilpig','himbul','hsparo','indvul','jglowl','lbicrw','mgprob','rebimg','wcrsrt']\n",
        "\n",
        "print(output[pred])"
      ],
      "metadata": {
        "colab": {
          "base_uri": "https://localhost:8080/"
        },
        "id": "OQ8OPDGliJXJ",
        "outputId": "1497512a-84a0-4fa4-b9f5-1333fdc4138b"
      },
      "execution_count": null,
      "outputs": [
        {
          "output_type": "stream",
          "name": "stdout",
          "text": [
            "1/1 [==============================] - 0s 30ms/step\n",
            "2\n",
            "brhkyt\n"
          ]
        }
      ]
    },
    {
      "cell_type": "code",
      "source": [
        "# Testing 3\n",
        "img3 = image.load_img('/content/test_data/test_data/bonegl/DSC_4587.jpg',target_size=(224,224))\n",
        "img3 = image.img_to_array(img3)\n",
        "img3 = np.expand_dims(img3,axis=0)\n",
        "pred = np.argmax(model.predict(img3))\n",
        "output = ['blasti','bonegl','brhkyt','cbrtsh','cmnmyn','gretit','hilpig','himbul','hsparo','indvul','jglowl','lbicrw','mgprob','rebimg','wcrsrt']\n",
        "\n",
        "print(pred)\n",
        "\n",
        "print(output[pred])"
      ],
      "metadata": {
        "colab": {
          "base_uri": "https://localhost:8080/"
        },
        "id": "3dar1tPViS0E",
        "outputId": "ec66ab8c-2bc7-43bf-ef04-690395109b4e"
      },
      "execution_count": null,
      "outputs": [
        {
          "output_type": "stream",
          "name": "stdout",
          "text": [
            "1/1 [==============================] - 0s 19ms/step\n",
            "7\n",
            "himbul\n"
          ]
        }
      ]
    },
    {
      "cell_type": "code",
      "source": [
        "# Testing 4\n",
        "img4 = image.load_img('/content/test_data/test_data/blasti/DSC_6396.jpg',target_size=(224,224))\n",
        "img4 = image.img_to_array(img4)\n",
        "img4 = np.expand_dims(img4,axis=0)\n",
        "pred = np.argmax(model.predict(img4))\n",
        "print(pred)\n",
        "output = ['blasti','bonegl','brhkyt','cbrtsh','cmnmyn','gretit','hilpig','himbul','hsparo','indvul','jglowl','lbicrw','mgprob','rebimg','wcrsrt']\n",
        "print(output[pred])"
      ],
      "metadata": {
        "colab": {
          "base_uri": "https://localhost:8080/"
        },
        "id": "3IpyAUlCieeF",
        "outputId": "cf040d57-b5a5-4007-fe6f-6f9e830de524"
      },
      "execution_count": null,
      "outputs": [
        {
          "output_type": "stream",
          "name": "stdout",
          "text": [
            "1/1 [==============================] - 0s 22ms/step\n",
            "0\n",
            "blasti\n"
          ]
        }
      ]
    },
    {
      "cell_type": "code",
      "source": [
        "# Testing 5\n",
        "img5 = image.load_img('/content/test_data/test_data/rebimg/100_5756.JPG',target_size=(224,224))\n",
        "img5 = image.img_to_array(img5)\n",
        "img5 = np.expand_dims(img5,axis=0)\n",
        "pred = np.argmax(model.predict(img5))\n",
        "print(pred)\n",
        "output = ['blasti','bonegl','brhkyt','cbrtsh','cmnmyn','gretit','hilpig','himbul','hsparo','indvul','jglowl','lbicrw','mgprob','rebimg','wcrsrt']\n",
        "print(output[pred])"
      ],
      "metadata": {
        "colab": {
          "base_uri": "https://localhost:8080/"
        },
        "id": "NO7fug_EiiVJ",
        "outputId": "d0e22b6c-cc01-4944-904a-e67aa6bee715"
      },
      "execution_count": null,
      "outputs": [
        {
          "output_type": "stream",
          "name": "stdout",
          "text": [
            "1/1 [==============================] - 0s 20ms/step\n",
            "14\n",
            "wcrsrt\n"
          ]
        }
      ]
    },
    {
      "cell_type": "code",
      "source": [
        "img6 = image.load_img('/content/test_data/test_data/jglowl/_D32_10587.jpg',target_size=(224,224))\n",
        "img6 = image.img_to_array(img6)\n",
        "img6 = np.expand_dims(img6,axis=0)\n",
        "pred = np.argmax(model.predict(img6))\n",
        "print(pred)\n",
        "output = ['blasti','bonegl','brhkyt','cbrtsh','cmnmyn','gretit','hilpig','himbul','hsparo','indvul','jglowl','lbicrw','mgprob','rebimg','wcrsrt']\n",
        "print(output[pred])"
      ],
      "metadata": {
        "colab": {
          "base_uri": "https://localhost:8080/"
        },
        "id": "L9IKhjSZioOx",
        "outputId": "c272492e-6032-4696-c627-1d35ff424c29"
      },
      "execution_count": null,
      "outputs": [
        {
          "output_type": "stream",
          "name": "stdout",
          "text": [
            "1/1 [==============================] - 0s 30ms/step\n",
            "14\n",
            "wcrsrt\n"
          ]
        }
      ]
    },
    {
      "cell_type": "code",
      "source": [
        "img7 = image.load_img('/content/test_data/test_data/cmnmyn/DSC_2443.jpg',target_size=(224,224))\n",
        "img7 = image.img_to_array(img7)\n",
        "img7 = np.expand_dims(img7,axis=0)\n",
        "pred = np.argmax(model.predict(img7))\n",
        "print(pred)\n",
        "output = ['blasti','bonegl','brhkyt','cbrtsh','cmnmyn','gretit','hilpig','himbul','hsparo','indvul','jglowl','lbicrw','mgprob','rebimg','wcrsrt']\n",
        "print(output[pred])"
      ],
      "metadata": {
        "colab": {
          "base_uri": "https://localhost:8080/"
        },
        "id": "ZDlky8t6itN_",
        "outputId": "158e5096-7663-4684-fca7-fd4a6036ff5e"
      },
      "execution_count": null,
      "outputs": [
        {
          "output_type": "stream",
          "name": "stdout",
          "text": [
            "1/1 [==============================] - 0s 19ms/step\n",
            "7\n",
            "himbul\n"
          ]
        }
      ]
    },
    {
      "cell_type": "code",
      "source": [
        "img8 = image.load_img('/content/test_data/test_data/gretit/D72_0693.jpg',target_size=(224,224))\n",
        "img8 = image.img_to_array(img8)\n",
        "img8 = np.expand_dims(img8,axis=0)\n",
        "pred = np.argmax(model.predict(img8))\n",
        "print(pred)\n",
        "output = ['blasti','bonegl','brhkyt','cbrtsh','cmnmyn','gretit','hilpig','himbul','hsparo','indvul','jglowl','lbicrw','mgprob','rebimg','wcrsrt']\n",
        "print(output[pred])"
      ],
      "metadata": {
        "colab": {
          "base_uri": "https://localhost:8080/"
        },
        "id": "AgA6cZiiiyDK",
        "outputId": "75f08149-1b70-476d-cb77-63c1233aee23"
      },
      "execution_count": null,
      "outputs": [
        {
          "output_type": "stream",
          "name": "stdout",
          "text": [
            "1/1 [==============================] - 0s 20ms/step\n",
            "4\n",
            "cmnmyn\n"
          ]
        }
      ]
    },
    {
      "cell_type": "code",
      "source": [
        "img9 = image.load_img('/content/test_data/test_data/hilpig/DSC_6359.jpg',target_size=(224,224))\n",
        "img9 = image.img_to_array(img9)\n",
        "img9 = np.expand_dims(img9,axis=0)\n",
        "pred = np.argmax(model.predict(img9))\n",
        "print(pred)\n",
        "output = ['blasti','bonegl','brhkyt','cbrtsh','cmnmyn','gretit','hilpig','himbul','hsparo','indvul','jglowl','lbicrw','mgprob','rebimg','wcrsrt']\n",
        "print(output[pred])"
      ],
      "metadata": {
        "colab": {
          "base_uri": "https://localhost:8080/"
        },
        "id": "luBE-ajDi3pB",
        "outputId": "11bb72e1-d4a3-41b9-94a5-3f050bc68c4c"
      },
      "execution_count": null,
      "outputs": [
        {
          "output_type": "stream",
          "name": "stdout",
          "text": [
            "1/1 [==============================] - 0s 24ms/step\n",
            "7\n",
            "himbul\n"
          ]
        }
      ]
    },
    {
      "cell_type": "code",
      "source": [
        "img10 = image.load_img('/content/test_data/test_data/himbul/_D32_10242.jpg',target_size=(224,224))\n",
        "img10 = image.img_to_array(img10)\n",
        "img10 = np.expand_dims(img10,axis=0)\n",
        "pred = np.argmax(model.predict(img10))\n",
        "print(pred)\n",
        "output = ['blasti','bonegl','brhkyt','cbrtsh','cmnmyn','gretit','hilpig','himbul','hsparo','indvul','jglowl','lbicrw','mgprob','rebimg','wcrsrt']\n",
        "print(output[pred])"
      ],
      "metadata": {
        "colab": {
          "base_uri": "https://localhost:8080/"
        },
        "id": "bh1lY76QmQG_",
        "outputId": "a225303b-bf24-4228-a4e8-27e4859a69a9"
      },
      "execution_count": null,
      "outputs": [
        {
          "output_type": "stream",
          "name": "stdout",
          "text": [
            "1/1 [==============================] - 0s 19ms/step\n",
            "4\n",
            "cmnmyn\n"
          ]
        }
      ]
    },
    {
      "cell_type": "code",
      "source": [
        "img11 = image.load_img('/content/test_data/test_data/himgri/IMG_5384.JPG',target_size=(224,224))\n",
        "img11 = image.img_to_array(img11)\n",
        "img11 = np.expand_dims(img11,axis=0)\n",
        "pred = np.argmax(model.predict(img11))\n",
        "print(pred)\n",
        "output = ['blasti','bonegl','brhkyt','cbrtsh','cmnmyn','gretit','hilpig','himbul','hsparo','indvul','jglowl','lbicrw','mgprob','rebimg','wcrsrt']\n",
        "print(output[pred])"
      ],
      "metadata": {
        "colab": {
          "base_uri": "https://localhost:8080/"
        },
        "id": "ZKbsrWb2mWN8",
        "outputId": "95281384-a745-45ab-c41c-381cee9be410"
      },
      "execution_count": null,
      "outputs": [
        {
          "output_type": "stream",
          "name": "stdout",
          "text": [
            "1/1 [==============================] - 0s 22ms/step\n",
            "7\n",
            "himbul\n"
          ]
        }
      ]
    },
    {
      "cell_type": "code",
      "source": [
        "img12 = image.load_img('/content/test_data/test_data/hsparo/DSC_4521.jpg',target_size=(224,224))\n",
        "img12 = image.img_to_array(img12)\n",
        "img12 = np.expand_dims(img12,axis=0)\n",
        "pred = np.argmax(model.predict(img12))\n",
        "print(pred)\n",
        "output = ['blasti','bonegl','brhkyt','cbrtsh','cmnmyn','gretit','hilpig','himbul','hsparo','indvul','jglowl','lbicrw','mgprob','rebimg','wcrsrt']\n",
        "print(output[pred])"
      ],
      "metadata": {
        "colab": {
          "base_uri": "https://localhost:8080/"
        },
        "id": "RWaTLkuOmceq",
        "outputId": "08c69b48-8315-423a-f27c-aa4cc4aa760f"
      },
      "execution_count": null,
      "outputs": [
        {
          "output_type": "stream",
          "name": "stdout",
          "text": [
            "1/1 [==============================] - 0s 29ms/step\n",
            "14\n",
            "wcrsrt\n"
          ]
        }
      ]
    },
    {
      "cell_type": "code",
      "source": [
        "img13 = image.load_img('/content/test_data/test_data/indvul/DSC_1263.jpg',target_size=(224,224))\n",
        "img13 = image.img_to_array(img13)\n",
        "img13 = np.expand_dims(img13,axis=0)\n",
        "pred = np.argmax(model.predict(img13))\n",
        "print(pred)\n",
        "output = ['blasti','bonegl','brhkyt','cbrtsh','cmnmyn','gretit','hilpig','himbul','hsparo','indvul','jglowl','lbicrw','mgprob','rebimg','wcrsrt']\n",
        "print(output[pred])"
      ],
      "metadata": {
        "colab": {
          "base_uri": "https://localhost:8080/"
        },
        "id": "GFOM9x1CmjyZ",
        "outputId": "284e1d20-9812-4427-b3cb-17e7262d5fb9"
      },
      "execution_count": null,
      "outputs": [
        {
          "output_type": "stream",
          "name": "stdout",
          "text": [
            "1/1 [==============================] - 0s 27ms/step\n",
            "14\n",
            "wcrsrt\n"
          ]
        }
      ]
    },
    {
      "cell_type": "code",
      "source": [
        "img14 = image.load_img('/content/test_data/test_data/lbicrw/100_4917.JPG',target_size=(224,224))\n",
        "img14 = image.img_to_array(img14)\n",
        "img14 = np.expand_dims(img14,axis=0)\n",
        "print(img14)\n",
        "pred = np.argmax(model.predict(img14))\n",
        "print(pred)\n",
        "output = ['blasti','bonegl','brhkyt','cbrtsh','cmnmyn','gretit','hilpig','himbul','hsparo','indvul','jglowl','lbicrw','mgprob','rebimg','wcrsrt']\n",
        "print(output[pred])"
      ],
      "metadata": {
        "colab": {
          "base_uri": "https://localhost:8080/"
        },
        "id": "udMVIuu0mpch",
        "outputId": "e4ab0ebe-61f2-411e-81f2-3267adb9dff5"
      },
      "execution_count": null,
      "outputs": [
        {
          "output_type": "stream",
          "name": "stdout",
          "text": [
            "[[[[115. 120. 126.]\n",
            "   [116. 120. 129.]\n",
            "   [114. 118. 127.]\n",
            "   ...\n",
            "   [115. 119. 128.]\n",
            "   [115. 117. 129.]\n",
            "   [116. 119. 128.]]\n",
            "\n",
            "  [[115. 120. 126.]\n",
            "   [116. 120. 129.]\n",
            "   [114. 118. 127.]\n",
            "   ...\n",
            "   [117. 121. 130.]\n",
            "   [115. 117. 129.]\n",
            "   [116. 119. 128.]]\n",
            "\n",
            "  [[118. 123. 129.]\n",
            "   [117. 120. 129.]\n",
            "   [113. 122. 129.]\n",
            "   ...\n",
            "   [115. 119. 128.]\n",
            "   [115. 117. 129.]\n",
            "   [115. 117. 129.]]\n",
            "\n",
            "  ...\n",
            "\n",
            "  [[118. 117. 122.]\n",
            "   [117. 116. 121.]\n",
            "   [118. 119. 123.]\n",
            "   ...\n",
            "   [114. 113. 121.]\n",
            "   [115. 116. 121.]\n",
            "   [113. 113. 121.]]\n",
            "\n",
            "  [[120. 121. 125.]\n",
            "   [117. 118. 123.]\n",
            "   [119. 118. 124.]\n",
            "   ...\n",
            "   [115. 114. 122.]\n",
            "   [116. 115. 123.]\n",
            "   [113. 114. 119.]]\n",
            "\n",
            "  [[116. 117. 121.]\n",
            "   [119. 120. 125.]\n",
            "   [118. 117. 123.]\n",
            "   ...\n",
            "   [115. 114. 122.]\n",
            "   [116. 115. 123.]\n",
            "   [114. 115. 120.]]]]\n",
            "1/1 [==============================] - 0s 23ms/step\n",
            "12\n",
            "mgprob\n"
          ]
        }
      ]
    },
    {
      "cell_type": "markdown",
      "source": [
        "**Result:**\n",
        "**We get the accuracy of 40 percent in vgg16,Inception and Xception also if we test the model twice with the same examples gives the same output.\n",
        "This accuracy is because we have 150 images in training dataset and 157 images in testing dataset which causes the model to overfit.\n",
        "Overfitting happens due to several reasons, such as: • The training data size is too small and does not contain enough data samples to accurately represent all possible input data values.\n",
        "In the model testing we get two to three images same to the class defined in the dataset out of 16 classess.**"
      ],
      "metadata": {
        "id": "cQz-93bzeJ7V"
      }
    }
  ]
}