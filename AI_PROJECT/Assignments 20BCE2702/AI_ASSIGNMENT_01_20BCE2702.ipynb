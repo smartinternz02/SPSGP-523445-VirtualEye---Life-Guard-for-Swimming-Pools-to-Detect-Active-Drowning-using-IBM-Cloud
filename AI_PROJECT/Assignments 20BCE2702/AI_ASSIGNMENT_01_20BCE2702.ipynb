{
  "cells": [
    {
      "attachments": {},
      "cell_type": "markdown",
      "metadata": {
        "id": "kSVfZafSy45a"
      },
      "source": [
        "**AI ASSIGNMENT-01 20BCE2702**"
      ]
    },
    {
      "cell_type": "code",
      "execution_count": null,
      "metadata": {
        "colab": {
          "base_uri": "https://localhost:8080/"
        },
        "id": "gaFA6-oUslbr",
        "outputId": "38155d93-da33-4810-f498-188a57d0269a"
      },
      "outputs": [
        {
          "name": "stdout",
          "output_type": "stream",
          "text": [
            "Drive already mounted at /content/drive; to attempt to forcibly remount, call drive.mount(\"/content/drive\", force_remount=True).\n"
          ]
        }
      ],
      "source": [
        "from google.colab import drive\n",
        "drive.mount('/content/drive')"
      ]
    },
    {
      "cell_type": "code",
      "execution_count": null,
      "metadata": {
        "id": "soSqN4zqymZM"
      },
      "outputs": [],
      "source": [
        "#import the necessary library\n",
        "import pandas as pd\n",
        "import numpy as np\n",
        "\n"
      ]
    },
    {
      "cell_type": "code",
      "execution_count": null,
      "metadata": {
        "colab": {
          "base_uri": "https://localhost:8080/"
        },
        "id": "S7ri4ARDzS4a",
        "outputId": "1ee55166-6b6b-46c9-f30e-4e8f324688ec"
      },
      "outputs": [
        {
          "name": "stdout",
          "output_type": "stream",
          "text": [
            "Task 1 - DataFrame:\n",
            "          0         1         2         3\n",
            "0  0.715637  0.515142  0.704622  0.613843\n",
            "1  0.703321  0.377269  0.526946  0.278215\n",
            "2  0.886158  0.689844  0.897467  0.566502\n",
            "3  0.071703  0.132312  0.677964  0.835502\n"
          ]
        }
      ],
      "source": [
        "# Task 1: Create a pandas dataframe with numpy random values\n",
        "data = np.random.rand(4, 4)\n",
        "df = pd.DataFrame(data)\n",
        "print(\"Task 1 - DataFrame:\")\n",
        "print(df)"
      ]
    },
    {
      "cell_type": "code",
      "execution_count": null,
      "metadata": {
        "id": "T_7x7O_-zgZ-"
      },
      "outputs": [],
      "source": [
        "# Task 2: Rename the column names\n",
        "df.columns = ['Random value 1', 'Random value 2', 'Random value 3', 'Random value 4']\n"
      ]
    },
    {
      "cell_type": "code",
      "execution_count": null,
      "metadata": {
        "colab": {
          "base_uri": "https://localhost:8080/"
        },
        "id": "j43yB_K-znfC",
        "outputId": "b060d004-842b-4157-bc59-c2bc64705f97"
      },
      "outputs": [
        {
          "name": "stdout",
          "output_type": "stream",
          "text": [
            "\n",
            "Task 2 - Renamed column names:\n",
            "Index(['Random value 1', 'Random value 2', 'Random value 3', 'Random value 4'], dtype='object')\n"
          ]
        }
      ],
      "source": [
        "print(\"\\nTask 2 - Renamed column names:\")\n",
        "print(df.columns)"
      ]
    },
    {
      "cell_type": "code",
      "execution_count": null,
      "metadata": {
        "colab": {
          "base_uri": "https://localhost:8080/"
        },
        "id": "wiN5P19_ywoI",
        "outputId": "ea669bf3-6024-4149-ebac-9249aa070768"
      },
      "outputs": [
        {
          "name": "stdout",
          "output_type": "stream",
          "text": [
            "   Random value 1  Random value 2  Random value 3  Random value 4\n",
            "0        0.715637        0.515142        0.704622        0.613843\n",
            "1        0.703321        0.377269        0.526946        0.278215\n",
            "2        0.886158        0.689844        0.897467        0.566502\n",
            "3        0.071703        0.132312        0.677964        0.835502\n"
          ]
        }
      ],
      "source": [
        "# output of the columns that are renamed.\n",
        "print(df)"
      ]
    },
    {
      "cell_type": "code",
      "execution_count": null,
      "metadata": {
        "id": "E9Hl4LZ1ztkj"
      },
      "outputs": [],
      "source": [
        "# Task 3: Descriptive statistics\n",
        "statistics = df.describe(include='all')"
      ]
    },
    {
      "cell_type": "code",
      "execution_count": null,
      "metadata": {
        "colab": {
          "base_uri": "https://localhost:8080/"
        },
        "id": "0qBsM2i9z1QN",
        "outputId": "ef1a5d08-c58c-41e5-d665-5c811e0c823e"
      },
      "outputs": [
        {
          "name": "stdout",
          "output_type": "stream",
          "text": [
            "\n",
            "Task 3 - Descriptive statistics:\n",
            "       Random value 1  Random value 2  Random value 3  Random value 4\n",
            "count        4.000000        4.000000        4.000000        4.000000\n",
            "mean         0.594204        0.428642        0.701750        0.573515\n",
            "std          0.358189        0.235343        0.152136        0.229140\n",
            "min          0.071703        0.132312        0.526946        0.278215\n",
            "25%          0.545416        0.316029        0.640209        0.494430\n",
            "50%          0.709479        0.446205        0.691293        0.590172\n",
            "75%          0.758267        0.558818        0.752834        0.669258\n",
            "max          0.886158        0.689844        0.897467        0.835502\n"
          ]
        }
      ],
      "source": [
        "print(\"\\nTask 3 - Descriptive statistics:\")\n",
        "print(statistics)"
      ]
    },
    {
      "cell_type": "code",
      "execution_count": null,
      "metadata": {
        "colab": {
          "base_uri": "https://localhost:8080/"
        },
        "id": "6CvpIkv4z8n6",
        "outputId": "efc240fe-0560-41c6-9aeb-c9e57c18becd"
      },
      "outputs": [
        {
          "name": "stdout",
          "output_type": "stream",
          "text": [
            "\n",
            "Task 4 - Null values:\n",
            "Random value 1    0\n",
            "Random value 2    0\n",
            "Random value 3    0\n",
            "Random value 4    0\n",
            "dtype: int64\n"
          ]
        }
      ],
      "source": [
        "# Task 4: Check for null values \n",
        "null_values = df.isnull().sum()\n",
        "print(\"\\nTask 4 - Null values:\")\n",
        "print(null_values)\n",
        "\n"
      ]
    },
    {
      "cell_type": "code",
      "execution_count": null,
      "metadata": {
        "colab": {
          "base_uri": "https://localhost:8080/"
        },
        "id": "5K53GjbnzVNX",
        "outputId": "abcd26db-002f-43c4-ec76-f74fd8f3d384"
      },
      "outputs": [
        {
          "name": "stdout",
          "output_type": "stream",
          "text": [
            "\n",
            "Task 4 - Data types:\n",
            "Random value 1    float64\n",
            "Random value 2    float64\n",
            "Random value 3    float64\n",
            "Random value 4    float64\n",
            "dtype: object\n"
          ]
        }
      ],
      "source": [
        "# Task 4: Check for data types\n",
        "data_types = df.dtypes\n",
        "print(\"\\nTask 4 - Data types:\")\n",
        "print(data_types)\n"
      ]
    },
    {
      "cell_type": "code",
      "execution_count": null,
      "metadata": {
        "colab": {
          "base_uri": "https://localhost:8080/"
        },
        "id": "0Q1mKoql0CiQ",
        "outputId": "30761196-7800-4d30-f41c-8cbcf3e8daa5"
      },
      "outputs": [
        {
          "name": "stdout",
          "output_type": "stream",
          "text": [
            "\n",
            "Task 5 - 'Random value 2' column using loc:\n",
            "0    0.515142\n",
            "1    0.377269\n",
            "2    0.689844\n",
            "3    0.132312\n",
            "Name: Random value 2, dtype: float64\n"
          ]
        }
      ],
      "source": [
        "# Task 5: Display columns using location \n",
        "random_value_2_loc = df.loc[:, 'Random value 2']\n",
        "print(\"\\nTask 5 - 'Random value 2' column using loc:\")\n",
        "print(random_value_2_loc)\n"
      ]
    },
    {
      "cell_type": "code",
      "execution_count": null,
      "metadata": {
        "colab": {
          "base_uri": "https://localhost:8080/"
        },
        "id": "Ctiq0GHg0ow5",
        "outputId": "4dbd7444-8fb4-461a-c1e4-84c19b5af4e6"
      },
      "outputs": [
        {
          "name": "stdout",
          "output_type": "stream",
          "text": [
            "\n",
            "Task 5 - 'Random value 2' column using iloc:\n",
            "0    0.515142\n",
            "1    0.377269\n",
            "2    0.689844\n",
            "3    0.132312\n",
            "Name: Random value 2, dtype: float64\n"
          ]
        }
      ],
      "source": [
        "random_value_2_iloc = df.iloc[:, 1]  # Assuming the column index for 'Random value 2' is 1\n",
        "print(\"\\nTask 5 - 'Random value 2' column using iloc:\")\n",
        "print(random_value_2_iloc)\n"
      ]
    },
    {
      "cell_type": "code",
      "execution_count": null,
      "metadata": {
        "colab": {
          "base_uri": "https://localhost:8080/"
        },
        "id": "WL1am7r30oeQ",
        "outputId": "3d5fb078-3f19-4f15-ea43-ca13e7a6466d"
      },
      "outputs": [
        {
          "name": "stdout",
          "output_type": "stream",
          "text": [
            "\n",
            "Task 5 - 'Random value 3' column using loc:\n",
            "0    0.704622\n",
            "1    0.526946\n",
            "2    0.897467\n",
            "3    0.677964\n",
            "Name: Random value 3, dtype: float64\n"
          ]
        }
      ],
      "source": [
        "#Display columns using location \n",
        "random_value_3_loc = df.loc[:, 'Random value 3']\n",
        "print(\"\\nTask 5 - 'Random value 3' column using loc:\")\n",
        "print(random_value_3_loc)"
      ]
    },
    {
      "cell_type": "code",
      "execution_count": null,
      "metadata": {
        "colab": {
          "base_uri": "https://localhost:8080/"
        },
        "id": "a2CCBGny0nzE",
        "outputId": "60170c74-f941-4057-d5fc-039825881213"
      },
      "outputs": [
        {
          "name": "stdout",
          "output_type": "stream",
          "text": [
            "\n",
            "Task 5 - 'Random value 3' column using iloc:\n",
            "0    0.704622\n",
            "1    0.526946\n",
            "2    0.897467\n",
            "3    0.677964\n",
            "Name: Random value 3, dtype: float64\n"
          ]
        }
      ],
      "source": [
        "random_value_3_iloc = df.iloc[:, 2]  # Assuming the column index for 'Random value 3' is 2\n",
        "print(\"\\nTask 5 - 'Random value 3' column using iloc:\")\n",
        "print(random_value_3_iloc)\n"
      ]
    }
  ],
  "metadata": {
    "colab": {
      "provenance": []
    },
    "kernelspec": {
      "display_name": "Python 3",
      "name": "python3"
    },
    "language_info": {
      "name": "python"
    }
  },
  "nbformat": 4,
  "nbformat_minor": 0
}
